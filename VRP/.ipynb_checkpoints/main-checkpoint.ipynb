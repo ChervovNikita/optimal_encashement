{
 "cells": [
  {
   "cell_type": "code",
   "execution_count": 2,
   "id": "3820964d-d6fa-48bf-b130-3a528b9bdab9",
   "metadata": {},
   "outputs": [],
   "source": [
    "import pandas as pd\n",
    "import numpy as np\n",
    "import sklearn"
   ]
  },
  {
   "cell_type": "code",
   "execution_count": 3,
   "id": "a2835029-2a5a-4a8b-a202-65183b207a76",
   "metadata": {},
   "outputs": [],
   "source": [
    "from sklearn import preprocessing"
   ]
  },
  {
   "cell_type": "markdown",
   "id": "08296203-9861-4b0f-ba0b-93ea6239b6ee",
   "metadata": {
    "tags": []
   },
   "source": [
    "## Read data"
   ]
  },
  {
   "cell_type": "code",
   "execution_count": 4,
   "id": "4151bcc6-f93f-4677-9c03-078fe4164fa5",
   "metadata": {},
   "outputs": [
    {
     "data": {
      "text/html": [
       "<div>\n",
       "<style scoped>\n",
       "    .dataframe tbody tr th:only-of-type {\n",
       "        vertical-align: middle;\n",
       "    }\n",
       "\n",
       "    .dataframe tbody tr th {\n",
       "        vertical-align: top;\n",
       "    }\n",
       "\n",
       "    .dataframe thead th {\n",
       "        text-align: right;\n",
       "    }\n",
       "</style>\n",
       "<table border=\"1\" class=\"dataframe\">\n",
       "  <thead>\n",
       "    <tr style=\"text-align: right;\">\n",
       "      <th></th>\n",
       "      <th>Origin_tid</th>\n",
       "      <th>Destination_tid</th>\n",
       "      <th>Total_Time</th>\n",
       "    </tr>\n",
       "  </thead>\n",
       "  <tbody>\n",
       "    <tr>\n",
       "      <th>0</th>\n",
       "      <td>636538</td>\n",
       "      <td>683103</td>\n",
       "      <td>15.32</td>\n",
       "    </tr>\n",
       "    <tr>\n",
       "      <th>1</th>\n",
       "      <td>636538</td>\n",
       "      <td>634763</td>\n",
       "      <td>16.20</td>\n",
       "    </tr>\n",
       "    <tr>\n",
       "      <th>2</th>\n",
       "      <td>636538</td>\n",
       "      <td>683128</td>\n",
       "      <td>16.27</td>\n",
       "    </tr>\n",
       "    <tr>\n",
       "      <th>3</th>\n",
       "      <td>636538</td>\n",
       "      <td>683789</td>\n",
       "      <td>16.77</td>\n",
       "    </tr>\n",
       "    <tr>\n",
       "      <th>4</th>\n",
       "      <td>636538</td>\n",
       "      <td>634709</td>\n",
       "      <td>17.67</td>\n",
       "    </tr>\n",
       "  </tbody>\n",
       "</table>\n",
       "</div>"
      ],
      "text/plain": [
       "   Origin_tid  Destination_tid  Total_Time\n",
       "0      636538           683103       15.32\n",
       "1      636538           634763       16.20\n",
       "2      636538           683128       16.27\n",
       "3      636538           683789       16.77\n",
       "4      636538           634709       17.67"
      ]
     },
     "execution_count": 4,
     "metadata": {},
     "output_type": "execute_result"
    }
   ],
   "source": [
    "dist = pd.read_csv('data/times v4.csv')\n",
    "dist.head()"
   ]
  },
  {
   "cell_type": "code",
   "execution_count": 5,
   "id": "67036fa6-30b6-4955-9b1a-537222f6946a",
   "metadata": {},
   "outputs": [
    {
     "data": {
      "text/html": [
       "<div>\n",
       "<style scoped>\n",
       "    .dataframe tbody tr th:only-of-type {\n",
       "        vertical-align: middle;\n",
       "    }\n",
       "\n",
       "    .dataframe tbody tr th {\n",
       "        vertical-align: top;\n",
       "    }\n",
       "\n",
       "    .dataframe thead th {\n",
       "        text-align: right;\n",
       "    }\n",
       "</style>\n",
       "<table border=\"1\" class=\"dataframe\">\n",
       "  <thead>\n",
       "    <tr style=\"text-align: right;\">\n",
       "      <th></th>\n",
       "      <th>Origin_tid</th>\n",
       "      <th>Destination_tid</th>\n",
       "      <th>Total_Time</th>\n",
       "    </tr>\n",
       "  </thead>\n",
       "  <tbody>\n",
       "    <tr>\n",
       "      <th>194048</th>\n",
       "      <td>683103</td>\n",
       "      <td>636538</td>\n",
       "      <td>14.92</td>\n",
       "    </tr>\n",
       "  </tbody>\n",
       "</table>\n",
       "</div>"
      ],
      "text/plain": [
       "        Origin_tid  Destination_tid  Total_Time\n",
       "194048      683103           636538       14.92"
      ]
     },
     "execution_count": 5,
     "metadata": {},
     "output_type": "execute_result"
    }
   ],
   "source": [
    "dist[(dist['Origin_tid'] == 683103) & (dist['Destination_tid'] == 636538)]"
   ]
  },
  {
   "cell_type": "code",
   "execution_count": 6,
   "id": "ec2bba5c-7299-4231-88ac-370991b80a02",
   "metadata": {},
   "outputs": [
    {
     "data": {
      "text/plain": [
       "2655270"
      ]
     },
     "execution_count": 6,
     "metadata": {},
     "output_type": "execute_result"
    }
   ],
   "source": [
    "len(dist)"
   ]
  },
  {
   "cell_type": "code",
   "execution_count": 7,
   "id": "b5710b53-ba3f-4a72-809b-9736cb52733a",
   "metadata": {},
   "outputs": [
    {
     "data": {
      "text/plain": [
       "10"
      ]
     },
     "execution_count": 7,
     "metadata": {},
     "output_type": "execute_result"
    }
   ],
   "source": [
    "(dist['Total_Time'] == 0).sum()"
   ]
  },
  {
   "cell_type": "code",
   "execution_count": 8,
   "id": "865dd998-3296-47bf-8094-c59ff5190667",
   "metadata": {},
   "outputs": [
    {
     "data": {
      "text/plain": [
       "1630"
      ]
     },
     "execution_count": 8,
     "metadata": {},
     "output_type": "execute_result"
    }
   ],
   "source": [
    "dist['Origin_tid'].nunique()"
   ]
  },
  {
   "cell_type": "code",
   "execution_count": 9,
   "id": "20466448-621b-47c4-a17e-b54729a4f88e",
   "metadata": {},
   "outputs": [],
   "source": [
    "le = sklearn.preprocessing.LabelEncoder()\n",
    "le.fit(dist['Origin_tid'])\n",
    "dist['from_int'] = le.transform(dist['Origin_tid'])\n",
    "dist['to_int'] = le.transform(dist['Destination_tid'])"
   ]
  },
  {
   "cell_type": "code",
   "execution_count": 10,
   "id": "3bb74e92-330a-4775-9054-95b3b2637c95",
   "metadata": {},
   "outputs": [
    {
     "data": {
      "text/plain": [
       "(0, 1629)"
      ]
     },
     "execution_count": 10,
     "metadata": {},
     "output_type": "execute_result"
    }
   ],
   "source": [
    "dist['from_int'].min(), dist['from_int'].max()"
   ]
  },
  {
   "cell_type": "markdown",
   "id": "be60b1a1-598f-45bd-8a5b-0b7ef3c467a6",
   "metadata": {},
   "source": [
    "## Setup configs"
   ]
  },
  {
   "cell_type": "code",
   "execution_count": 11,
   "id": "aadc749d-09d3-4d70-88c6-e2eaf3b4f16e",
   "metadata": {},
   "outputs": [],
   "source": [
    "config = {'cnt_terminals': dist['from_int'].max() + 1,\n",
    "          'persent_day_income': 0.02 / 365,\n",
    "          'terminal_service_cost': {'min': 100, 'persent': 0.01},\n",
    "          'max_terminal_money': 1000000,\n",
    "          'max_not_service_days': 14,\n",
    "          'armored_car_day_cost': 20000,\n",
    "          'work_time': 10 * 60,\n",
    "          'service_time': 10}"
   ]
  },
  {
   "cell_type": "markdown",
   "id": "cf20e6f2-1849-4738-9bd0-44a13bf6bc3d",
   "metadata": {},
   "source": [
    "## Searching optimal path"
   ]
  },
  {
   "cell_type": "code",
   "execution_count": 2,
   "id": "1672a1f8-9aa1-469e-a76d-a44de54fb292",
   "metadata": {},
   "outputs": [
    {
     "name": "stdout",
     "output_type": "stream",
     "text": [
      "Collecting ortools\n",
      "  Using cached ortools-9.6.2534-cp310-cp310-manylinux_2_17_x86_64.manylinux2014_x86_64.whl (16.4 MB)\n",
      "Collecting scipy>=1.10.0\n",
      "  Using cached scipy-1.10.1-cp310-cp310-manylinux_2_17_x86_64.manylinux2014_x86_64.whl (34.4 MB)\n",
      "Collecting protobuf>=4.21.12\n",
      "  Using cached protobuf-4.23.1-cp37-abi3-manylinux2014_x86_64.whl (304 kB)\n",
      "Requirement already satisfied: absl-py>=0.13 in /home/chervovn04/.local/lib/python3.10/site-packages (from ortools) (1.2.0)\n",
      "Requirement already satisfied: numpy>=1.13.3 in /home/chervovn04/.local/lib/python3.10/site-packages (from ortools) (1.23.2)\n",
      "Installing collected packages: scipy, protobuf, ortools\n",
      "  Attempting uninstall: scipy\n",
      "    Found existing installation: scipy 1.9.0\n",
      "    Not uninstalling scipy at /home/chervovn04/.local/lib/python3.10/site-packages, outside environment /home/chervovn04/Programming/hackathons/2023/encashment/VRP/venv\n",
      "    Can't uninstall 'scipy'. No files were found to uninstall.\n",
      "\u001b[31mERROR: pip's dependency resolver does not currently take into account all the packages that are installed. This behaviour is the source of the following dependency conflicts.\n",
      "tensorflow 2.9.1 requires protobuf<3.20,>=3.9.2, but you have protobuf 4.23.1 which is incompatible.\n",
      "tensorboard 2.9.1 requires protobuf<3.20,>=3.9.2, but you have protobuf 4.23.1 which is incompatible.\u001b[0m\u001b[31m\n",
      "\u001b[0mSuccessfully installed ortools-9.6.2534 protobuf-4.23.1 scipy-1.10.1\n"
     ]
    }
   ],
   "source": [
    "# !pip install ortools\n",
    "!python3 -m pip install --upgrade --user ortools"
   ]
  },
  {
   "cell_type": "code",
   "execution_count": 10,
   "id": "b229963c-3a7f-4367-bcf7-8a7d9c8ba4a8",
   "metadata": {},
   "outputs": [
    {
     "ename": "ModuleNotFoundError",
     "evalue": "No module named 'ortools'",
     "output_type": "error",
     "traceback": [
      "\u001b[0;31m---------------------------------------------------------------------------\u001b[0m",
      "\u001b[0;31mModuleNotFoundError\u001b[0m                       Traceback (most recent call last)",
      "Input \u001b[0;32mIn [10]\u001b[0m, in \u001b[0;36m<cell line: 11>\u001b[0;34m()\u001b[0m\n\u001b[1;32m      1\u001b[0m \u001b[38;5;124;03m\"\"\"Simple Vehicles Routing Problem (VRP).\u001b[39;00m\n\u001b[1;32m      2\u001b[0m \n\u001b[1;32m      3\u001b[0m \u001b[38;5;124;03m   This is a sample using the routing library python wrapper to solve a VRP\u001b[39;00m\n\u001b[0;32m   (...)\u001b[0m\n\u001b[1;32m      8\u001b[0m \u001b[38;5;124;03m   Distances are in meters.\u001b[39;00m\n\u001b[1;32m      9\u001b[0m \u001b[38;5;124;03m\"\"\"\u001b[39;00m\n\u001b[0;32m---> 11\u001b[0m \u001b[38;5;28;01mfrom\u001b[39;00m \u001b[38;5;21;01mortools\u001b[39;00m\u001b[38;5;21;01m.\u001b[39;00m\u001b[38;5;21;01mconstraint_solver\u001b[39;00m \u001b[38;5;28;01mimport\u001b[39;00m routing_enums_pb2\n\u001b[1;32m     12\u001b[0m \u001b[38;5;28;01mfrom\u001b[39;00m \u001b[38;5;21;01mortools\u001b[39;00m\u001b[38;5;21;01m.\u001b[39;00m\u001b[38;5;21;01mconstraint_solver\u001b[39;00m \u001b[38;5;28;01mimport\u001b[39;00m pywrapcp\n",
      "\u001b[0;31mModuleNotFoundError\u001b[0m: No module named 'ortools'"
     ]
    }
   ],
   "source": [
    "\"\"\"Simple Vehicles Routing Problem (VRP).\n",
    "\n",
    "   This is a sample using the routing library python wrapper to solve a VRP\n",
    "   problem.\n",
    "   A description of the problem can be found here:\n",
    "   http://en.wikipedia.org/wiki/Vehicle_routing_problem.\n",
    "\n",
    "   Distances are in meters.\n",
    "\"\"\"\n",
    "\n",
    "from ortools.constraint_solver import routing_enums_pb2\n",
    "from ortools.constraint_solver import pywrapcp"
   ]
  },
  {
   "cell_type": "code",
   "execution_count": 9,
   "id": "7f469306-f03e-479b-b9c4-e754d5cda7dd",
   "metadata": {},
   "outputs": [
    {
     "name": "stdout",
     "output_type": "stream",
     "text": [
      "Name: ortools\n",
      "Version: 9.6.2534\n",
      "Summary: Google OR-Tools python libraries and modules\n",
      "Home-page: https://developers.google.com/optimization/\n",
      "Author: Google LLC\n",
      "Author-email: or-tools@google.com\n",
      "License: Apache 2.0\n",
      "Location: /home/chervovn04/Programming/hackathons/2023/encashment/VRP/venv/lib/python3.10/site-packages\n",
      "Requires: absl-py, numpy, protobuf, scipy\n",
      "Required-by: \n"
     ]
    }
   ],
   "source": [
    "!python -m pip show ortools"
   ]
  },
  {
   "cell_type": "code",
   "execution_count": 13,
   "id": "ee5b02b5-8110-4dae-af80-109bf3250c12",
   "metadata": {},
   "outputs": [],
   "source": [
    "inf = int(1e4)\n",
    "cnt_terminals = config['cnt_terminals']\n",
    "distance_matrix = np.ones((cnt_terminals + 1, cnt_terminals + 1)) * inf\n",
    "for i, j, w in zip(dist['from_int'], dist['to_int'], dist['Total_Time']):\n",
    "    distance_matrix[i + 1, j + 1] = w + config['service_time']\n",
    "    \n",
    "for i in range(cnt_terminals + 1):\n",
    "    distance_matrix[i, 0] = inf\n",
    "    distance_matrix[0, i] = config['service_time']\n",
    "    distance_matrix[i, i] = 0"
   ]
  },
  {
   "cell_type": "code",
   "execution_count": 14,
   "id": "b3f9d31a-44af-4606-b57c-3cf5ebcf9812",
   "metadata": {},
   "outputs": [
    {
     "data": {
      "text/plain": [
       "1631"
      ]
     },
     "execution_count": 14,
     "metadata": {},
     "output_type": "execute_result"
    }
   ],
   "source": [
    "(distance_matrix == 0).sum()"
   ]
  },
  {
   "cell_type": "code",
   "execution_count": 15,
   "id": "a6b23c73-cf70-492d-a76b-b55c825550fe",
   "metadata": {},
   "outputs": [],
   "source": [
    "distance_matrix[distance_matrix <= 1] = 1"
   ]
  },
  {
   "cell_type": "code",
   "execution_count": 16,
   "id": "2e1a38a5-b785-4841-85aa-ba677b9949cd",
   "metadata": {},
   "outputs": [],
   "source": [
    "vrp_data = {'distance_matrix': distance_matrix,\n",
    "            'num_vehicles': 4,\n",
    "            'num_locations': cnt_terminals + 1,\n",
    "            'depot': 0}"
   ]
  },
  {
   "cell_type": "code",
   "execution_count": 17,
   "id": "2491104f-f58f-4280-832f-a071816ec544",
   "metadata": {},
   "outputs": [],
   "source": [
    "def print_solution(data, manager, routing, solution):\n",
    "    \"\"\"Prints solution on console.\"\"\"\n",
    "    print(f'Objective: {solution.ObjectiveValue()}')\n",
    "    max_route_distance = 0\n",
    "    for vehicle_id in range(data['num_vehicles']):\n",
    "        index = routing.Start(vehicle_id)\n",
    "        plan_output = 'Route for vehicle {}:\\n'.format(vehicle_id)\n",
    "        route_distance = 0\n",
    "        while not routing.IsEnd(index):\n",
    "            plan_output += ' {} -> '.format(manager.IndexToNode(index))\n",
    "            previous_index = index\n",
    "            index = solution.Value(routing.NextVar(index))\n",
    "            route_distance += routing.GetArcCostForVehicle(\n",
    "                previous_index, index, vehicle_id)\n",
    "        plan_output += '{}\\n'.format(manager.IndexToNode(index))\n",
    "        plan_output += 'Distance of the route: {}m\\n'.format(route_distance)\n",
    "        print(plan_output)\n",
    "        max_route_distance = max(route_distance, max_route_distance)\n",
    "    print('Maximum of the route distances: {}m'.format(max_route_distance))"
   ]
  },
  {
   "cell_type": "code",
   "execution_count": 18,
   "id": "326f1cef-a207-4095-a769-2b160291b816",
   "metadata": {},
   "outputs": [],
   "source": [
    "manager = pywrapcp.RoutingIndexManager(len(vrp_data['distance_matrix']),\n",
    "                                       vrp_data['num_vehicles'],\n",
    "                                       vrp_data['depot'])\n",
    "\n",
    "# Create Routing Model.\n",
    "routing = pywrapcp.RoutingModel(manager)\n",
    "\n",
    "\n",
    "# Create and register a transit callback.\n",
    "def distance_callback(from_index, to_index):\n",
    "    \"\"\"Returns the distance between the two nodes.\"\"\"\n",
    "    # Convert from routing variable Index to distance matrix NodeIndex.\n",
    "    from_node = manager.IndexToNode(from_index)\n",
    "    to_node = manager.IndexToNode(to_index)\n",
    "    return vrp_data['distance_matrix'][from_node][to_node]\n",
    "\n",
    "transit_callback_index = routing.RegisterTransitCallback(distance_callback)\n",
    "\n",
    "# Define cost of each arc.\n",
    "routing.SetArcCostEvaluatorOfAllVehicles(transit_callback_index)\n",
    "\n",
    "# Add Distance constraint.\n",
    "dimension_name = 'Distance'\n",
    "routing.AddDimension(\n",
    "    transit_callback_index,\n",
    "    0,  # no slack\n",
    "    config['work_time'] + inf,  # vehicle maximum travel distance\n",
    "    True,  # start cumul to zero\n",
    "    dimension_name)\n",
    "distance_dimension = routing.GetDimensionOrDie(dimension_name)\n",
    "distance_dimension.SetGlobalSpanCostCoefficient(100)\n",
    "\n",
    "# Setting first solution heuristic.\n",
    "search_parameters = pywrapcp.DefaultRoutingSearchParameters()\n",
    "search_parameters.first_solution_strategy = (routing_enums_pb2.FirstSolutionStrategy.AUTOMATIC)"
   ]
  },
  {
   "cell_type": "code",
   "execution_count": 21,
   "id": "784210c5-a27c-4363-aa7a-d0ad3ae4b05d",
   "metadata": {},
   "outputs": [
    {
     "name": "stdout",
     "output_type": "stream",
     "text": [
      "Objective: 0\n",
      "Route for vehicle 0:\n",
      " 0 -> 0\n",
      "Distance of the route: 0m\n",
      "\n",
      "Route for vehicle 1:\n",
      " 0 -> 0\n",
      "Distance of the route: 0m\n",
      "\n",
      "Route for vehicle 2:\n",
      " 0 -> 0\n",
      "Distance of the route: 0m\n",
      "\n",
      "Route for vehicle 3:\n",
      " 0 ->  1630 ->  1629 ->  1628 ->  1627 ->  1626 ->  1625 ->  1624 ->  1623 ->  1622 ->  1621 ->  1620 ->  1619 ->  1618 ->  1617 ->  1616 ->  1615 ->  1614 ->  1613 ->  1612 ->  1611 ->  1610 ->  1609 ->  1608 ->  1607 ->  1606 ->  1605 ->  1604 ->  1603 ->  1602 ->  1601 ->  1600 ->  1599 ->  1598 ->  1597 ->  1596 ->  1595 ->  1594 ->  1593 ->  1592 ->  1591 ->  1590 ->  1589 ->  1588 ->  1587 ->  1586 ->  1585 ->  1584 ->  1583 ->  1582 ->  1581 ->  1580 ->  1579 ->  1578 ->  1577 ->  1576 ->  1575 ->  1574 ->  1573 ->  1572 ->  1571 ->  1570 ->  1569 ->  1568 ->  1567 ->  1566 ->  1565 ->  1564 ->  1563 ->  1562 ->  1561 ->  1560 ->  1559 ->  1558 ->  1557 ->  1556 ->  1555 ->  1554 ->  1553 ->  1552 ->  1551 ->  1550 ->  1549 ->  1548 ->  1547 ->  1546 ->  1545 ->  1544 ->  1543 ->  1542 ->  1541 ->  1540 ->  1539 ->  1538 ->  1537 ->  1536 ->  1535 ->  1534 ->  1533 ->  1532 ->  1531 ->  1530 ->  1529 ->  1528 ->  1527 ->  1526 ->  1525 ->  1524 ->  1523 ->  1522 ->  1521 ->  1520 ->  1519 ->  1518 ->  1517 ->  1516 ->  1515 ->  1514 ->  1513 ->  1512 ->  1511 ->  1510 ->  1509 ->  1508 ->  1507 ->  1506 ->  1505 ->  1504 ->  1503 ->  1502 ->  1501 ->  1500 ->  1499 ->  1498 ->  1497 ->  1496 ->  1495 ->  1494 ->  1493 ->  1492 ->  1491 ->  1490 ->  1489 ->  1488 ->  1487 ->  1486 ->  1485 ->  1484 ->  1483 ->  1482 ->  1481 ->  1480 ->  1479 ->  1478 ->  1477 ->  1476 ->  1475 ->  1474 ->  1473 ->  1472 ->  1471 ->  1470 ->  1469 ->  1468 ->  1467 ->  1466 ->  1465 ->  1464 ->  1463 ->  1462 ->  1461 ->  1460 ->  1459 ->  1458 ->  1457 ->  1456 ->  1455 ->  1454 ->  1453 ->  1452 ->  1451 ->  1450 ->  1449 ->  1448 ->  1447 ->  1446 ->  1445 ->  1444 ->  1443 ->  1442 ->  1441 ->  1440 ->  1439 ->  1438 ->  1437 ->  1436 ->  1435 ->  1434 ->  1433 ->  1432 ->  1431 ->  1430 ->  1429 ->  1428 ->  1427 ->  1426 ->  1425 ->  1424 ->  1423 ->  1422 ->  1421 ->  1420 ->  1419 ->  1418 ->  1417 ->  1416 ->  1415 ->  1414 ->  1413 ->  1412 ->  1411 ->  1410 ->  1409 ->  1408 ->  1407 ->  1406 ->  1405 ->  1404 ->  1403 ->  1402 ->  1401 ->  1400 ->  1399 ->  1398 ->  1397 ->  1396 ->  1395 ->  1394 ->  1393 ->  1392 ->  1391 ->  1390 ->  1389 ->  1388 ->  1387 ->  1386 ->  1385 ->  1384 ->  1383 ->  1382 ->  1381 ->  1380 ->  1379 ->  1378 ->  1377 ->  1376 ->  1375 ->  1374 ->  1373 ->  1372 ->  1371 ->  1370 ->  1369 ->  1368 ->  1367 ->  1366 ->  1365 ->  1364 ->  1363 ->  1362 ->  1361 ->  1360 ->  1359 ->  1358 ->  1357 ->  1356 ->  1355 ->  1354 ->  1353 ->  1352 ->  1351 ->  1350 ->  1349 ->  1348 ->  1347 ->  1346 ->  1345 ->  1344 ->  1343 ->  1342 ->  1341 ->  1340 ->  1339 ->  1338 ->  1337 ->  1336 ->  1335 ->  1334 ->  1333 ->  1332 ->  1331 ->  1330 ->  1329 ->  1328 ->  1327 ->  1326 ->  1325 ->  1324 ->  1323 ->  1322 ->  1321 ->  1320 ->  1319 ->  1318 ->  1317 ->  1316 ->  1315 ->  1314 ->  1313 ->  1312 ->  1311 ->  1310 ->  1309 ->  1308 ->  1307 ->  1306 ->  1305 ->  1304 ->  1303 ->  1302 ->  1301 ->  1300 ->  1299 ->  1298 ->  1297 ->  1296 ->  1295 ->  1294 ->  1293 ->  1292 ->  1291 ->  1290 ->  1289 ->  1288 ->  1287 ->  1286 ->  1285 ->  1284 ->  1283 ->  1282 ->  1281 ->  1280 ->  1279 ->  1278 ->  1277 ->  1276 ->  1275 ->  1274 ->  1273 ->  1272 ->  1271 ->  1270 ->  1269 ->  1268 ->  1267 ->  1266 ->  1265 ->  1264 ->  1263 ->  1262 ->  1261 ->  1260 ->  1259 ->  1258 ->  1257 ->  1256 ->  1255 ->  1254 ->  1253 ->  1252 ->  1251 ->  1250 ->  1249 ->  1248 ->  1247 ->  1246 ->  1245 ->  1244 ->  1243 ->  1242 ->  1241 ->  1240 ->  1239 ->  1238 ->  1237 ->  1236 ->  1235 ->  1234 ->  1233 ->  1232 ->  1231 ->  1230 ->  1229 ->  1228 ->  1227 ->  1226 ->  1225 ->  1224 ->  1223 ->  1222 ->  1221 ->  1220 ->  1219 ->  1218 ->  1217 ->  1216 ->  1215 ->  1214 ->  1213 ->  1212 ->  1211 ->  1210 ->  1209 ->  1208 ->  1207 ->  1206 ->  1205 ->  1204 ->  1203 ->  1202 ->  1201 ->  1200 ->  1199 ->  1198 ->  1197 ->  1196 ->  1195 ->  1194 ->  1193 ->  1192 ->  1191 ->  1190 ->  1189 ->  1188 ->  1187 ->  1186 ->  1185 ->  1184 ->  1183 ->  1182 ->  1181 ->  1180 ->  1179 ->  1178 ->  1177 ->  1176 ->  1175 ->  1174 ->  1173 ->  1172 ->  1171 ->  1170 ->  1169 ->  1168 ->  1167 ->  1166 ->  1165 ->  1164 ->  1163 ->  1162 ->  1161 ->  1160 ->  1159 ->  1158 ->  1157 ->  1156 ->  1155 ->  1154 ->  1153 ->  1152 ->  1151 ->  1150 ->  1149 ->  1148 ->  1147 ->  1146 ->  1145 ->  1144 ->  1143 ->  1142 ->  1141 ->  1140 ->  1139 ->  1138 ->  1137 ->  1136 ->  1135 ->  1134 ->  1133 ->  1132 ->  1131 ->  1130 ->  1129 ->  1128 ->  1127 ->  1126 ->  1125 ->  1124 ->  1123 ->  1122 ->  1121 ->  1120 ->  1119 ->  1118 ->  1117 ->  1116 ->  1115 ->  1114 ->  1113 ->  1112 ->  1111 ->  1110 ->  1109 ->  1108 ->  1107 ->  1106 ->  1105 ->  1104 ->  1103 ->  1102 ->  1101 ->  1100 ->  1099 ->  1098 ->  1097 ->  1096 ->  1095 ->  1094 ->  1093 ->  1092 ->  1091 ->  1090 ->  1089 ->  1088 ->  1087 ->  1086 ->  1085 ->  1084 ->  1083 ->  1082 ->  1081 ->  1080 ->  1079 ->  1078 ->  1077 ->  1076 ->  1075 ->  1074 ->  1073 ->  1072 ->  1071 ->  1070 ->  1069 ->  1068 ->  1067 ->  1066 ->  1065 ->  1064 ->  1063 ->  1062 ->  1061 ->  1060 ->  1059 ->  1058 ->  1057 ->  1056 ->  1055 ->  1054 ->  1053 ->  1052 ->  1051 ->  1050 ->  1049 ->  1048 ->  1047 ->  1046 ->  1045 ->  1044 ->  1043 ->  1042 ->  1041 ->  1040 ->  1039 ->  1038 ->  1037 ->  1036 ->  1035 ->  1034 ->  1033 ->  1032 ->  1031 ->  1030 ->  1029 ->  1028 ->  1027 ->  1026 ->  1025 ->  1024 ->  1023 ->  1022 ->  1021 ->  1020 ->  1019 ->  1018 ->  1017 ->  1016 ->  1015 ->  1014 ->  1013 ->  1012 ->  1011 ->  1010 ->  1009 ->  1008 ->  1007 ->  1006 ->  1005 ->  1004 ->  1003 ->  1002 ->  1001 ->  1000 ->  999 ->  998 ->  997 ->  996 ->  995 ->  994 ->  993 ->  992 ->  991 ->  990 ->  989 ->  988 ->  987 ->  986 ->  985 ->  984 ->  983 ->  982 ->  981 ->  980 ->  979 ->  978 ->  977 ->  976 ->  975 ->  974 ->  973 ->  972 ->  971 ->  970 ->  969 ->  968 ->  967 ->  966 ->  965 ->  964 ->  963 ->  962 ->  961 ->  960 ->  959 ->  958 ->  957 ->  956 ->  955 ->  954 ->  953 ->  952 ->  951 ->  950 ->  949 ->  948 ->  947 ->  946 ->  945 ->  944 ->  943 ->  942 ->  941 ->  940 ->  939 ->  938 ->  937 ->  936 ->  935 ->  934 ->  933 ->  932 ->  931 ->  930 ->  929 ->  928 ->  927 ->  926 ->  925 ->  924 ->  923 ->  922 ->  921 ->  920 ->  919 ->  918 ->  917 ->  916 ->  915 ->  914 ->  913 ->  912 ->  911 ->  910 ->  909 ->  908 ->  907 ->  906 ->  905 ->  904 ->  903 ->  902 ->  901 ->  900 ->  899 ->  898 ->  897 ->  896 ->  895 ->  894 ->  893 ->  892 ->  891 ->  890 ->  889 ->  888 ->  887 ->  886 ->  885 ->  884 ->  883 ->  882 ->  881 ->  880 ->  879 ->  878 ->  877 ->  876 ->  875 ->  874 ->  873 ->  872 ->  871 ->  870 ->  869 ->  868 ->  867 ->  866 ->  865 ->  864 ->  863 ->  862 ->  861 ->  860 ->  859 ->  858 ->  857 ->  856 ->  855 ->  854 ->  853 ->  852 ->  851 ->  850 ->  849 ->  848 ->  847 ->  846 ->  845 ->  844 ->  843 ->  842 ->  841 ->  840 ->  839 ->  838 ->  837 ->  836 ->  835 ->  834 ->  833 ->  832 ->  831 ->  830 ->  829 ->  828 ->  827 ->  826 ->  825 ->  824 ->  823 ->  822 ->  821 ->  820 ->  819 ->  818 ->  817 ->  816 ->  815 ->  814 ->  813 ->  812 ->  811 ->  810 ->  809 ->  808 ->  807 ->  806 ->  805 ->  804 ->  803 ->  802 ->  801 ->  800 ->  799 ->  798 ->  797 ->  796 ->  795 ->  794 ->  793 ->  792 ->  791 ->  790 ->  789 ->  788 ->  787 ->  786 ->  785 ->  784 ->  783 ->  782 ->  781 ->  780 ->  779 ->  778 ->  777 ->  776 ->  775 ->  774 ->  773 ->  772 ->  771 ->  770 ->  769 ->  768 ->  767 ->  766 ->  765 ->  764 ->  763 ->  762 ->  761 ->  760 ->  759 ->  758 ->  757 ->  756 ->  755 ->  754 ->  753 ->  752 ->  751 ->  750 ->  749 ->  748 ->  747 ->  746 ->  745 ->  744 ->  743 ->  742 ->  741 ->  740 ->  739 ->  738 ->  737 ->  736 ->  735 ->  734 ->  733 ->  732 ->  731 ->  730 ->  729 ->  728 ->  727 ->  726 ->  725 ->  724 ->  723 ->  722 ->  721 ->  720 ->  719 ->  718 ->  717 ->  716 ->  715 ->  714 ->  713 ->  712 ->  711 ->  710 ->  709 ->  708 ->  707 ->  706 ->  705 ->  704 ->  703 ->  702 ->  701 ->  700 ->  699 ->  698 ->  697 ->  696 ->  695 ->  694 ->  693 ->  692 ->  691 ->  690 ->  689 ->  688 ->  687 ->  686 ->  685 ->  684 ->  683 ->  682 ->  681 ->  680 ->  679 ->  678 ->  677 ->  676 ->  675 ->  674 ->  673 ->  672 ->  671 ->  670 ->  669 ->  668 ->  667 ->  666 ->  665 ->  664 ->  663 ->  662 ->  661 ->  660 ->  659 ->  658 ->  657 ->  656 ->  655 ->  654 ->  653 ->  652 ->  651 ->  650 ->  649 ->  648 ->  647 ->  646 ->  645 ->  644 ->  643 ->  642 ->  641 ->  640 ->  639 ->  638 ->  637 ->  636 ->  635 ->  634 ->  633 ->  632 ->  631 ->  630 ->  629 ->  628 ->  627 ->  626 ->  625 ->  624 ->  623 ->  622 ->  621 ->  620 ->  619 ->  618 ->  617 ->  616 ->  615 ->  614 ->  613 ->  612 ->  611 ->  610 ->  609 ->  608 ->  607 ->  606 ->  605 ->  604 ->  603 ->  602 ->  601 ->  600 ->  599 ->  598 ->  597 ->  596 ->  595 ->  594 ->  593 ->  592 ->  591 ->  590 ->  589 ->  588 ->  587 ->  586 ->  585 ->  584 ->  583 ->  582 ->  581 ->  580 ->  579 ->  578 ->  577 ->  576 ->  575 ->  574 ->  573 ->  572 ->  571 ->  570 ->  569 ->  568 ->  567 ->  566 ->  565 ->  564 ->  563 ->  562 ->  561 ->  560 ->  559 ->  558 ->  557 ->  556 ->  555 ->  554 ->  553 ->  552 ->  551 ->  550 ->  549 ->  548 ->  547 ->  546 ->  545 ->  544 ->  543 ->  542 ->  541 ->  540 ->  539 ->  538 ->  537 ->  536 ->  535 ->  534 ->  533 ->  532 ->  531 ->  530 ->  529 ->  528 ->  527 ->  526 ->  525 ->  524 ->  523 ->  522 ->  521 ->  520 ->  519 ->  518 ->  517 ->  516 ->  515 ->  514 ->  513 ->  512 ->  511 ->  510 ->  509 ->  508 ->  507 ->  506 ->  505 ->  504 ->  503 ->  502 ->  501 ->  500 ->  499 ->  498 ->  497 ->  496 ->  495 ->  494 ->  493 ->  492 ->  491 ->  490 ->  489 ->  488 ->  487 ->  486 ->  485 ->  484 ->  483 ->  482 ->  481 ->  480 ->  479 ->  478 ->  477 ->  476 ->  475 ->  474 ->  473 ->  472 ->  471 ->  470 ->  469 ->  468 ->  467 ->  466 ->  465 ->  464 ->  463 ->  462 ->  461 ->  460 ->  459 ->  458 ->  457 ->  456 ->  455 ->  454 ->  453 ->  452 ->  451 ->  450 ->  449 ->  448 ->  447 ->  446 ->  445 ->  444 ->  443 ->  442 ->  441 ->  440 ->  439 ->  438 ->  437 ->  436 ->  435 ->  434 ->  433 ->  432 ->  431 ->  430 ->  429 ->  428 ->  427 ->  426 ->  425 ->  424 ->  423 ->  422 ->  421 ->  420 ->  419 ->  418 ->  417 ->  416 ->  415 ->  414 ->  413 ->  412 ->  411 ->  410 ->  409 ->  408 ->  407 ->  406 ->  405 ->  404 ->  403 ->  402 ->  401 ->  400 ->  399 ->  398 ->  397 ->  396 ->  395 ->  394 ->  393 ->  392 ->  391 ->  390 ->  389 ->  388 ->  387 ->  386 ->  385 ->  384 ->  383 ->  382 ->  381 ->  380 ->  379 ->  378 ->  377 ->  376 ->  375 ->  374 ->  373 ->  372 ->  371 ->  370 ->  369 ->  368 ->  367 ->  366 ->  365 ->  364 ->  363 ->  362 ->  361 ->  360 ->  359 ->  358 ->  357 ->  356 ->  355 ->  354 ->  353 ->  352 ->  351 ->  350 ->  349 ->  348 ->  347 ->  346 ->  345 ->  344 ->  343 ->  342 ->  341 ->  340 ->  339 ->  338 ->  337 ->  336 ->  335 ->  334 ->  333 ->  332 ->  331 ->  330 ->  329 ->  328 ->  327 ->  326 ->  325 ->  324 ->  323 ->  322 ->  321 ->  320 ->  319 ->  318 ->  317 ->  316 ->  315 ->  314 ->  313 ->  312 ->  311 ->  310 ->  309 ->  308 ->  307 ->  306 ->  305 ->  304 ->  303 ->  302 ->  301 ->  300 ->  299 ->  298 ->  297 ->  296 ->  295 ->  294 ->  293 ->  292 ->  291 ->  290 ->  289 ->  288 ->  287 ->  286 ->  285 ->  284 ->  283 ->  282 ->  281 ->  280 ->  279 ->  278 ->  277 ->  276 ->  275 ->  274 ->  273 ->  272 ->  271 ->  270 ->  269 ->  268 ->  267 ->  266 ->  265 ->  264 ->  263 ->  262 ->  261 ->  260 ->  259 ->  258 ->  257 ->  256 ->  255 ->  254 ->  253 ->  252 ->  251 ->  250 ->  249 ->  248 ->  247 ->  246 ->  245 ->  244 ->  243 ->  242 ->  241 ->  240 ->  239 ->  238 ->  237 ->  236 ->  235 ->  234 ->  233 ->  232 ->  231 ->  230 ->  229 ->  228 ->  227 ->  226 ->  225 ->  224 ->  223 ->  222 ->  221 ->  220 ->  219 ->  218 ->  217 ->  216 ->  215 ->  214 ->  213 ->  212 ->  211 ->  210 ->  209 ->  208 ->  207 ->  206 ->  205 ->  204 ->  203 ->  202 ->  201 ->  200 ->  199 ->  198 ->  197 ->  196 ->  195 ->  194 ->  193 ->  192 ->  191 ->  190 ->  189 ->  188 ->  187 ->  186 ->  185 ->  184 ->  183 ->  182 ->  181 ->  180 ->  179 ->  178 ->  177 ->  176 ->  175 ->  174 ->  173 ->  172 ->  171 ->  170 ->  169 ->  168 ->  167 ->  166 ->  165 ->  164 ->  163 ->  162 ->  161 ->  160 ->  159 ->  158 ->  157 ->  156 ->  155 ->  154 ->  153 ->  152 ->  151 ->  150 ->  149 ->  148 ->  147 ->  146 ->  145 ->  144 ->  143 ->  142 ->  141 ->  140 ->  139 ->  138 ->  137 ->  136 ->  135 ->  134 ->  133 ->  132 ->  131 ->  130 ->  129 ->  128 ->  127 ->  126 ->  125 ->  124 ->  123 ->  122 ->  121 ->  120 ->  119 ->  118 ->  117 ->  116 ->  115 ->  114 ->  113 ->  112 ->  111 ->  110 ->  109 ->  108 ->  107 ->  106 ->  105 ->  104 ->  103 ->  102 ->  101 ->  100 ->  99 ->  98 ->  97 ->  96 ->  95 ->  94 ->  93 ->  92 ->  91 ->  90 ->  89 ->  88 ->  87 ->  86 ->  85 ->  84 ->  83 ->  82 ->  81 ->  80 ->  79 ->  78 ->  77 ->  76 ->  75 ->  74 ->  73 ->  72 ->  71 ->  70 ->  69 ->  68 ->  67 ->  66 ->  65 ->  64 ->  63 ->  62 ->  61 ->  60 ->  59 ->  58 ->  57 ->  56 ->  55 ->  54 ->  53 ->  52 ->  51 ->  50 ->  49 ->  48 ->  47 ->  46 ->  45 ->  44 ->  43 ->  42 ->  41 ->  40 ->  39 ->  38 ->  37 ->  36 ->  35 ->  34 ->  33 ->  32 ->  31 ->  30 ->  29 ->  28 ->  27 ->  26 ->  25 ->  24 ->  23 ->  22 ->  21 ->  20 ->  19 ->  18 ->  17 ->  16 ->  15 ->  14 ->  13 ->  12 ->  11 ->  10 ->  9 ->  8 ->  7 ->  6 ->  5 ->  4 ->  3 ->  2 ->  1 -> 0\n",
      "Distance of the route: 0m\n",
      "\n",
      "Maximum of the route distances: 0m\n"
     ]
    }
   ],
   "source": [
    "# Solve the problem.\n",
    "solution = routing.SolveWithParameters(search_parameters)\n",
    "\n",
    "# Print solution on console.\n",
    "if solution:\n",
    "    print_solution(vrp_data, manager, routing, solution)\n",
    "else:\n",
    "    print('No solution found !')"
   ]
  },
  {
   "cell_type": "code",
   "execution_count": null,
   "id": "78baaf07-1b95-4e6d-9b2f-90d85629cc12",
   "metadata": {},
   "outputs": [],
   "source": []
  }
 ],
 "metadata": {
  "kernelspec": {
   "display_name": "Python 3 (ipykernel)",
   "language": "python",
   "name": "python3"
  },
  "language_info": {
   "codemirror_mode": {
    "name": "ipython",
    "version": 3
   },
   "file_extension": ".py",
   "mimetype": "text/x-python",
   "name": "python",
   "nbconvert_exporter": "python",
   "pygments_lexer": "ipython3",
   "version": "3.10.6"
  }
 },
 "nbformat": 4,
 "nbformat_minor": 5
}
