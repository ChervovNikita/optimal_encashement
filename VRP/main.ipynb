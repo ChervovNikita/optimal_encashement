{
 "cells": [
  {
   "cell_type": "code",
   "execution_count": 1,
   "id": "3820964d-d6fa-48bf-b130-3a528b9bdab9",
   "metadata": {},
   "outputs": [],
   "source": [
    "import pandas as pd\n",
    "import numpy as np\n",
    "import sklearn"
   ]
  },
  {
   "cell_type": "code",
   "execution_count": 2,
   "id": "a2835029-2a5a-4a8b-a202-65183b207a76",
   "metadata": {},
   "outputs": [],
   "source": [
    "from sklearn import preprocessing"
   ]
  },
  {
   "cell_type": "markdown",
   "id": "08296203-9861-4b0f-ba0b-93ea6239b6ee",
   "metadata": {
    "tags": []
   },
   "source": [
    "## Read data"
   ]
  },
  {
   "cell_type": "code",
   "execution_count": 3,
   "id": "4151bcc6-f93f-4677-9c03-078fe4164fa5",
   "metadata": {},
   "outputs": [
    {
     "data": {
      "text/html": [
       "<div>\n",
       "<style scoped>\n",
       "    .dataframe tbody tr th:only-of-type {\n",
       "        vertical-align: middle;\n",
       "    }\n",
       "\n",
       "    .dataframe tbody tr th {\n",
       "        vertical-align: top;\n",
       "    }\n",
       "\n",
       "    .dataframe thead th {\n",
       "        text-align: right;\n",
       "    }\n",
       "</style>\n",
       "<table border=\"1\" class=\"dataframe\">\n",
       "  <thead>\n",
       "    <tr style=\"text-align: right;\">\n",
       "      <th></th>\n",
       "      <th>Origin_tid</th>\n",
       "      <th>Destination_tid</th>\n",
       "      <th>Total_Time</th>\n",
       "    </tr>\n",
       "  </thead>\n",
       "  <tbody>\n",
       "    <tr>\n",
       "      <th>0</th>\n",
       "      <td>636538</td>\n",
       "      <td>683103</td>\n",
       "      <td>15.32</td>\n",
       "    </tr>\n",
       "    <tr>\n",
       "      <th>1</th>\n",
       "      <td>636538</td>\n",
       "      <td>634763</td>\n",
       "      <td>16.20</td>\n",
       "    </tr>\n",
       "    <tr>\n",
       "      <th>2</th>\n",
       "      <td>636538</td>\n",
       "      <td>683128</td>\n",
       "      <td>16.27</td>\n",
       "    </tr>\n",
       "    <tr>\n",
       "      <th>3</th>\n",
       "      <td>636538</td>\n",
       "      <td>683789</td>\n",
       "      <td>16.77</td>\n",
       "    </tr>\n",
       "    <tr>\n",
       "      <th>4</th>\n",
       "      <td>636538</td>\n",
       "      <td>634709</td>\n",
       "      <td>17.67</td>\n",
       "    </tr>\n",
       "  </tbody>\n",
       "</table>\n",
       "</div>"
      ],
      "text/plain": [
       "   Origin_tid  Destination_tid  Total_Time\n",
       "0      636538           683103       15.32\n",
       "1      636538           634763       16.20\n",
       "2      636538           683128       16.27\n",
       "3      636538           683789       16.77\n",
       "4      636538           634709       17.67"
      ]
     },
     "execution_count": 3,
     "metadata": {},
     "output_type": "execute_result"
    }
   ],
   "source": [
    "dist = pd.read_csv('data/times v4.csv')\n",
    "dist.head()"
   ]
  },
  {
   "cell_type": "code",
   "execution_count": 4,
   "id": "67036fa6-30b6-4955-9b1a-537222f6946a",
   "metadata": {},
   "outputs": [
    {
     "data": {
      "text/html": [
       "<div>\n",
       "<style scoped>\n",
       "    .dataframe tbody tr th:only-of-type {\n",
       "        vertical-align: middle;\n",
       "    }\n",
       "\n",
       "    .dataframe tbody tr th {\n",
       "        vertical-align: top;\n",
       "    }\n",
       "\n",
       "    .dataframe thead th {\n",
       "        text-align: right;\n",
       "    }\n",
       "</style>\n",
       "<table border=\"1\" class=\"dataframe\">\n",
       "  <thead>\n",
       "    <tr style=\"text-align: right;\">\n",
       "      <th></th>\n",
       "      <th>Origin_tid</th>\n",
       "      <th>Destination_tid</th>\n",
       "      <th>Total_Time</th>\n",
       "    </tr>\n",
       "  </thead>\n",
       "  <tbody>\n",
       "    <tr>\n",
       "      <th>194048</th>\n",
       "      <td>683103</td>\n",
       "      <td>636538</td>\n",
       "      <td>14.92</td>\n",
       "    </tr>\n",
       "  </tbody>\n",
       "</table>\n",
       "</div>"
      ],
      "text/plain": [
       "        Origin_tid  Destination_tid  Total_Time\n",
       "194048      683103           636538       14.92"
      ]
     },
     "execution_count": 4,
     "metadata": {},
     "output_type": "execute_result"
    }
   ],
   "source": [
    "dist[(dist['Origin_tid'] == 683103) & (dist['Destination_tid'] == 636538)]"
   ]
  },
  {
   "cell_type": "code",
   "execution_count": 5,
   "id": "ec2bba5c-7299-4231-88ac-370991b80a02",
   "metadata": {},
   "outputs": [
    {
     "data": {
      "text/plain": [
       "2655270"
      ]
     },
     "execution_count": 5,
     "metadata": {},
     "output_type": "execute_result"
    }
   ],
   "source": [
    "len(dist)"
   ]
  },
  {
   "cell_type": "code",
   "execution_count": 6,
   "id": "b5710b53-ba3f-4a72-809b-9736cb52733a",
   "metadata": {},
   "outputs": [
    {
     "data": {
      "text/plain": [
       "10"
      ]
     },
     "execution_count": 6,
     "metadata": {},
     "output_type": "execute_result"
    }
   ],
   "source": [
    "(dist['Total_Time'] == 0).sum()"
   ]
  },
  {
   "cell_type": "code",
   "execution_count": 7,
   "id": "865dd998-3296-47bf-8094-c59ff5190667",
   "metadata": {},
   "outputs": [
    {
     "data": {
      "text/plain": [
       "1630"
      ]
     },
     "execution_count": 7,
     "metadata": {},
     "output_type": "execute_result"
    }
   ],
   "source": [
    "dist['Origin_tid'].nunique()"
   ]
  },
  {
   "cell_type": "code",
   "execution_count": 8,
   "id": "20466448-621b-47c4-a17e-b54729a4f88e",
   "metadata": {},
   "outputs": [],
   "source": [
    "le = sklearn.preprocessing.LabelEncoder()\n",
    "le.fit(dist['Origin_tid'])\n",
    "dist['from_int'] = le.transform(dist['Origin_tid'])\n",
    "dist['to_int'] = le.transform(dist['Destination_tid'])"
   ]
  },
  {
   "cell_type": "code",
   "execution_count": 9,
   "id": "3bb74e92-330a-4775-9054-95b3b2637c95",
   "metadata": {},
   "outputs": [
    {
     "data": {
      "text/plain": [
       "(0, 1629)"
      ]
     },
     "execution_count": 9,
     "metadata": {},
     "output_type": "execute_result"
    }
   ],
   "source": [
    "dist['from_int'].min(), dist['from_int'].max()"
   ]
  },
  {
   "cell_type": "markdown",
   "id": "be60b1a1-598f-45bd-8a5b-0b7ef3c467a6",
   "metadata": {},
   "source": [
    "## Setup configs"
   ]
  },
  {
   "cell_type": "code",
   "execution_count": 10,
   "id": "aadc749d-09d3-4d70-88c6-e2eaf3b4f16e",
   "metadata": {},
   "outputs": [],
   "source": [
    "config = {'cnt_terminals': dist['from_int'].max() + 1,\n",
    "          'persent_day_income': 0.02 / 365,\n",
    "          'terminal_service_cost': {'min': 100, 'persent': 0.01},\n",
    "          'max_terminal_money': 1000000,\n",
    "          'max_not_service_days': 14,\n",
    "          'armored_car_day_cost': 20000,\n",
    "          'work_time': 10 * 60,\n",
    "          'service_time': 10}"
   ]
  },
  {
   "cell_type": "markdown",
   "id": "cf20e6f2-1849-4738-9bd0-44a13bf6bc3d",
   "metadata": {},
   "source": [
    "## Searching optimal path"
   ]
  },
  {
   "cell_type": "code",
   "execution_count": 11,
   "id": "1672a1f8-9aa1-469e-a76d-a44de54fb292",
   "metadata": {},
   "outputs": [],
   "source": [
    "# !pip install ortools # works for sergak\n",
    "# !python3 -m pip install --upgrade --user ortools # works for nikita"
   ]
  },
  {
   "cell_type": "code",
   "execution_count": 12,
   "id": "b229963c-3a7f-4367-bcf7-8a7d9c8ba4a8",
   "metadata": {},
   "outputs": [],
   "source": [
    "\"\"\"Simple Vehicles Routing Problem (VRP).\n",
    "\n",
    "   This is a sample using the routing library python wrapper to solve a VRP\n",
    "   problem.\n",
    "   A description of the problem can be found here:\n",
    "   http://en.wikipedia.org/wiki/Vehicle_routing_problem.\n",
    "\n",
    "   Distances are in meters.\n",
    "\"\"\"\n",
    "\n",
    "from ortools.constraint_solver import routing_enums_pb2\n",
    "from ortools.constraint_solver import pywrapcp"
   ]
  },
  {
   "cell_type": "code",
   "execution_count": 13,
   "id": "ee5b02b5-8110-4dae-af80-109bf3250c12",
   "metadata": {},
   "outputs": [],
   "source": [
    "inf = int(1e4)\n",
    "cnt_terminals = config['cnt_terminals']\n",
    "distance_matrix = np.ones((cnt_terminals + 1, cnt_terminals + 1)) * inf\n",
    "for i, j, w in zip(dist['from_int'], dist['to_int'], dist['Total_Time']):\n",
    "    distance_matrix[i + 1, j + 1] = w + config['service_time']\n",
    "    \n",
    "for i in range(cnt_terminals + 1):\n",
    "    distance_matrix[i, 0] = config['service_time']\n",
    "    distance_matrix[0, i] = inf\n",
    "    distance_matrix[i, i] = 0"
   ]
  },
  {
   "cell_type": "code",
   "execution_count": 14,
   "id": "9d286507-9c41-4f7f-9ed7-34ac8c1117d2",
   "metadata": {},
   "outputs": [],
   "source": [
    "distance_matrix = (distance_matrix * 100).astype(int)\n",
    "inf *= 100\n",
    "config['work_time'] *= 100"
   ]
  },
  {
   "cell_type": "code",
   "execution_count": 16,
   "id": "2e1a38a5-b785-4841-85aa-ba677b9949cd",
   "metadata": {},
   "outputs": [],
   "source": [
    "vrp_data = {'distance_matrix': distance_matrix,\n",
    "            'num_vehicles': 4000,\n",
    "            'num_locations': cnt_terminals + 1,\n",
    "            'depot': 0}"
   ]
  },
  {
   "cell_type": "code",
   "execution_count": null,
   "id": "c05b2360-ebca-4783-98fb-66b853bcc97f",
   "metadata": {},
   "outputs": [],
   "source": []
  },
  {
   "cell_type": "code",
   "execution_count": 17,
   "id": "2491104f-f58f-4280-832f-a071816ec544",
   "metadata": {},
   "outputs": [],
   "source": [
    "def print_solution(data, manager, routing, solution):\n",
    "    \"\"\"Prints solution on console.\"\"\"\n",
    "    print(f'Objective: {solution.ObjectiveValue()}')\n",
    "    max_route_distance = 0\n",
    "    for vehicle_id in range(data['num_vehicles']):\n",
    "        index = routing.Start(vehicle_id)\n",
    "        plan_output = 'Route for vehicle {}:\\n'.format(vehicle_id)\n",
    "        route_distance = 0\n",
    "        while not routing.IsEnd(index):\n",
    "            plan_output += ' {} -> '.format(manager.IndexToNode(index))\n",
    "            previous_index = index\n",
    "            index = solution.Value(routing.NextVar(index))\n",
    "            route_distance += routing.GetArcCostForVehicle(\n",
    "                previous_index, index, vehicle_id)\n",
    "        plan_output += '{}\\n'.format(manager.IndexToNode(index))\n",
    "        plan_output += 'Distance of the route: {}m\\n'.format(route_distance)\n",
    "        print(plan_output)\n",
    "        max_route_distance = max(route_distance, max_route_distance)\n",
    "    print('Maximum of the route distances: {}m'.format(max_route_distance))"
   ]
  },
  {
   "cell_type": "code",
   "execution_count": 18,
   "id": "326f1cef-a207-4095-a769-2b160291b816",
   "metadata": {},
   "outputs": [],
   "source": [
    "manager = pywrapcp.RoutingIndexManager(len(vrp_data['distance_matrix']),\n",
    "                                       vrp_data['num_vehicles'],\n",
    "                                       vrp_data['depot'])\n",
    "\n",
    "# Create Routing Model.\n",
    "routing = pywrapcp.RoutingModel(manager)\n",
    "\n",
    "\n",
    "# Create and register a transit callback.\n",
    "def distance_callback(from_index, to_index):\n",
    "    \"\"\"Returns the distance between the two nodes.\"\"\"\n",
    "    # Convert from routing variable Index to distance matrix NodeIndex.\n",
    "    from_node = manager.IndexToNode(from_index)\n",
    "    to_node = manager.IndexToNode(to_index)\n",
    "    return vrp_data['distance_matrix'][from_node][to_node]\n",
    "\n",
    "transit_callback_index = routing.RegisterTransitCallback(distance_callback)\n",
    "\n",
    "# Define cost of each arc.\n",
    "routing.SetArcCostEvaluatorOfAllVehicles(transit_callback_index)\n",
    "\n",
    "# Add Distance constraint.\n",
    "dimension_name = 'Distance'\n",
    "routing.AddDimension(\n",
    "    transit_callback_index,\n",
    "    0,  # no slack\n",
    "    config['work_time'] + inf,  # vehicle maximum travel distance\n",
    "    True,  # start cumul to zero\n",
    "    dimension_name)\n",
    "distance_dimension = routing.GetDimensionOrDie(dimension_name)\n",
    "distance_dimension.SetGlobalSpanCostCoefficient(100)\n",
    "\n",
    "# Setting first solution heuristic.\n",
    "search_parameters = pywrapcp.DefaultRoutingSearchParameters()\n",
    "search_parameters.first_solution_strategy = (routing_enums_pb2.FirstSolutionStrategy.AUTOMATIC)\n",
    "search_parameters.solution_limit = 100"
   ]
  },
  {
   "cell_type": "code",
   "execution_count": null,
   "id": "784210c5-a27c-4363-aa7a-d0ad3ae4b05d",
   "metadata": {},
   "outputs": [],
   "source": [
    "# Solve the problem.\n",
    "solution = routing.SolveWithParameters(search_parameters)\n",
    "\n",
    "# Print solution on console.\n",
    "if solution:\n",
    "    print_solution(vrp_data, manager, routing, solution)\n",
    "else:\n",
    "    print('No solution found !')"
   ]
  },
  {
   "cell_type": "code",
   "execution_count": null,
   "id": "78baaf07-1b95-4e6d-9b2f-90d85629cc12",
   "metadata": {},
   "outputs": [],
   "source": []
  },
  {
   "cell_type": "code",
   "execution_count": null,
   "id": "8de4c818-c0b3-4faf-9faf-4acf2187bf1a",
   "metadata": {},
   "outputs": [],
   "source": []
  },
  {
   "cell_type": "code",
   "execution_count": null,
   "id": "7289c9c4-90b2-4438-82b1-36eb43d24c4c",
   "metadata": {},
   "outputs": [],
   "source": []
  },
  {
   "cell_type": "code",
   "execution_count": null,
   "id": "ea50511d-966d-4402-a3a4-91e654b8c344",
   "metadata": {},
   "outputs": [],
   "source": []
  },
  {
   "cell_type": "code",
   "execution_count": null,
   "id": "10727e06-d40b-43b9-96b8-b3378ade1bf8",
   "metadata": {},
   "outputs": [],
   "source": []
  },
  {
   "cell_type": "code",
   "execution_count": null,
   "id": "12e6f5f3-f024-4073-a64b-76c422accb6c",
   "metadata": {},
   "outputs": [],
   "source": []
  },
  {
   "cell_type": "code",
   "execution_count": null,
   "id": "5c1efcae-f043-4235-abd5-949c9288eda5",
   "metadata": {},
   "outputs": [],
   "source": []
  }
 ],
 "metadata": {
  "kernelspec": {
   "display_name": "Python 3 (ipykernel)",
   "language": "python",
   "name": "python3"
  },
  "language_info": {
   "codemirror_mode": {
    "name": "ipython",
    "version": 3
   },
   "file_extension": ".py",
   "mimetype": "text/x-python",
   "name": "python",
   "nbconvert_exporter": "python",
   "pygments_lexer": "ipython3",
   "version": "3.10.6"
  }
 },
 "nbformat": 4,
 "nbformat_minor": 5
}
