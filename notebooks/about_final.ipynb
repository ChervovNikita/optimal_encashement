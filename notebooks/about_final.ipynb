{
 "cells": [
  {
   "cell_type": "code",
   "execution_count": 1,
   "id": "beafae4e-8537-41d9-8673-ce954b195191",
   "metadata": {},
   "outputs": [],
   "source": [
    "import pandas as pd\n",
    "import numpy as np\n",
    "from sklearn import preprocessing\n",
    "import plotly.express as px\n",
    "from tqdm import tqdm\n",
    "import random\n",
    "\n",
    "import optuna\n",
    "from optuna.samplers import RandomSampler\n",
    "from optuna.samplers import TPESampler\n",
    "\n",
    "optuna.logging.set_verbosity(optuna.logging.ERROR)"
   ]
  },
  {
   "cell_type": "code",
   "execution_count": 2,
   "id": "d6f49282-c0e0-4b9b-8d8b-712a429e76e8",
   "metadata": {},
   "outputs": [
    {
     "data": {
      "text/plain": [
       "<module 'vrpp' from '/home/chervovn04/Programming/hackathons/2023/optimal_encashement/notebooks/../src/vrpp.py'>"
      ]
     },
     "execution_count": 2,
     "metadata": {},
     "output_type": "execute_result"
    }
   ],
   "source": [
    "import sys\n",
    "sys.path.append('../src')\n",
    "\n",
    "import vrpp\n",
    "import importlib\n",
    "importlib.reload(vrpp)"
   ]
  },
  {
   "cell_type": "code",
   "execution_count": 3,
   "id": "5620e027-e845-4ea3-a7b7-33cd6cca0528",
   "metadata": {},
   "outputs": [
    {
     "data": {
      "text/html": [
       "<div>\n",
       "<style scoped>\n",
       "    .dataframe tbody tr th:only-of-type {\n",
       "        vertical-align: middle;\n",
       "    }\n",
       "\n",
       "    .dataframe tbody tr th {\n",
       "        vertical-align: top;\n",
       "    }\n",
       "\n",
       "    .dataframe thead th {\n",
       "        text-align: right;\n",
       "    }\n",
       "</style>\n",
       "<table border=\"1\" class=\"dataframe\">\n",
       "  <thead>\n",
       "    <tr style=\"text-align: right;\">\n",
       "      <th></th>\n",
       "      <th>Origin_tid</th>\n",
       "      <th>Destination_tid</th>\n",
       "      <th>Total_Time</th>\n",
       "      <th>from_int</th>\n",
       "      <th>to_int</th>\n",
       "    </tr>\n",
       "  </thead>\n",
       "  <tbody>\n",
       "    <tr>\n",
       "      <th>0</th>\n",
       "      <td>636538</td>\n",
       "      <td>683103</td>\n",
       "      <td>15.32</td>\n",
       "      <td>864</td>\n",
       "      <td>1354</td>\n",
       "    </tr>\n",
       "    <tr>\n",
       "      <th>1</th>\n",
       "      <td>636538</td>\n",
       "      <td>634763</td>\n",
       "      <td>16.20</td>\n",
       "      <td>864</td>\n",
       "      <td>624</td>\n",
       "    </tr>\n",
       "    <tr>\n",
       "      <th>2</th>\n",
       "      <td>636538</td>\n",
       "      <td>683128</td>\n",
       "      <td>16.27</td>\n",
       "      <td>864</td>\n",
       "      <td>1358</td>\n",
       "    </tr>\n",
       "    <tr>\n",
       "      <th>3</th>\n",
       "      <td>636538</td>\n",
       "      <td>683789</td>\n",
       "      <td>16.77</td>\n",
       "      <td>864</td>\n",
       "      <td>1374</td>\n",
       "    </tr>\n",
       "    <tr>\n",
       "      <th>4</th>\n",
       "      <td>636538</td>\n",
       "      <td>634709</td>\n",
       "      <td>17.67</td>\n",
       "      <td>864</td>\n",
       "      <td>603</td>\n",
       "    </tr>\n",
       "  </tbody>\n",
       "</table>\n",
       "</div>"
      ],
      "text/plain": [
       "   Origin_tid  Destination_tid  Total_Time  from_int  to_int\n",
       "0      636538           683103       15.32       864    1354\n",
       "1      636538           634763       16.20       864     624\n",
       "2      636538           683128       16.27       864    1358\n",
       "3      636538           683789       16.77       864    1374\n",
       "4      636538           634709       17.67       864     603"
      ]
     },
     "execution_count": 3,
     "metadata": {},
     "output_type": "execute_result"
    }
   ],
   "source": [
    "dist = pd.read_csv('../data/raw/times v4.csv')\n",
    "le = preprocessing.LabelEncoder()\n",
    "le.fit(dist['Origin_tid'])\n",
    "dist['from_int'] = le.transform(dist['Origin_tid'])\n",
    "dist['to_int'] = le.transform(dist['Destination_tid'])\n",
    "dist.head()"
   ]
  },
  {
   "cell_type": "code",
   "execution_count": 4,
   "id": "2964d380-6993-4978-91d7-23ba4413cad0",
   "metadata": {},
   "outputs": [
    {
     "data": {
      "text/html": [
       "<div>\n",
       "<style scoped>\n",
       "    .dataframe tbody tr th:only-of-type {\n",
       "        vertical-align: middle;\n",
       "    }\n",
       "\n",
       "    .dataframe tbody tr th {\n",
       "        vertical-align: top;\n",
       "    }\n",
       "\n",
       "    .dataframe thead th {\n",
       "        text-align: right;\n",
       "    }\n",
       "</style>\n",
       "<table border=\"1\" class=\"dataframe\">\n",
       "  <thead>\n",
       "    <tr style=\"text-align: right;\">\n",
       "      <th></th>\n",
       "      <th>TID</th>\n",
       "      <th>остаток на 31.08.2022 (входящий)</th>\n",
       "      <th>2022-09-01 00:00:00</th>\n",
       "      <th>2022-09-02 00:00:00</th>\n",
       "      <th>2022-09-03 00:00:00</th>\n",
       "      <th>2022-09-04 00:00:00</th>\n",
       "      <th>2022-09-05 00:00:00</th>\n",
       "      <th>2022-09-06 00:00:00</th>\n",
       "      <th>2022-09-07 00:00:00</th>\n",
       "      <th>2022-09-08 00:00:00</th>\n",
       "      <th>...</th>\n",
       "      <th>2022-11-21 00:00:00</th>\n",
       "      <th>2022-11-22 00:00:00</th>\n",
       "      <th>2022-11-23 00:00:00</th>\n",
       "      <th>2022-11-24 00:00:00</th>\n",
       "      <th>2022-11-25 00:00:00</th>\n",
       "      <th>2022-11-26 00:00:00</th>\n",
       "      <th>2022-11-27 00:00:00</th>\n",
       "      <th>2022-11-28 00:00:00</th>\n",
       "      <th>2022-11-29 00:00:00</th>\n",
       "      <th>2022-11-30 00:00:00</th>\n",
       "    </tr>\n",
       "  </thead>\n",
       "  <tbody>\n",
       "    <tr>\n",
       "      <th>0</th>\n",
       "      <td>406136</td>\n",
       "      <td>160000</td>\n",
       "      <td>90000</td>\n",
       "      <td>105000</td>\n",
       "      <td>99000</td>\n",
       "      <td>107000</td>\n",
       "      <td>110000</td>\n",
       "      <td>60000</td>\n",
       "      <td>75000</td>\n",
       "      <td>89000</td>\n",
       "      <td>...</td>\n",
       "      <td>91000</td>\n",
       "      <td>78000</td>\n",
       "      <td>0</td>\n",
       "      <td>165000</td>\n",
       "      <td>0</td>\n",
       "      <td>189000</td>\n",
       "      <td>106000</td>\n",
       "      <td>94000</td>\n",
       "      <td>75000</td>\n",
       "      <td>74000</td>\n",
       "    </tr>\n",
       "    <tr>\n",
       "      <th>1</th>\n",
       "      <td>406139</td>\n",
       "      <td>387000</td>\n",
       "      <td>103000</td>\n",
       "      <td>206000</td>\n",
       "      <td>168000</td>\n",
       "      <td>124000</td>\n",
       "      <td>78000</td>\n",
       "      <td>165000</td>\n",
       "      <td>164000</td>\n",
       "      <td>174000</td>\n",
       "      <td>...</td>\n",
       "      <td>164000</td>\n",
       "      <td>153000</td>\n",
       "      <td>151000</td>\n",
       "      <td>157000</td>\n",
       "      <td>206000</td>\n",
       "      <td>182000</td>\n",
       "      <td>123000</td>\n",
       "      <td>138000</td>\n",
       "      <td>112000</td>\n",
       "      <td>179000</td>\n",
       "    </tr>\n",
       "    <tr>\n",
       "      <th>2</th>\n",
       "      <td>406145</td>\n",
       "      <td>287000</td>\n",
       "      <td>143000</td>\n",
       "      <td>136000</td>\n",
       "      <td>124000</td>\n",
       "      <td>117000</td>\n",
       "      <td>123000</td>\n",
       "      <td>140000</td>\n",
       "      <td>139000</td>\n",
       "      <td>138000</td>\n",
       "      <td>...</td>\n",
       "      <td>119000</td>\n",
       "      <td>100000</td>\n",
       "      <td>179000</td>\n",
       "      <td>169000</td>\n",
       "      <td>118000</td>\n",
       "      <td>118000</td>\n",
       "      <td>114000</td>\n",
       "      <td>128000</td>\n",
       "      <td>121000</td>\n",
       "      <td>124000</td>\n",
       "    </tr>\n",
       "    <tr>\n",
       "      <th>3</th>\n",
       "      <td>406148</td>\n",
       "      <td>355000</td>\n",
       "      <td>50000</td>\n",
       "      <td>73000</td>\n",
       "      <td>53000</td>\n",
       "      <td>65000</td>\n",
       "      <td>75000</td>\n",
       "      <td>100000</td>\n",
       "      <td>53000</td>\n",
       "      <td>52000</td>\n",
       "      <td>...</td>\n",
       "      <td>48000</td>\n",
       "      <td>55000</td>\n",
       "      <td>65000</td>\n",
       "      <td>85000</td>\n",
       "      <td>95000</td>\n",
       "      <td>68000</td>\n",
       "      <td>62000</td>\n",
       "      <td>0</td>\n",
       "      <td>118000</td>\n",
       "      <td>70000</td>\n",
       "    </tr>\n",
       "    <tr>\n",
       "      <th>4</th>\n",
       "      <td>406180</td>\n",
       "      <td>597000</td>\n",
       "      <td>96000</td>\n",
       "      <td>82000</td>\n",
       "      <td>71000</td>\n",
       "      <td>72000</td>\n",
       "      <td>86000</td>\n",
       "      <td>55000</td>\n",
       "      <td>55000</td>\n",
       "      <td>75000</td>\n",
       "      <td>...</td>\n",
       "      <td>82000</td>\n",
       "      <td>56000</td>\n",
       "      <td>70000</td>\n",
       "      <td>59000</td>\n",
       "      <td>105000</td>\n",
       "      <td>70000</td>\n",
       "      <td>77000</td>\n",
       "      <td>87000</td>\n",
       "      <td>59000</td>\n",
       "      <td>55000</td>\n",
       "    </tr>\n",
       "  </tbody>\n",
       "</table>\n",
       "<p>5 rows × 93 columns</p>\n",
       "</div>"
      ],
      "text/plain": [
       "      TID  остаток на 31.08.2022 (входящий)  2022-09-01 00:00:00  \\\n",
       "0  406136                            160000                90000   \n",
       "1  406139                            387000               103000   \n",
       "2  406145                            287000               143000   \n",
       "3  406148                            355000                50000   \n",
       "4  406180                            597000                96000   \n",
       "\n",
       "   2022-09-02 00:00:00  2022-09-03 00:00:00  2022-09-04 00:00:00  \\\n",
       "0               105000                99000               107000   \n",
       "1               206000               168000               124000   \n",
       "2               136000               124000               117000   \n",
       "3                73000                53000                65000   \n",
       "4                82000                71000                72000   \n",
       "\n",
       "   2022-09-05 00:00:00  2022-09-06 00:00:00  2022-09-07 00:00:00  \\\n",
       "0               110000                60000                75000   \n",
       "1                78000               165000               164000   \n",
       "2               123000               140000               139000   \n",
       "3                75000               100000                53000   \n",
       "4                86000                55000                55000   \n",
       "\n",
       "   2022-09-08 00:00:00  ...  2022-11-21 00:00:00  2022-11-22 00:00:00  \\\n",
       "0                89000  ...                91000                78000   \n",
       "1               174000  ...               164000               153000   \n",
       "2               138000  ...               119000               100000   \n",
       "3                52000  ...                48000                55000   \n",
       "4                75000  ...                82000                56000   \n",
       "\n",
       "   2022-11-23 00:00:00  2022-11-24 00:00:00  2022-11-25 00:00:00  \\\n",
       "0                    0               165000                    0   \n",
       "1               151000               157000               206000   \n",
       "2               179000               169000               118000   \n",
       "3                65000                85000                95000   \n",
       "4                70000                59000               105000   \n",
       "\n",
       "   2022-11-26 00:00:00  2022-11-27 00:00:00  2022-11-28 00:00:00  \\\n",
       "0               189000               106000                94000   \n",
       "1               182000               123000               138000   \n",
       "2               118000               114000               128000   \n",
       "3                68000                62000                    0   \n",
       "4                70000                77000                87000   \n",
       "\n",
       "   2022-11-29 00:00:00  2022-11-30 00:00:00  \n",
       "0                75000                74000  \n",
       "1               112000               179000  \n",
       "2               121000               124000  \n",
       "3               118000                70000  \n",
       "4                59000                55000  \n",
       "\n",
       "[5 rows x 93 columns]"
      ]
     },
     "execution_count": 4,
     "metadata": {},
     "output_type": "execute_result"
    }
   ],
   "source": [
    "data = pd.read_excel('../data/raw/terminal_data_hackathon v4.xlsx', 'Incomes')\n",
    "data.head()"
   ]
  },
  {
   "cell_type": "code",
   "execution_count": 5,
   "id": "b691d9aa-8ffe-4ee6-97c0-72238f10e220",
   "metadata": {},
   "outputs": [],
   "source": [
    "config = {'num_terminals': dist['from_int'].max() + 1,\n",
    "          'persent_day_income': 0.02 / 365,\n",
    "          'terminal_service_cost': 100,\n",
    "          'terminal_service_persent': 0, #0.01\n",
    "          'max_terminal_money': 1000000,\n",
    "          'max_not_service_days': 14,\n",
    "          'armored_car_day_cost': 20000,\n",
    "          'work_time': 10 * 60,\n",
    "          'service_time': 10,\n",
    "          'left_days_coef': 0,\n",
    "          'encashment_coef': 0,}"
   ]
  },
  {
   "cell_type": "code",
   "execution_count": 6,
   "id": "4867672a-c250-4811-923e-d7450aab051c",
   "metadata": {},
   "outputs": [],
   "source": [
    "cash = (data[data.columns[1:]].values * (1 + 0.2 * (random.random() - 0.5))).copy()\n",
    "real_cash = data[data.columns[1:]].values.copy()\n",
    "cash = real_cash.copy()"
   ]
  },
  {
   "cell_type": "code",
   "execution_count": 7,
   "id": "cc84e1b6-9d29-449e-a182-3644b8aa3a20",
   "metadata": {},
   "outputs": [
    {
     "data": {
      "text/plain": [
       "(1630, 92)"
      ]
     },
     "execution_count": 7,
     "metadata": {},
     "output_type": "execute_result"
    }
   ],
   "source": [
    "cash = cash.astype(int)\n",
    "cash.shape"
   ]
  },
  {
   "cell_type": "code",
   "execution_count": 8,
   "id": "0d9cb595-971e-4bdc-ae18-19ed9d9222f9",
   "metadata": {},
   "outputs": [],
   "source": [
    "INF = 1e9"
   ]
  },
  {
   "cell_type": "code",
   "execution_count": 9,
   "id": "c9698d8b-baec-49af-9566-2c5d717826ed",
   "metadata": {},
   "outputs": [],
   "source": [
    "def get_cost(days_left):\n",
    "    if days_left == 0: return INF\n",
    "    return 2 ** (config['max_not_service_days'] - days_left)"
   ]
  },
  {
   "cell_type": "code",
   "execution_count": null,
   "id": "61f55fb3-2e68-4cf1-a344-2d2d429c740c",
   "metadata": {},
   "outputs": [
    {
     "name": "stderr",
     "output_type": "stream",
     "text": [
      "  0%|                                                                             | 0/31 [00:00<?, ?it/s]"
     ]
    },
    {
     "name": "stdout",
     "output_type": "stream",
     "text": [
      "   8  256  128    8  256  512  128 4096 4096  128  512   16 1024 4096 2048 4096 4096  512    2    2    2    2    2  128  256    2   16 1024    4  512    2  128    2    8    2  128    2    2  256    2    2   32    8    2   32   16    2    2    2    2    4    2 1024    2    2  256   32    2   32    2    2  256    2    2   16   16    2  128  256    2    2  256    2 1024    2    2    2    2    2    4   16    2    4    2    2    2    2  512   64    2    2    2    8    2    2   32    2    4    2    2 \n"
     ]
    },
    {
     "name": "stderr",
     "output_type": "stream",
     "text": [
      "  3%|██▏                                                                  | 1/31 [00:11<05:41, 11.37s/it]"
     ]
    },
    {
     "name": "stdout",
     "output_type": "stream",
     "text": [
      "  16  512  256   16  512 1024  256 8192 8192  256 1024   32 2048 8192 4096 8192 8192 1024    4    4    4    4    4  256  512    4   32 2048    8 1024    4  256    4   16    4  256    4    4  512    4    4   64   16    4   64   32    4    4    4    4    8    4 2048    4    4  512   64    4   64    4    4  512    4    4   32   32    4  256  512    4    4  512    4 2048    4    4    4    4    4    8   32    4    8    4    4    4    4 1024  128    4    4    4   16    4    4   64    4    8    4    4 \n"
     ]
    },
    {
     "name": "stderr",
     "output_type": "stream",
     "text": [
      "  6%|████▍                                                                | 2/31 [00:23<05:45, 11.91s/it]"
     ]
    },
    {
     "name": "stdout",
     "output_type": "stream",
     "text": [
      "  32 1024  512   32 1024 1024  512 4096  128  512   32   64  512    4   64 2048 8192   32    8    8    8    8    8  512 1024    8   64 2048   16    8    8  512    8   32    8  512    8    8 1024    8    8  128   32    8  128   64    8    8    8    8   16    8  512    8    8 1024  128    8  128    8    8 1024    8    8   64   64    8  512 1024    8    8 1024    8   64    8    8    8    8    8   16   64    8   16    8    8    8    8 2048  256    8    8    8   32    8    8  128    8   16    8    8 \n"
     ]
    },
    {
     "name": "stderr",
     "output_type": "stream",
     "text": [
      " 10%|██████▋                                                              | 3/31 [00:40<06:40, 14.29s/it]"
     ]
    },
    {
     "name": "stdout",
     "output_type": "stream",
     "text": [
      "  64  256 1024   64    2 1024  128 4096  256    2   64  128  512    8  128 1024 8192   64   16   16   16   16   16    2   64   16  128 2048   32   16   16    2   16   64   16   32   16   16   64   16   16  256   64   16  256  128   16   16   16   16   32   16  512   16   16    2  256   16  256   16   16   32   16   16  128  128   16    4  128   16   16    2   16  128   16   16   16   16   16   32  128   16   32   16   16   16   16  256  512   16   16   16   64   16   16  256   16   32   16   16 \n"
     ]
    },
    {
     "name": "stderr",
     "output_type": "stream",
     "text": [
      " 13%|████████▉                                                            | 4/31 [02:21<21:43, 48.26s/it]"
     ]
    },
    {
     "name": "stdout",
     "output_type": "stream",
     "text": [
      " 128  512  128  128    4  512  256 4096  512    4  128  256  256   16  256 1024 1000000000  128   32   32   32   32   32    4  128   32  256 2048   64   32   32    4   32  128   32   64   32   32  128   32   32  512  128   32  512  256   32   32   32   32   64   32  512   32   32    4  512   32    2   32   32   64   32   32  256  256   32    8  256   32   32    4   32  256   32   32   32   32   32   64  256   32   64   32   32   32   32  512    8   32   32   32  128   32   32  512   32   64   32   32 \n"
     ]
    },
    {
     "name": "stderr",
     "output_type": "stream",
     "text": [
      " 16%|███████████▏                                                         | 5/31 [03:14<21:46, 50.27s/it]"
     ]
    },
    {
     "name": "stdout",
     "output_type": "stream",
     "text": [
      " 256  256  256  256    8  512  128 2048  128    8  256   32  512   32  512 1024 8192  256   64   64   64   64   64    8  256   64  512 2048  128   64   64    8   64  256   64  128   64   64  256   64   64    2  256   64    2  512   64   64   64   64  128   64  512   64   64    8    4   64    4   64   64  128   64   64    8    2   64   16  512   64   64    8   64  512   64   64   64   64   64  128  512   64  128   64   64   64   64 1024   16   64   64   64  256   64   64 1024   64  128   64   64 \n"
     ]
    },
    {
     "name": "stderr",
     "output_type": "stream",
     "text": [
      " 19%|█████████████▎                                                       | 6/31 [04:02<20:37, 49.51s/it]"
     ]
    },
    {
     "name": "stdout",
     "output_type": "stream",
     "text": [
      " 512  512  512  512   16 1024  256 2048  256   16  512   64  256   64    8 1024 8192  512  128  128  128  128  128   16  512  128   32 2048  256  128  128   16  128  512  128  256  128  128  512  128  128    4  512  128    4    2  128  128  128  128  256  128  512  128  128   16    8  128    8  128  128  256  128  128   16    4  128   32  128  128  128   16  128   64  128  128  128  128  128  256    8  128  256  128  128  128  128  256   32  128  128  128  512  128  128    2  128  256  128  128 \n"
     ]
    },
    {
     "name": "stderr",
     "output_type": "stream",
     "text": [
      " 23%|███████████████▌                                                     | 7/31 [04:40<18:16, 45.67s/it]"
     ]
    },
    {
     "name": "stdout",
     "output_type": "stream",
     "text": [
      "   4  256  128    2   32 1024  512 2048  512   32    8  128  512  128   16 1024 8192   32  256  256  256  256  256   32   64  256   64 2048  512  256  256   32  256    2  256  512  256  256   64  256  256    8    2  256    8    4  256  256  256  256  512  256  512  256  256   32   16  256   16  256  256   16  256  256   32    8  256   64  256  256  256   32  256  128  256  256  256  256  256  512   16  256  512  256  256  256  256  512   64  256  256  256    2  256  256    4  256  512  256  256 \n"
     ]
    },
    {
     "name": "stderr",
     "output_type": "stream",
     "text": [
      " 26%|█████████████████▊                                                   | 8/31 [05:08<15:17, 39.91s/it]"
     ]
    },
    {
     "name": "stdout",
     "output_type": "stream",
     "text": [
      "   8  512  256    4   64 1024  128 2048  128   64   16  256 1024  256   32 2048 8192   64  512  512  512  512  512   64  128  512   16 2048    8  512  512   64  512    4  512   32  512  512  128  512  512   16    4  512   16    8  512  512  512  512    2  512  512  512  512   64   32  512   32  512  512   32  512  512   64   16  512  128  512  512  512   64  512  256  512  512  512  512  512    2   32  512    2  512  512  512  512 1024  128  512  512  512    4  512  512    8  512 1024  512  512 \n"
     ]
    }
   ],
   "source": [
    "num_vehicles = 5\n",
    "num_terminals = cash.shape[0]\n",
    "time_until_force = [config['max_not_service_days'] - 1 for i in range(num_terminals)]\n",
    "cur_cash = np.zeros(num_terminals)\n",
    "hist = {'visited': [], 'loss': []}\n",
    "bad = False\n",
    "\n",
    "myvrp = vrpp.VRPP(dist, 10, 10 * 60, num_vehicles, solution_limit=100, time_limit=100, dead_loss=False)\n",
    "\n",
    "days = 31\n",
    "for day in tqdm(range(days)):\n",
    "    mask = []\n",
    "    cost = []\n",
    "    for i in range(num_terminals):\n",
    "        current_money = cur_cash[i]\n",
    "        force = time_until_force[i]\n",
    "        for forecast in range(force):\n",
    "            if current_money > config['max_terminal_money']:\n",
    "                force = forecast\n",
    "                break\n",
    "            if not forecast:\n",
    "                current_money += cash[i][day + forecast]\n",
    "            else:\n",
    "                current_money += cash[i][day + forecast] # check later\n",
    "        mask.append(1)\n",
    "        cost.append(int(get_cost(force)))\n",
    "    \n",
    "    for i in range(100):\n",
    "        print(\" \" * (4 - len(str(cost[i]))) + str(cost[i]), end=' ')\n",
    "    print()\n",
    "    # print(\" \"cost[:100])\n",
    "    \n",
    "    visited, paths = myvrp.find_vrp(cost, mask)\n",
    "    hist['visited'].append(visited)\n",
    "    \n",
    "    prev = []\n",
    "    cur_loss = 0\n",
    "    for i in range(num_terminals):\n",
    "        if cur_cash[i] > config['max_terminal_money'] or time_until_force[i] == 0:\n",
    "            if not visited[i]:\n",
    "                print('Dead')\n",
    "                bad = True\n",
    "                break\n",
    "\n",
    "        if visited[i]:\n",
    "            cur_loss += config['terminal_service_cost']\n",
    "            cur_cash[i] = 0\n",
    "            time_until_force[i] = 14\n",
    "\n",
    "\n",
    "        time_until_force[i] -= 1 \n",
    "        cur_loss += cur_cash[i] * config['persent_day_income']\n",
    "        cur_cash[i] += real_cash[i][day]\n",
    "    \n",
    "    if bad: break\n",
    "    \n",
    "    hist['loss'].append(cur_loss)\n",
    "print(sum(hist['loss']))"
   ]
  },
  {
   "cell_type": "code",
   "execution_count": null,
   "id": "d87b815e-0174-4fa8-97e0-788ea0cf555a",
   "metadata": {},
   "outputs": [],
   "source": []
  },
  {
   "cell_type": "code",
   "execution_count": null,
   "id": "dd10fb85-1182-4fbb-98b1-2c77f079ed6b",
   "metadata": {},
   "outputs": [],
   "source": []
  },
  {
   "cell_type": "code",
   "execution_count": null,
   "id": "123fdfab-0347-4e95-b71a-dbb6372c14ae",
   "metadata": {},
   "outputs": [],
   "source": []
  },
  {
   "cell_type": "code",
   "execution_count": null,
   "id": "4ae03afa-ad30-42a9-9a0f-dd9e01deb68a",
   "metadata": {},
   "outputs": [],
   "source": []
  },
  {
   "cell_type": "code",
   "execution_count": null,
   "id": "33e04e6b-0723-48c9-bbf5-be9695664b04",
   "metadata": {},
   "outputs": [],
   "source": []
  },
  {
   "cell_type": "code",
   "execution_count": null,
   "id": "859cc7e9-6a8f-468b-9f87-6f49cbe37aae",
   "metadata": {},
   "outputs": [],
   "source": []
  }
 ],
 "metadata": {
  "kernelspec": {
   "display_name": "Python 3 (ipykernel)",
   "language": "python",
   "name": "python3"
  },
  "language_info": {
   "codemirror_mode": {
    "name": "ipython",
    "version": 3
   },
   "file_extension": ".py",
   "mimetype": "text/x-python",
   "name": "python",
   "nbconvert_exporter": "python",
   "pygments_lexer": "ipython3",
   "version": "3.10.6"
  }
 },
 "nbformat": 4,
 "nbformat_minor": 5
}
