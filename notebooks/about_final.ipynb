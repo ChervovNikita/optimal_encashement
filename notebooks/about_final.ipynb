{
 "cells": [
  {
   "cell_type": "code",
   "execution_count": 1,
   "id": "beafae4e-8537-41d9-8673-ce954b195191",
   "metadata": {},
   "outputs": [],
   "source": [
    "import pandas as pd\n",
    "import numpy as np\n",
    "from sklearn import preprocessing\n",
    "import plotly.express as px\n",
    "from tqdm import tqdm\n",
    "import random\n",
    "\n",
    "import optuna\n",
    "from optuna.samplers import RandomSampler\n",
    "from optuna.samplers import TPESampler\n",
    "\n",
    "optuna.logging.set_verbosity(optuna.logging.ERROR)"
   ]
  },
  {
   "cell_type": "code",
   "execution_count": 2,
   "id": "d6f49282-c0e0-4b9b-8d8b-712a429e76e8",
   "metadata": {},
   "outputs": [
    {
     "data": {
      "text/plain": [
       "<module 'vrpp' from '/home/chervovn04/Programming/hackathons/2023/optimal_encashement/notebooks/../src/vrpp.py'>"
      ]
     },
     "execution_count": 2,
     "metadata": {},
     "output_type": "execute_result"
    }
   ],
   "source": [
    "import sys\n",
    "sys.path.append('../src')\n",
    "\n",
    "import vrpp\n",
    "import importlib\n",
    "importlib.reload(vrpp)"
   ]
  },
  {
   "cell_type": "code",
   "execution_count": 3,
   "id": "5620e027-e845-4ea3-a7b7-33cd6cca0528",
   "metadata": {},
   "outputs": [
    {
     "data": {
      "text/html": [
       "<div>\n",
       "<style scoped>\n",
       "    .dataframe tbody tr th:only-of-type {\n",
       "        vertical-align: middle;\n",
       "    }\n",
       "\n",
       "    .dataframe tbody tr th {\n",
       "        vertical-align: top;\n",
       "    }\n",
       "\n",
       "    .dataframe thead th {\n",
       "        text-align: right;\n",
       "    }\n",
       "</style>\n",
       "<table border=\"1\" class=\"dataframe\">\n",
       "  <thead>\n",
       "    <tr style=\"text-align: right;\">\n",
       "      <th></th>\n",
       "      <th>Origin_tid</th>\n",
       "      <th>Destination_tid</th>\n",
       "      <th>Total_Time</th>\n",
       "      <th>from_int</th>\n",
       "      <th>to_int</th>\n",
       "    </tr>\n",
       "  </thead>\n",
       "  <tbody>\n",
       "    <tr>\n",
       "      <th>0</th>\n",
       "      <td>636538</td>\n",
       "      <td>683103</td>\n",
       "      <td>15.32</td>\n",
       "      <td>864</td>\n",
       "      <td>1354</td>\n",
       "    </tr>\n",
       "    <tr>\n",
       "      <th>1</th>\n",
       "      <td>636538</td>\n",
       "      <td>634763</td>\n",
       "      <td>16.20</td>\n",
       "      <td>864</td>\n",
       "      <td>624</td>\n",
       "    </tr>\n",
       "    <tr>\n",
       "      <th>2</th>\n",
       "      <td>636538</td>\n",
       "      <td>683128</td>\n",
       "      <td>16.27</td>\n",
       "      <td>864</td>\n",
       "      <td>1358</td>\n",
       "    </tr>\n",
       "    <tr>\n",
       "      <th>3</th>\n",
       "      <td>636538</td>\n",
       "      <td>683789</td>\n",
       "      <td>16.77</td>\n",
       "      <td>864</td>\n",
       "      <td>1374</td>\n",
       "    </tr>\n",
       "    <tr>\n",
       "      <th>4</th>\n",
       "      <td>636538</td>\n",
       "      <td>634709</td>\n",
       "      <td>17.67</td>\n",
       "      <td>864</td>\n",
       "      <td>603</td>\n",
       "    </tr>\n",
       "  </tbody>\n",
       "</table>\n",
       "</div>"
      ],
      "text/plain": [
       "   Origin_tid  Destination_tid  Total_Time  from_int  to_int\n",
       "0      636538           683103       15.32       864    1354\n",
       "1      636538           634763       16.20       864     624\n",
       "2      636538           683128       16.27       864    1358\n",
       "3      636538           683789       16.77       864    1374\n",
       "4      636538           634709       17.67       864     603"
      ]
     },
     "execution_count": 3,
     "metadata": {},
     "output_type": "execute_result"
    }
   ],
   "source": [
    "dist = pd.read_csv('../data/raw/times v4.csv')\n",
    "le = preprocessing.LabelEncoder()\n",
    "le.fit(dist['Origin_tid'])\n",
    "dist['from_int'] = le.transform(dist['Origin_tid'])\n",
    "dist['to_int'] = le.transform(dist['Destination_tid'])\n",
    "dist.head()"
   ]
  },
  {
   "cell_type": "code",
   "execution_count": 4,
   "id": "2964d380-6993-4978-91d7-23ba4413cad0",
   "metadata": {},
   "outputs": [
    {
     "data": {
      "text/html": [
       "<div>\n",
       "<style scoped>\n",
       "    .dataframe tbody tr th:only-of-type {\n",
       "        vertical-align: middle;\n",
       "    }\n",
       "\n",
       "    .dataframe tbody tr th {\n",
       "        vertical-align: top;\n",
       "    }\n",
       "\n",
       "    .dataframe thead th {\n",
       "        text-align: right;\n",
       "    }\n",
       "</style>\n",
       "<table border=\"1\" class=\"dataframe\">\n",
       "  <thead>\n",
       "    <tr style=\"text-align: right;\">\n",
       "      <th></th>\n",
       "      <th>TID</th>\n",
       "      <th>остаток на 31.08.2022 (входящий)</th>\n",
       "      <th>2022-09-01 00:00:00</th>\n",
       "      <th>2022-09-02 00:00:00</th>\n",
       "      <th>2022-09-03 00:00:00</th>\n",
       "      <th>2022-09-04 00:00:00</th>\n",
       "      <th>2022-09-05 00:00:00</th>\n",
       "      <th>2022-09-06 00:00:00</th>\n",
       "      <th>2022-09-07 00:00:00</th>\n",
       "      <th>2022-09-08 00:00:00</th>\n",
       "      <th>...</th>\n",
       "      <th>2022-11-21 00:00:00</th>\n",
       "      <th>2022-11-22 00:00:00</th>\n",
       "      <th>2022-11-23 00:00:00</th>\n",
       "      <th>2022-11-24 00:00:00</th>\n",
       "      <th>2022-11-25 00:00:00</th>\n",
       "      <th>2022-11-26 00:00:00</th>\n",
       "      <th>2022-11-27 00:00:00</th>\n",
       "      <th>2022-11-28 00:00:00</th>\n",
       "      <th>2022-11-29 00:00:00</th>\n",
       "      <th>2022-11-30 00:00:00</th>\n",
       "    </tr>\n",
       "  </thead>\n",
       "  <tbody>\n",
       "    <tr>\n",
       "      <th>0</th>\n",
       "      <td>406136</td>\n",
       "      <td>160000</td>\n",
       "      <td>90000</td>\n",
       "      <td>105000</td>\n",
       "      <td>99000</td>\n",
       "      <td>107000</td>\n",
       "      <td>110000</td>\n",
       "      <td>60000</td>\n",
       "      <td>75000</td>\n",
       "      <td>89000</td>\n",
       "      <td>...</td>\n",
       "      <td>91000</td>\n",
       "      <td>78000</td>\n",
       "      <td>0</td>\n",
       "      <td>165000</td>\n",
       "      <td>0</td>\n",
       "      <td>189000</td>\n",
       "      <td>106000</td>\n",
       "      <td>94000</td>\n",
       "      <td>75000</td>\n",
       "      <td>74000</td>\n",
       "    </tr>\n",
       "    <tr>\n",
       "      <th>1</th>\n",
       "      <td>406139</td>\n",
       "      <td>387000</td>\n",
       "      <td>103000</td>\n",
       "      <td>206000</td>\n",
       "      <td>168000</td>\n",
       "      <td>124000</td>\n",
       "      <td>78000</td>\n",
       "      <td>165000</td>\n",
       "      <td>164000</td>\n",
       "      <td>174000</td>\n",
       "      <td>...</td>\n",
       "      <td>164000</td>\n",
       "      <td>153000</td>\n",
       "      <td>151000</td>\n",
       "      <td>157000</td>\n",
       "      <td>206000</td>\n",
       "      <td>182000</td>\n",
       "      <td>123000</td>\n",
       "      <td>138000</td>\n",
       "      <td>112000</td>\n",
       "      <td>179000</td>\n",
       "    </tr>\n",
       "    <tr>\n",
       "      <th>2</th>\n",
       "      <td>406145</td>\n",
       "      <td>287000</td>\n",
       "      <td>143000</td>\n",
       "      <td>136000</td>\n",
       "      <td>124000</td>\n",
       "      <td>117000</td>\n",
       "      <td>123000</td>\n",
       "      <td>140000</td>\n",
       "      <td>139000</td>\n",
       "      <td>138000</td>\n",
       "      <td>...</td>\n",
       "      <td>119000</td>\n",
       "      <td>100000</td>\n",
       "      <td>179000</td>\n",
       "      <td>169000</td>\n",
       "      <td>118000</td>\n",
       "      <td>118000</td>\n",
       "      <td>114000</td>\n",
       "      <td>128000</td>\n",
       "      <td>121000</td>\n",
       "      <td>124000</td>\n",
       "    </tr>\n",
       "    <tr>\n",
       "      <th>3</th>\n",
       "      <td>406148</td>\n",
       "      <td>355000</td>\n",
       "      <td>50000</td>\n",
       "      <td>73000</td>\n",
       "      <td>53000</td>\n",
       "      <td>65000</td>\n",
       "      <td>75000</td>\n",
       "      <td>100000</td>\n",
       "      <td>53000</td>\n",
       "      <td>52000</td>\n",
       "      <td>...</td>\n",
       "      <td>48000</td>\n",
       "      <td>55000</td>\n",
       "      <td>65000</td>\n",
       "      <td>85000</td>\n",
       "      <td>95000</td>\n",
       "      <td>68000</td>\n",
       "      <td>62000</td>\n",
       "      <td>0</td>\n",
       "      <td>118000</td>\n",
       "      <td>70000</td>\n",
       "    </tr>\n",
       "    <tr>\n",
       "      <th>4</th>\n",
       "      <td>406180</td>\n",
       "      <td>597000</td>\n",
       "      <td>96000</td>\n",
       "      <td>82000</td>\n",
       "      <td>71000</td>\n",
       "      <td>72000</td>\n",
       "      <td>86000</td>\n",
       "      <td>55000</td>\n",
       "      <td>55000</td>\n",
       "      <td>75000</td>\n",
       "      <td>...</td>\n",
       "      <td>82000</td>\n",
       "      <td>56000</td>\n",
       "      <td>70000</td>\n",
       "      <td>59000</td>\n",
       "      <td>105000</td>\n",
       "      <td>70000</td>\n",
       "      <td>77000</td>\n",
       "      <td>87000</td>\n",
       "      <td>59000</td>\n",
       "      <td>55000</td>\n",
       "    </tr>\n",
       "  </tbody>\n",
       "</table>\n",
       "<p>5 rows × 93 columns</p>\n",
       "</div>"
      ],
      "text/plain": [
       "      TID  остаток на 31.08.2022 (входящий)  2022-09-01 00:00:00  \\\n",
       "0  406136                            160000                90000   \n",
       "1  406139                            387000               103000   \n",
       "2  406145                            287000               143000   \n",
       "3  406148                            355000                50000   \n",
       "4  406180                            597000                96000   \n",
       "\n",
       "   2022-09-02 00:00:00  2022-09-03 00:00:00  2022-09-04 00:00:00  \\\n",
       "0               105000                99000               107000   \n",
       "1               206000               168000               124000   \n",
       "2               136000               124000               117000   \n",
       "3                73000                53000                65000   \n",
       "4                82000                71000                72000   \n",
       "\n",
       "   2022-09-05 00:00:00  2022-09-06 00:00:00  2022-09-07 00:00:00  \\\n",
       "0               110000                60000                75000   \n",
       "1                78000               165000               164000   \n",
       "2               123000               140000               139000   \n",
       "3                75000               100000                53000   \n",
       "4                86000                55000                55000   \n",
       "\n",
       "   2022-09-08 00:00:00  ...  2022-11-21 00:00:00  2022-11-22 00:00:00  \\\n",
       "0                89000  ...                91000                78000   \n",
       "1               174000  ...               164000               153000   \n",
       "2               138000  ...               119000               100000   \n",
       "3                52000  ...                48000                55000   \n",
       "4                75000  ...                82000                56000   \n",
       "\n",
       "   2022-11-23 00:00:00  2022-11-24 00:00:00  2022-11-25 00:00:00  \\\n",
       "0                    0               165000                    0   \n",
       "1               151000               157000               206000   \n",
       "2               179000               169000               118000   \n",
       "3                65000                85000                95000   \n",
       "4                70000                59000               105000   \n",
       "\n",
       "   2022-11-26 00:00:00  2022-11-27 00:00:00  2022-11-28 00:00:00  \\\n",
       "0               189000               106000                94000   \n",
       "1               182000               123000               138000   \n",
       "2               118000               114000               128000   \n",
       "3                68000                62000                    0   \n",
       "4                70000                77000                87000   \n",
       "\n",
       "   2022-11-29 00:00:00  2022-11-30 00:00:00  \n",
       "0                75000                74000  \n",
       "1               112000               179000  \n",
       "2               121000               124000  \n",
       "3               118000                70000  \n",
       "4                59000                55000  \n",
       "\n",
       "[5 rows x 93 columns]"
      ]
     },
     "execution_count": 4,
     "metadata": {},
     "output_type": "execute_result"
    }
   ],
   "source": [
    "data = pd.read_excel('../data/raw/terminal_data_hackathon v4.xlsx', 'Incomes')\n",
    "data.head()"
   ]
  },
  {
   "cell_type": "code",
   "execution_count": 5,
   "id": "b691d9aa-8ffe-4ee6-97c0-72238f10e220",
   "metadata": {},
   "outputs": [],
   "source": [
    "config = {'num_terminals': dist['from_int'].max() + 1,\n",
    "          'persent_day_income': 0.02 / 365,\n",
    "          'terminal_service_cost': 100,\n",
    "          'terminal_service_persent': 0, #0.01\n",
    "          'max_terminal_money': 1000000,\n",
    "          'max_not_service_days': 14,\n",
    "          'armored_car_day_cost': 20000,\n",
    "          'work_time': 10 * 60,\n",
    "          'service_time': 10,\n",
    "          'left_days_coef': 0,\n",
    "          'encashment_coef': 0,}"
   ]
  },
  {
   "cell_type": "code",
   "execution_count": 6,
   "id": "4867672a-c250-4811-923e-d7450aab051c",
   "metadata": {},
   "outputs": [],
   "source": [
    "cash = (data[data.columns[1:]].values * (1 + 0.2 * (random.random() - 0.5))).copy()\n",
    "real_cash = data[data.columns[1:]].values.copy()\n",
    "cash = real_cash.copy()"
   ]
  },
  {
   "cell_type": "code",
   "execution_count": 7,
   "id": "cc84e1b6-9d29-449e-a182-3644b8aa3a20",
   "metadata": {},
   "outputs": [
    {
     "data": {
      "text/plain": [
       "(1630, 92)"
      ]
     },
     "execution_count": 7,
     "metadata": {},
     "output_type": "execute_result"
    }
   ],
   "source": [
    "cash = cash.astype(int)\n",
    "cash.shape"
   ]
  },
  {
   "cell_type": "code",
   "execution_count": 8,
   "id": "0d9cb595-971e-4bdc-ae18-19ed9d9222f9",
   "metadata": {},
   "outputs": [],
   "source": [
    "INF = 1e9"
   ]
  },
  {
   "cell_type": "code",
   "execution_count": 9,
   "id": "c9698d8b-baec-49af-9566-2c5d717826ed",
   "metadata": {},
   "outputs": [],
   "source": [
    "def get_cost(days_left):\n",
    "    if days_left == 0: return INF\n",
    "    return 2 ** (config['max_not_service_days'] - days_left)"
   ]
  },
  {
   "cell_type": "code",
   "execution_count": 10,
   "id": "61f55fb3-2e68-4cf1-a344-2d2d429c740c",
   "metadata": {},
   "outputs": [
    {
     "name": "stderr",
     "output_type": "stream",
     "text": [
      "  0%|                                                                             | 0/90 [00:00<?, ?it/s]"
     ]
    },
    {
     "name": "stdout",
     "output_type": "stream",
     "text": [
      "[0, 0, 0, 0, 0, 0, 0, 0, 0, 0, 0, 0, 0, 1630]\n"
     ]
    },
    {
     "name": "stderr",
     "output_type": "stream",
     "text": [
      "  1%|▊                                                                    | 1/90 [00:32<47:39, 32.13s/it]"
     ]
    },
    {
     "name": "stdout",
     "output_type": "stream",
     "text": [
      "[11, 0, 0, 0, 0, 0, 0, 0, 0, 0, 0, 0, 1387, 232]\n"
     ]
    },
    {
     "name": "stderr",
     "output_type": "stream",
     "text": [
      "  2%|█▌                                                                   | 2/90 [01:03<46:49, 31.93s/it]"
     ]
    },
    {
     "name": "stdout",
     "output_type": "stream",
     "text": [
      "[7, 0, 0, 0, 0, 0, 0, 0, 0, 0, 0, 1163, 231, 229]\n"
     ]
    },
    {
     "name": "stderr",
     "output_type": "stream",
     "text": [
      "  3%|██▎                                                                  | 3/90 [01:42<50:23, 34.75s/it]"
     ]
    },
    {
     "name": "stdout",
     "output_type": "stream",
     "text": [
      "[19, 0, 0, 0, 0, 0, 0, 0, 0, 0, 933, 224, 227, 227]\n"
     ]
    },
    {
     "name": "stderr",
     "output_type": "stream",
     "text": [
      "  4%|███                                                                  | 4/90 [02:18<50:53, 35.51s/it]"
     ]
    },
    {
     "name": "stdout",
     "output_type": "stream",
     "text": [
      "[20, 0, 0, 0, 0, 0, 0, 0, 0, 741, 218, 225, 226, 200]\n"
     ]
    },
    {
     "name": "stderr",
     "output_type": "stream",
     "text": [
      "  6%|███▊                                                                 | 5/90 [02:45<45:42, 32.26s/it]"
     ]
    },
    {
     "name": "stdout",
     "output_type": "stream",
     "text": [
      "[21, 0, 0, 0, 0, 0, 0, 0, 563, 214, 225, 224, 199, 184]\n"
     ]
    },
    {
     "name": "stderr",
     "output_type": "stream",
     "text": [
      "  7%|████▌                                                                | 6/90 [03:15<44:02, 31.46s/it]"
     ]
    },
    {
     "name": "stdout",
     "output_type": "stream",
     "text": [
      "[22, 0, 0, 0, 0, 0, 0, 380, 202, 224, 222, 199, 183, 198]\n"
     ]
    },
    {
     "name": "stderr",
     "output_type": "stream",
     "text": [
      "  8%|█████▎                                                               | 7/90 [03:41<41:07, 29.73s/it]"
     ]
    },
    {
     "name": "stdout",
     "output_type": "stream",
     "text": [
      "[18, 0, 0, 0, 0, 0, 217, 195, 220, 220, 199, 183, 198, 180]\n"
     ]
    },
    {
     "name": "stderr",
     "output_type": "stream",
     "text": [
      "  9%|██████▏                                                              | 8/90 [04:01<36:18, 26.56s/it]"
     ]
    },
    {
     "name": "stdout",
     "output_type": "stream",
     "text": [
      "[24, 0, 0, 0, 0, 96, 177, 216, 219, 196, 182, 197, 178, 145]\n"
     ]
    },
    {
     "name": "stderr",
     "output_type": "stream",
     "text": [
      " 10%|██████▉                                                              | 9/90 [04:21<33:21, 24.72s/it]"
     ]
    },
    {
     "name": "stdout",
     "output_type": "stream",
     "text": [
      "[17, 0, 0, 0, 11, 156, 213, 217, 194, 181, 196, 178, 145, 122]\n"
     ]
    },
    {
     "name": "stderr",
     "output_type": "stream",
     "text": [
      " 11%|███████▌                                                            | 10/90 [05:12<43:46, 32.83s/it]"
     ]
    },
    {
     "name": "stdout",
     "output_type": "stream",
     "text": [
      "[20, 0, 0, 0, 8, 208, 209, 190, 176, 193, 178, 145, 122, 181]\n"
     ]
    },
    {
     "name": "stderr",
     "output_type": "stream",
     "text": [
      " 12%|████████▎                                                           | 11/90 [05:43<42:14, 32.08s/it]"
     ]
    },
    {
     "name": "stdout",
     "output_type": "stream",
     "text": [
      "[26, 0, 0, 0, 44, 201, 180, 172, 190, 176, 143, 121, 180, 197]\n"
     ]
    },
    {
     "name": "stderr",
     "output_type": "stream",
     "text": [
      " 13%|█████████                                                           | 12/90 [06:05<37:56, 29.19s/it]"
     ]
    },
    {
     "name": "stdout",
     "output_type": "stream",
     "text": [
      "[15, 0, 0, 0, 82, 175, 169, 185, 175, 142, 121, 180, 197, 189]\n"
     ]
    },
    {
     "name": "stderr",
     "output_type": "stream",
     "text": [
      " 14%|█████████▊                                                          | 13/90 [06:23<32:55, 25.66s/it]"
     ]
    },
    {
     "name": "stdout",
     "output_type": "stream",
     "text": [
      "[22, 0, 0, 0, 90, 162, 183, 169, 137, 118, 177, 197, 188, 187]\n"
     ]
    },
    {
     "name": "stderr",
     "output_type": "stream",
     "text": [
      " 16%|██████████▌                                                         | 14/90 [06:44<30:57, 24.44s/it]"
     ]
    },
    {
     "name": "stdout",
     "output_type": "stream",
     "text": [
      "[14, 0, 0, 0, 97, 177, 168, 135, 118, 176, 197, 185, 187, 176]\n"
     ]
    },
    {
     "name": "stderr",
     "output_type": "stream",
     "text": [
      " 17%|███████████▎                                                        | 15/90 [06:58<26:39, 21.33s/it]"
     ]
    },
    {
     "name": "stdout",
     "output_type": "stream",
     "text": [
      "[17, 0, 0, 0, 128, 165, 133, 112, 173, 196, 184, 187, 175, 160]\n"
     ]
    },
    {
     "name": "stderr",
     "output_type": "stream",
     "text": [
      " 18%|████████████                                                        | 16/90 [08:02<41:54, 33.98s/it]"
     ]
    },
    {
     "name": "stdout",
     "output_type": "stream",
     "text": [
      "[18, 0, 0, 0, 122, 128, 109, 170, 190, 184, 186, 174, 160, 189]\n"
     ]
    },
    {
     "name": "stderr",
     "output_type": "stream",
     "text": [
      " 19%|████████████▊                                                       | 17/90 [08:38<42:09, 34.65s/it]"
     ]
    },
    {
     "name": "stdout",
     "output_type": "stream",
     "text": [
      "[18, 0, 0, 4, 116, 107, 168, 186, 180, 186, 172, 159, 188, 146]\n"
     ]
    },
    {
     "name": "stderr",
     "output_type": "stream",
     "text": [
      " 20%|█████████████▌                                                      | 18/90 [08:54<34:43, 28.94s/it]"
     ]
    },
    {
     "name": "stdout",
     "output_type": "stream",
     "text": [
      "[17, 0, 0, 11, 97, 161, 179, 175, 186, 169, 159, 187, 146, 143]\n"
     ]
    },
    {
     "name": "stderr",
     "output_type": "stream",
     "text": [
      " 21%|██████████████▎                                                     | 19/90 [09:07<28:37, 24.18s/it]"
     ]
    },
    {
     "name": "stdout",
     "output_type": "stream",
     "text": [
      "[17, 0, 0, 21, 150, 175, 171, 182, 167, 158, 187, 146, 142, 114]\n"
     ]
    },
    {
     "name": "stderr",
     "output_type": "stream",
     "text": [
      " 22%|███████████████                                                     | 20/90 [09:37<30:10, 25.86s/it]"
     ]
    },
    {
     "name": "stdout",
     "output_type": "stream",
     "text": [
      "[26, 0, 0, 10, 162, 164, 177, 161, 157, 185, 146, 141, 114, 187]\n"
     ]
    },
    {
     "name": "stderr",
     "output_type": "stream",
     "text": [
      " 23%|███████████████▊                                                    | 21/90 [10:21<36:03, 31.36s/it]"
     ]
    },
    {
     "name": "stdout",
     "output_type": "stream",
     "text": [
      "[15, 0, 0, 32, 158, 174, 159, 154, 183, 144, 139, 114, 186, 172]\n"
     ]
    },
    {
     "name": "stderr",
     "output_type": "stream",
     "text": [
      " 24%|████████████████▌                                                   | 22/90 [10:56<36:58, 32.62s/it]"
     ]
    },
    {
     "name": "stdout",
     "output_type": "stream",
     "text": [
      "[23, 0, 0, 26, 164, 156, 152, 175, 139, 138, 114, 185, 171, 187]\n"
     ]
    },
    {
     "name": "stderr",
     "output_type": "stream",
     "text": [
      " 26%|█████████████████▍                                                  | 23/90 [11:17<32:32, 29.14s/it]"
     ]
    },
    {
     "name": "stdout",
     "output_type": "stream",
     "text": [
      "[22, 0, 0, 38, 147, 149, 171, 135, 133, 113, 185, 169, 186, 182]\n"
     ]
    },
    {
     "name": "stderr",
     "output_type": "stream",
     "text": [
      " 27%|██████████████████▏                                                 | 24/90 [11:28<26:07, 23.76s/it]"
     ]
    },
    {
     "name": "stdout",
     "output_type": "stream",
     "text": [
      "[19, 0, 0, 48, 142, 170, 129, 129, 109, 184, 168, 186, 180, 166]\n"
     ]
    },
    {
     "name": "stderr",
     "output_type": "stream",
     "text": [
      " 28%|██████████████████▉                                                 | 25/90 [11:51<25:11, 23.25s/it]"
     ]
    },
    {
     "name": "stdout",
     "output_type": "stream",
     "text": [
      "[23, 0, 0, 55, 161, 126, 124, 107, 182, 167, 183, 180, 165, 157]\n"
     ]
    },
    {
     "name": "stderr",
     "output_type": "stream",
     "text": [
      " 29%|███████████████████▋                                                | 26/90 [12:02<21:10, 19.85s/it]"
     ]
    },
    {
     "name": "stdout",
     "output_type": "stream",
     "text": [
      "[20, 0, 0, 85, 121, 123, 104, 181, 162, 181, 180, 164, 156, 153]\n"
     ]
    },
    {
     "name": "stderr",
     "output_type": "stream",
     "text": [
      " 30%|████████████████████▍                                               | 27/90 [13:09<35:27, 33.76s/it]"
     ]
    },
    {
     "name": "stdout",
     "output_type": "stream",
     "text": [
      "[21, 0, 0, 58, 117, 99, 176, 159, 179, 178, 164, 156, 151, 172]\n"
     ]
    },
    {
     "name": "stderr",
     "output_type": "stream",
     "text": [
      " 31%|█████████████████████▏                                              | 28/90 [13:27<30:03, 29.08s/it]"
     ]
    },
    {
     "name": "stdout",
     "output_type": "stream",
     "text": [
      "[19, 0, 0, 49, 90, 171, 153, 178, 173, 163, 155, 151, 172, 156]\n"
     ]
    },
    {
     "name": "stderr",
     "output_type": "stream",
     "text": [
      " 32%|█████████████████████▉                                              | 29/90 [14:06<32:36, 32.08s/it]"
     ]
    },
    {
     "name": "stdout",
     "output_type": "stream",
     "text": [
      "[27, 0, 0, 38, 162, 145, 175, 168, 158, 150, 149, 171, 156, 131]\n"
     ]
    },
    {
     "name": "stderr",
     "output_type": "stream",
     "text": [
      " 33%|██████████████████████▋                                             | 30/90 [14:46<34:23, 34.39s/it]"
     ]
    },
    {
     "name": "stdout",
     "output_type": "stream",
     "text": [
      "[17, 0, 0, 78, 140, 173, 166, 155, 149, 148, 171, 156, 129, 148]\n"
     ]
    },
    {
     "name": "stderr",
     "output_type": "stream",
     "text": [
      " 34%|███████████████████████▍                                            | 31/90 [15:03<28:54, 29.40s/it]"
     ]
    },
    {
     "name": "stdout",
     "output_type": "stream",
     "text": [
      "[17, 0, 0, 55, 167, 162, 152, 146, 146, 170, 155, 129, 148, 183]\n"
     ]
    },
    {
     "name": "stderr",
     "output_type": "stream",
     "text": [
      " 36%|████████████████████████▏                                           | 32/90 [15:31<27:50, 28.81s/it]"
     ]
    },
    {
     "name": "stdout",
     "output_type": "stream",
     "text": [
      "[27, 0, 0, 73, 155, 146, 143, 145, 164, 154, 129, 146, 182, 166]\n"
     ]
    },
    {
     "name": "stderr",
     "output_type": "stream",
     "text": [
      " 37%|████████████████████████▉                                           | 33/90 [16:14<31:27, 33.12s/it]"
     ]
    },
    {
     "name": "stdout",
     "output_type": "stream",
     "text": [
      "[21, 0, 0, 86, 141, 141, 142, 161, 151, 128, 145, 181, 166, 167]\n"
     ]
    },
    {
     "name": "stderr",
     "output_type": "stream",
     "text": [
      " 38%|█████████████████████████▋                                          | 34/90 [16:47<30:53, 33.10s/it]"
     ]
    },
    {
     "name": "stdout",
     "output_type": "stream",
     "text": [
      "[22, 0, 0, 71, 136, 138, 158, 148, 123, 140, 181, 166, 166, 181]\n"
     ]
    },
    {
     "name": "stderr",
     "output_type": "stream",
     "text": [
      " 39%|██████████████████████████▍                                         | 35/90 [17:35<34:23, 37.52s/it]"
     ]
    },
    {
     "name": "stdout",
     "output_type": "stream",
     "text": [
      "[28, 0, 0, 52, 128, 156, 142, 121, 137, 180, 164, 165, 179, 178]\n"
     ]
    },
    {
     "name": "stderr",
     "output_type": "stream",
     "text": [
      " 40%|███████████████████████████▏                                        | 36/90 [17:47<26:54, 29.89s/it]"
     ]
    },
    {
     "name": "stdout",
     "output_type": "stream",
     "text": [
      "[27, 0, 0, 48, 148, 138, 116, 131, 178, 163, 164, 179, 177, 161]\n"
     ]
    },
    {
     "name": "stderr",
     "output_type": "stream",
     "text": [
      " 41%|███████████████████████████▉                                        | 37/90 [18:03<22:47, 25.80s/it]"
     ]
    },
    {
     "name": "stdout",
     "output_type": "stream",
     "text": [
      "[23, 0, 0, 67, 130, 111, 126, 177, 160, 164, 178, 177, 160, 157]\n"
     ]
    },
    {
     "name": "stderr",
     "output_type": "stream",
     "text": [
      " 42%|████████████████████████████▋                                       | 38/90 [18:18<19:24, 22.39s/it]"
     ]
    },
    {
     "name": "stdout",
     "output_type": "stream",
     "text": [
      "[21, 0, 0, 69, 104, 121, 173, 156, 160, 177, 177, 160, 156, 156]\n"
     ]
    },
    {
     "name": "stderr",
     "output_type": "stream",
     "text": [
      " 43%|█████████████████████████████▍                                      | 39/90 [19:03<24:53, 29.29s/it]"
     ]
    },
    {
     "name": "stdout",
     "output_type": "stream",
     "text": [
      "[20, 0, 0, 58, 114, 167, 151, 156, 173, 174, 160, 155, 156, 146]\n"
     ]
    },
    {
     "name": "stderr",
     "output_type": "stream",
     "text": [
      " 44%|██████████████████████████████▏                                     | 40/90 [19:43<26:57, 32.34s/it]"
     ]
    },
    {
     "name": "stdout",
     "output_type": "stream",
     "text": [
      "[33, 0, 0, 59, 159, 145, 151, 169, 170, 157, 155, 154, 145, 133]\n"
     ]
    },
    {
     "name": "stderr",
     "output_type": "stream",
     "text": [
      " 46%|██████████████████████████████▉                                     | 41/90 [20:18<27:10, 33.29s/it]"
     ]
    },
    {
     "name": "stdout",
     "output_type": "stream",
     "text": [
      "[16, 0, 0, 108, 143, 145, 166, 168, 155, 155, 153, 145, 133, 143]\n"
     ]
    },
    {
     "name": "stderr",
     "output_type": "stream",
     "text": [
      " 47%|███████████████████████████████▋                                    | 42/90 [21:06<30:10, 37.72s/it]"
     ]
    },
    {
     "name": "stdout",
     "output_type": "stream",
     "text": [
      "[15, 0, 0, 92, 142, 163, 164, 153, 154, 153, 145, 133, 141, 175]\n"
     ]
    },
    {
     "name": "stderr",
     "output_type": "stream",
     "text": [
      " 48%|████████████████████████████████▍                                   | 43/90 [21:21<24:08, 30.83s/it]"
     ]
    },
    {
     "name": "stdout",
     "output_type": "stream",
     "text": [
      "[28, 0, 0, 86, 157, 159, 149, 147, 151, 143, 132, 140, 175, 163]\n"
     ]
    },
    {
     "name": "stderr",
     "output_type": "stream",
     "text": [
      " 49%|█████████████████████████████████▏                                  | 44/90 [22:01<25:48, 33.66s/it]"
     ]
    },
    {
     "name": "stdout",
     "output_type": "stream",
     "text": [
      "[20, 0, 0, 102, 157, 144, 139, 150, 141, 131, 140, 175, 162, 169]\n"
     ]
    },
    {
     "name": "stderr",
     "output_type": "stream",
     "text": [
      " 50%|██████████████████████████████████                                  | 45/90 [22:14<20:27, 27.29s/it]"
     ]
    },
    {
     "name": "stdout",
     "output_type": "stream",
     "text": [
      "[27, 0, 0, 112, 137, 135, 145, 138, 127, 138, 174, 162, 169, 166]\n"
     ]
    },
    {
     "name": "stderr",
     "output_type": "stream",
     "text": [
      " 51%|██████████████████████████████████▊                                 | 46/90 [22:23<16:02, 21.88s/it]"
     ]
    },
    {
     "name": "stdout",
     "output_type": "stream",
     "text": [
      "[36, 0, 0, 116, 132, 140, 132, 123, 134, 173, 160, 166, 164, 154]\n"
     ]
    },
    {
     "name": "stderr",
     "output_type": "stream",
     "text": [
      " 52%|███████████████████████████████████▌                                | 47/90 [22:47<16:12, 22.62s/it]"
     ]
    },
    {
     "name": "stdout",
     "output_type": "stream",
     "text": [
      "[22, 0, 9, 112, 135, 130, 121, 132, 170, 160, 166, 164, 153, 156]\n"
     ]
    },
    {
     "name": "stderr",
     "output_type": "stream",
     "text": [
      " 53%|████████████████████████████████████▎                               | 48/90 [23:05<14:46, 21.11s/it]"
     ]
    },
    {
     "name": "stdout",
     "output_type": "stream",
     "text": [
      "[21, 0, 0, 114, 127, 117, 128, 168, 158, 165, 164, 153, 156, 159]\n"
     ]
    },
    {
     "name": "stderr",
     "output_type": "stream",
     "text": [
      " 54%|█████████████████████████████████████                               | 49/90 [23:46<18:33, 27.16s/it]"
     ]
    },
    {
     "name": "stdout",
     "output_type": "stream",
     "text": [
      "[24, 0, 2, 116, 116, 119, 165, 157, 162, 163, 152, 154, 158, 142]\n"
     ]
    },
    {
     "name": "stderr",
     "output_type": "stream",
     "text": [
      " 56%|█████████████████████████████████████▊                              | 50/90 [24:20<19:29, 29.24s/it]"
     ]
    },
    {
     "name": "stdout",
     "output_type": "stream",
     "text": [
      "[25, 0, 11, 107, 109, 162, 155, 154, 161, 150, 153, 158, 141, 144]\n"
     ]
    },
    {
     "name": "stderr",
     "output_type": "stream",
     "text": [
      " 57%|██████████████████████████████████████▌                             | 51/90 [24:35<16:15, 25.02s/it]"
     ]
    },
    {
     "name": "stdout",
     "output_type": "stream",
     "text": [
      "[21, 0, 13, 99, 155, 152, 151, 158, 145, 153, 157, 141, 143, 142]\n"
     ]
    },
    {
     "name": "stderr",
     "output_type": "stream",
     "text": [
      " 58%|███████████████████████████████████████▎                            | 52/90 [24:51<14:01, 22.15s/it]"
     ]
    },
    {
     "name": "stdout",
     "output_type": "stream",
     "text": [
      "[24, 0, 7, 143, 146, 149, 150, 142, 149, 157, 141, 140, 142, 140]\n"
     ]
    },
    {
     "name": "stderr",
     "output_type": "stream",
     "text": [
      " 59%|████████████████████████████████████████                            | 53/90 [25:53<21:00, 34.06s/it]"
     ]
    },
    {
     "name": "stdout",
     "output_type": "stream",
     "text": [
      "[30, 0, 12, 127, 142, 146, 138, 143, 154, 140, 139, 141, 139, 179]\n"
     ]
    },
    {
     "name": "stderr",
     "output_type": "stream",
     "text": [
      " 60%|████████████████████████████████████████▊                           | 54/90 [26:35<21:51, 36.43s/it]"
     ]
    },
    {
     "name": "stdout",
     "output_type": "stream",
     "text": [
      "[25, 0, 21, 132, 141, 132, 138, 152, 138, 138, 141, 139, 178, 155]\n"
     ]
    },
    {
     "name": "stderr",
     "output_type": "stream",
     "text": [
      " 61%|█████████████████████████████████████████▌                          | 55/90 [26:40<15:45, 27.01s/it]"
     ]
    },
    {
     "name": "stdout",
     "output_type": "stream",
     "text": [
      "[21, 0, 25, 137, 129, 132, 152, 136, 136, 137, 139, 178, 154, 154]\n"
     ]
    },
    {
     "name": "stderr",
     "output_type": "stream",
     "text": [
      " 62%|██████████████████████████████████████████▎                         | 56/90 [27:24<18:15, 32.22s/it]"
     ]
    },
    {
     "name": "stdout",
     "output_type": "stream",
     "text": [
      "[24, 0, 21, 113, 126, 147, 134, 135, 137, 139, 177, 154, 154, 169]\n"
     ]
    },
    {
     "name": "stderr",
     "output_type": "stream",
     "text": [
      " 63%|███████████████████████████████████████████                         | 57/90 [27:51<16:54, 30.73s/it]"
     ]
    },
    {
     "name": "stdout",
     "output_type": "stream",
     "text": [
      "[33, 0, 9, 117, 143, 129, 129, 131, 134, 174, 152, 153, 169, 157]\n"
     ]
    },
    {
     "name": "stderr",
     "output_type": "stream",
     "text": [
      " 64%|███████████████████████████████████████████▊                        | 58/90 [28:07<13:58, 26.20s/it]"
     ]
    },
    {
     "name": "stdout",
     "output_type": "stream",
     "text": [
      "[21, 0, 17, 132, 123, 125, 129, 132, 169, 150, 153, 169, 156, 154]\n"
     ]
    },
    {
     "name": "stderr",
     "output_type": "stream",
     "text": [
      " 66%|████████████████████████████████████████████▌                       | 59/90 [28:22<11:48, 22.84s/it]"
     ]
    },
    {
     "name": "stdout",
     "output_type": "stream",
     "text": [
      "[32, 0, 21, 108, 116, 124, 129, 165, 147, 151, 167, 156, 154, 160]\n"
     ]
    },
    {
     "name": "stderr",
     "output_type": "stream",
     "text": [
      " 67%|█████████████████████████████████████████████▎                      | 60/90 [28:59<13:31, 27.04s/it]"
     ]
    },
    {
     "name": "stdout",
     "output_type": "stream",
     "text": [
      "[24, 0, 18, 113, 117, 126, 163, 144, 149, 166, 156, 152, 159, 143]\n"
     ]
    },
    {
     "name": "stderr",
     "output_type": "stream",
     "text": [
      " 68%|██████████████████████████████████████████████                      | 61/90 [29:31<13:53, 28.74s/it]"
     ]
    },
    {
     "name": "stdout",
     "output_type": "stream",
     "text": [
      "[22, 0, 18, 110, 123, 160, 136, 147, 162, 155, 151, 159, 143, 144]\n"
     ]
    },
    {
     "name": "stderr",
     "output_type": "stream",
     "text": [
      " 69%|██████████████████████████████████████████████▊                     | 62/90 [30:04<14:01, 30.04s/it]"
     ]
    },
    {
     "name": "stdout",
     "output_type": "stream",
     "text": [
      "[23, 0, 33, 117, 154, 132, 143, 160, 154, 149, 159, 143, 143, 120]\n"
     ]
    },
    {
     "name": "stderr",
     "output_type": "stream",
     "text": [
      " 70%|███████████████████████████████████████████████▌                    | 63/90 [30:20<11:30, 25.56s/it]"
     ]
    },
    {
     "name": "stdout",
     "output_type": "stream",
     "text": [
      "[22, 0, 24, 146, 127, 138, 159, 154, 143, 158, 143, 141, 120, 155]\n"
     ]
    },
    {
     "name": "stderr",
     "output_type": "stream",
     "text": [
      " 71%|████████████████████████████████████████████████▎                   | 64/90 [31:24<16:04, 37.08s/it]"
     ]
    },
    {
     "name": "stdout",
     "output_type": "stream",
     "text": [
      "[28, 0, 39, 122, 134, 154, 150, 137, 155, 140, 141, 119, 154, 157]\n"
     ]
    },
    {
     "name": "stderr",
     "output_type": "stream",
     "text": [
      " 72%|█████████████████████████████████████████████████                   | 65/90 [31:34<12:10, 29.22s/it]"
     ]
    },
    {
     "name": "stdout",
     "output_type": "stream",
     "text": [
      "[29, 0, 37, 127, 148, 144, 130, 152, 137, 140, 118, 154, 157, 157]\n"
     ]
    },
    {
     "name": "stderr",
     "output_type": "stream",
     "text": [
      " 73%|█████████████████████████████████████████████████▊                  | 66/90 [32:16<13:08, 32.84s/it]"
     ]
    },
    {
     "name": "stdout",
     "output_type": "stream",
     "text": [
      "[32, 0, 36, 141, 137, 122, 150, 131, 138, 117, 154, 155, 155, 162]\n"
     ]
    },
    {
     "name": "stderr",
     "output_type": "stream",
     "text": [
      " 74%|██████████████████████████████████████████████████▌                 | 67/90 [32:35<10:59, 28.68s/it]"
     ]
    },
    {
     "name": "stdout",
     "output_type": "stream",
     "text": [
      "[27, 0, 56, 126, 118, 147, 127, 135, 112, 153, 155, 154, 162, 158]\n"
     ]
    },
    {
     "name": "stderr",
     "output_type": "stream",
     "text": [
      " 76%|███████████████████████████████████████████████████▍                | 68/90 [32:44<08:24, 22.95s/it]"
     ]
    },
    {
     "name": "stdout",
     "output_type": "stream",
     "text": [
      "[25, 0, 78, 112, 142, 123, 131, 112, 151, 154, 153, 161, 156, 132]\n"
     ]
    },
    {
     "name": "stderr",
     "output_type": "stream",
     "text": [
      " 77%|████████████████████████████████████████████████████▏               | 69/90 [32:56<06:50, 19.53s/it]"
     ]
    },
    {
     "name": "stdout",
     "output_type": "stream",
     "text": [
      "[27, 0, 49, 134, 117, 130, 109, 150, 148, 151, 160, 155, 131, 169]\n"
     ]
    },
    {
     "name": "stderr",
     "output_type": "stream",
     "text": [
      " 78%|████████████████████████████████████████████████████▉               | 70/90 [33:10<05:58, 17.94s/it]"
     ]
    },
    {
     "name": "stdout",
     "output_type": "stream",
     "text": [
      "[28, 0, 82, 110, 127, 105, 144, 147, 148, 159, 154, 131, 168, 127]\n"
     ]
    },
    {
     "name": "stderr",
     "output_type": "stream",
     "text": [
      " 79%|█████████████████████████████████████████████████████▋              | 71/90 [33:53<08:02, 25.38s/it]"
     ]
    },
    {
     "name": "stdout",
     "output_type": "stream",
     "text": [
      "[24, 0, 58, 120, 101, 140, 145, 144, 157, 154, 129, 167, 127, 164]\n"
     ]
    },
    {
     "name": "stderr",
     "output_type": "stream",
     "text": [
      " 80%|██████████████████████████████████████████████████████▍             | 72/90 [34:40<09:31, 31.78s/it]"
     ]
    },
    {
     "name": "stdout",
     "output_type": "stream",
     "text": [
      "[25, 0, 61, 93, 136, 137, 140, 154, 152, 127, 167, 127, 163, 148]\n"
     ]
    },
    {
     "name": "stderr",
     "output_type": "stream",
     "text": [
      " 81%|███████████████████████████████████████████████████████▏            | 73/90 [34:51<07:19, 25.82s/it]"
     ]
    },
    {
     "name": "stdout",
     "output_type": "stream",
     "text": [
      "[34, 0, 44, 122, 133, 136, 148, 145, 124, 166, 126, 162, 148, 142]\n"
     ]
    },
    {
     "name": "stderr",
     "output_type": "stream",
     "text": [
      " 82%|███████████████████████████████████████████████████████▉            | 74/90 [35:06<05:58, 22.38s/it]"
     ]
    },
    {
     "name": "stdout",
     "output_type": "stream",
     "text": [
      "[29, 0, 76, 122, 132, 141, 141, 122, 162, 124, 162, 147, 141, 131]\n"
     ]
    },
    {
     "name": "stderr",
     "output_type": "stream",
     "text": [
      " 83%|████████████████████████████████████████████████████████▋           | 75/90 [35:43<06:41, 26.80s/it]"
     ]
    },
    {
     "name": "stdout",
     "output_type": "stream",
     "text": [
      "[18, 0, 71, 127, 137, 139, 118, 162, 121, 162, 146, 141, 131, 157]\n"
     ]
    },
    {
     "name": "stderr",
     "output_type": "stream",
     "text": [
      " 84%|█████████████████████████████████████████████████████████▍          | 76/90 [36:00<05:34, 23.90s/it]"
     ]
    },
    {
     "name": "stdout",
     "output_type": "stream",
     "text": [
      "[27, 0, 75, 132, 133, 108, 158, 119, 159, 146, 141, 131, 155, 146]\n"
     ]
    },
    {
     "name": "stderr",
     "output_type": "stream",
     "text": [
      " 86%|██████████████████████████████████████████████████████████▏         | 77/90 [36:22<05:03, 23.32s/it]"
     ]
    },
    {
     "name": "stdout",
     "output_type": "stream",
     "text": [
      "[28, 0, 72, 121, 105, 153, 110, 154, 144, 139, 129, 154, 146, 175]\n"
     ]
    },
    {
     "name": "stderr",
     "output_type": "stream",
     "text": [
      " 87%|██████████████████████████████████████████████████████████▉         | 78/90 [36:59<05:27, 27.33s/it]"
     ]
    },
    {
     "name": "stdout",
     "output_type": "stream",
     "text": [
      "[24, 0, 56, 100, 149, 106, 151, 140, 138, 128, 154, 146, 174, 164]\n"
     ]
    },
    {
     "name": "stderr",
     "output_type": "stream",
     "text": [
      " 88%|███████████████████████████████████████████████████████████▋        | 79/90 [37:08<04:00, 21.87s/it]"
     ]
    },
    {
     "name": "stdout",
     "output_type": "stream",
     "text": [
      "[26, 0, 42, 141, 103, 147, 139, 135, 123, 150, 145, 174, 164, 141]\n"
     ]
    },
    {
     "name": "stderr",
     "output_type": "stream",
     "text": [
      " 89%|████████████████████████████████████████████████████████████▍       | 80/90 [37:23<03:19, 19.96s/it]"
     ]
    },
    {
     "name": "stdout",
     "output_type": "stream",
     "text": [
      "[27, 0, 51, 94, 143, 135, 132, 118, 149, 145, 174, 161, 140, 161]\n"
     ]
    },
    {
     "name": "stderr",
     "output_type": "stream",
     "text": [
      " 90%|█████████████████████████████████████████████████████████████▏      | 81/90 [37:42<02:56, 19.63s/it]"
     ]
    },
    {
     "name": "stdout",
     "output_type": "stream",
     "text": [
      "[25, 0, 34, 134, 131, 125, 113, 146, 143, 172, 160, 139, 160, 148]\n"
     ]
    },
    {
     "name": "stderr",
     "output_type": "stream",
     "text": [
      " 91%|█████████████████████████████████████████████████████████████▉      | 82/90 [38:57<04:49, 36.23s/it]"
     ]
    },
    {
     "name": "stdout",
     "output_type": "stream",
     "text": [
      "[22, 0, 25, 123, 122, 109, 144, 141, 169, 159, 139, 160, 146, 171]\n"
     ]
    },
    {
     "name": "stderr",
     "output_type": "stream",
     "text": [
      " 92%|██████████████████████████████████████████████████████████████▋     | 83/90 [39:08<03:21, 28.77s/it]"
     ]
    },
    {
     "name": "stdout",
     "output_type": "stream",
     "text": [
      "[24, 0, 47, 109, 103, 138, 139, 168, 156, 138, 159, 146, 170, 133]\n"
     ]
    },
    {
     "name": "stderr",
     "output_type": "stream",
     "text": [
      " 93%|███████████████████████████████████████████████████████████████▍    | 84/90 [39:29<02:38, 26.39s/it]"
     ]
    },
    {
     "name": "stdout",
     "output_type": "stream",
     "text": [
      "[32, 0, 36, 92, 129, 137, 165, 150, 137, 156, 145, 170, 133, 148]\n"
     ]
    },
    {
     "name": "stderr",
     "output_type": "stream",
     "text": [
      " 94%|████████████████████████████████████████████████████████████████▏   | 85/90 [39:52<02:06, 25.31s/it]"
     ]
    },
    {
     "name": "stdout",
     "output_type": "stream",
     "text": [
      "[25, 0, 22, 116, 131, 158, 149, 134, 151, 145, 170, 131, 148, 150]\n"
     ]
    },
    {
     "name": "stderr",
     "output_type": "stream",
     "text": [
      " 96%|████████████████████████████████████████████████████████████████▉   | 86/90 [40:01<01:21, 20.50s/it]"
     ]
    },
    {
     "name": "stdout",
     "output_type": "stream",
     "text": [
      "[22, 0, 21, 125, 153, 145, 131, 145, 144, 168, 131, 148, 150, 147]\n"
     ]
    },
    {
     "name": "stderr",
     "output_type": "stream",
     "text": [
      " 97%|█████████████████████████████████████████████████████████████████▋  | 87/90 [40:27<01:06, 22.04s/it]"
     ]
    },
    {
     "name": "stdout",
     "output_type": "stream",
     "text": [
      "[24, 0, 16, 146, 140, 127, 144, 139, 166, 129, 148, 150, 146, 155]\n"
     ]
    },
    {
     "name": "stderr",
     "output_type": "stream",
     "text": [
      " 98%|██████████████████████████████████████████████████████████████████▍ | 88/90 [40:49<00:44, 22.02s/it]"
     ]
    },
    {
     "name": "stdout",
     "output_type": "stream",
     "text": [
      "[19, 0, 26, 131, 124, 140, 135, 165, 126, 146, 149, 145, 154, 170]\n"
     ]
    },
    {
     "name": "stderr",
     "output_type": "stream",
     "text": [
      " 99%|███████████████████████████████████████████████████████████████████▏| 89/90 [41:17<00:23, 23.66s/it]"
     ]
    },
    {
     "name": "stdout",
     "output_type": "stream",
     "text": [
      "[29, 0, 11, 114, 136, 130, 154, 125, 142, 146, 145, 154, 169, 175]\n"
     ]
    },
    {
     "name": "stderr",
     "output_type": "stream",
     "text": [
      "100%|████████████████████████████████████████████████████████████████████| 90/90 [41:37<00:00, 27.75s/it]"
     ]
    },
    {
     "name": "stdout",
     "output_type": "stream",
     "text": [
      "3466107.7808219176\n"
     ]
    },
    {
     "name": "stderr",
     "output_type": "stream",
     "text": [
      "\n"
     ]
    }
   ],
   "source": [
    "num_vehicles = 5\n",
    "num_terminals = cash.shape[0]\n",
    "time_until_force = [config['max_not_service_days'] - 1 for i in range(num_terminals)]\n",
    "cur_cash = np.zeros(num_terminals)\n",
    "hist = {'visited': [], 'loss': []}\n",
    "bad = False\n",
    "\n",
    "myvrp = vrpp.VRPP(dist, 10, 10 * 60, num_vehicles, solution_limit=100, time_limit=100, dead_loss=False)\n",
    "\n",
    "days = 90\n",
    "for day in tqdm(range(days)):\n",
    "    mask = []\n",
    "    cost = []\n",
    "    to_counter = [0 for i in range(14)]\n",
    "    for i in range(num_terminals):\n",
    "        current_money = cur_cash[i]\n",
    "        force = time_until_force[i]\n",
    "        if cur_cash[i] > config['max_terminal_money']:\n",
    "            force = 0\n",
    "        # for forecast in range(force):\n",
    "        #     if current_money > config['max_terminal_money']:\n",
    "        #         force = forecast\n",
    "        #         break\n",
    "        #     if not forecast:\n",
    "        #         current_money += cash[i][day + forecast]\n",
    "        #     else:\n",
    "        #         current_money += cash[i][day + forecast] # check later\n",
    "        mask.append(1)\n",
    "        to_counter[force] += 1\n",
    "        cost.append(int(get_cost(force)))\n",
    "    \n",
    "    print(to_counter)\n",
    "    # # for i in range(100):\n",
    "    # #     print(\" \" * (4 - len(str(cost[i]))) + str(cost[i]), end=' ')\n",
    "    # # print()\n",
    "    # print(\" \"cost[:100])\n",
    "    \n",
    "    visited, paths = myvrp.find_vrp(cost, mask)\n",
    "    hist['visited'].append(visited)\n",
    "    \n",
    "    prev = []\n",
    "    cur_loss = 0\n",
    "    for i in range(num_terminals):\n",
    "        if cur_cash[i] > config['max_terminal_money'] or time_until_force[i] == 0:\n",
    "            if not visited[i]:\n",
    "                print('Dead')\n",
    "                bad = True\n",
    "                break\n",
    "\n",
    "        if visited[i]:\n",
    "            cur_loss += config['terminal_service_cost']\n",
    "            cur_cash[i] = 0\n",
    "            time_until_force[i] = 14\n",
    "\n",
    "\n",
    "        time_until_force[i] -= 1 \n",
    "        cur_loss += cur_cash[i] * config['persent_day_income']\n",
    "        cur_cash[i] += real_cash[i][day]\n",
    "    \n",
    "    if bad: break\n",
    "    \n",
    "    hist['loss'].append(cur_loss)\n",
    "print(sum(hist['loss']))"
   ]
  },
  {
   "cell_type": "code",
   "execution_count": null,
   "id": "d87b815e-0174-4fa8-97e0-788ea0cf555a",
   "metadata": {},
   "outputs": [],
   "source": []
  },
  {
   "cell_type": "code",
   "execution_count": null,
   "id": "dd10fb85-1182-4fbb-98b1-2c77f079ed6b",
   "metadata": {},
   "outputs": [],
   "source": []
  },
  {
   "cell_type": "code",
   "execution_count": null,
   "id": "123fdfab-0347-4e95-b71a-dbb6372c14ae",
   "metadata": {},
   "outputs": [],
   "source": []
  },
  {
   "cell_type": "code",
   "execution_count": null,
   "id": "4ae03afa-ad30-42a9-9a0f-dd9e01deb68a",
   "metadata": {},
   "outputs": [],
   "source": []
  },
  {
   "cell_type": "code",
   "execution_count": null,
   "id": "33e04e6b-0723-48c9-bbf5-be9695664b04",
   "metadata": {},
   "outputs": [],
   "source": []
  },
  {
   "cell_type": "code",
   "execution_count": null,
   "id": "859cc7e9-6a8f-468b-9f87-6f49cbe37aae",
   "metadata": {},
   "outputs": [],
   "source": []
  }
 ],
 "metadata": {
  "kernelspec": {
   "display_name": "Python 3 (ipykernel)",
   "language": "python",
   "name": "python3"
  },
  "language_info": {
   "codemirror_mode": {
    "name": "ipython",
    "version": 3
   },
   "file_extension": ".py",
   "mimetype": "text/x-python",
   "name": "python",
   "nbconvert_exporter": "python",
   "pygments_lexer": "ipython3",
   "version": "3.10.6"
  }
 },
 "nbformat": 4,
 "nbformat_minor": 5
}
