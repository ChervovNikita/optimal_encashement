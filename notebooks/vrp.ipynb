{
 "cells": [
  {
   "cell_type": "code",
   "execution_count": 1,
   "id": "3820964d-d6fa-48bf-b130-3a528b9bdab9",
   "metadata": {},
   "outputs": [],
   "source": [
    "import pandas as pd\n",
    "import numpy as np\n",
    "import sklearn"
   ]
  },
  {
   "cell_type": "code",
   "execution_count": 2,
   "id": "a2835029-2a5a-4a8b-a202-65183b207a76",
   "metadata": {},
   "outputs": [],
   "source": [
    "from sklearn import preprocessing"
   ]
  },
  {
   "cell_type": "markdown",
   "id": "08296203-9861-4b0f-ba0b-93ea6239b6ee",
   "metadata": {
    "tags": []
   },
   "source": [
    "## Read data"
   ]
  },
  {
   "cell_type": "code",
   "execution_count": 3,
   "id": "4151bcc6-f93f-4677-9c03-078fe4164fa5",
   "metadata": {},
   "outputs": [
    {
     "data": {
      "text/html": [
       "<div>\n",
       "<style scoped>\n",
       "    .dataframe tbody tr th:only-of-type {\n",
       "        vertical-align: middle;\n",
       "    }\n",
       "\n",
       "    .dataframe tbody tr th {\n",
       "        vertical-align: top;\n",
       "    }\n",
       "\n",
       "    .dataframe thead th {\n",
       "        text-align: right;\n",
       "    }\n",
       "</style>\n",
       "<table border=\"1\" class=\"dataframe\">\n",
       "  <thead>\n",
       "    <tr style=\"text-align: right;\">\n",
       "      <th></th>\n",
       "      <th>Origin_tid</th>\n",
       "      <th>Destination_tid</th>\n",
       "      <th>Total_Time</th>\n",
       "    </tr>\n",
       "  </thead>\n",
       "  <tbody>\n",
       "    <tr>\n",
       "      <th>0</th>\n",
       "      <td>636538</td>\n",
       "      <td>683103</td>\n",
       "      <td>15.32</td>\n",
       "    </tr>\n",
       "    <tr>\n",
       "      <th>1</th>\n",
       "      <td>636538</td>\n",
       "      <td>634763</td>\n",
       "      <td>16.20</td>\n",
       "    </tr>\n",
       "    <tr>\n",
       "      <th>2</th>\n",
       "      <td>636538</td>\n",
       "      <td>683128</td>\n",
       "      <td>16.27</td>\n",
       "    </tr>\n",
       "    <tr>\n",
       "      <th>3</th>\n",
       "      <td>636538</td>\n",
       "      <td>683789</td>\n",
       "      <td>16.77</td>\n",
       "    </tr>\n",
       "    <tr>\n",
       "      <th>4</th>\n",
       "      <td>636538</td>\n",
       "      <td>634709</td>\n",
       "      <td>17.67</td>\n",
       "    </tr>\n",
       "  </tbody>\n",
       "</table>\n",
       "</div>"
      ],
      "text/plain": [
       "   Origin_tid  Destination_tid  Total_Time\n",
       "0      636538           683103       15.32\n",
       "1      636538           634763       16.20\n",
       "2      636538           683128       16.27\n",
       "3      636538           683789       16.77\n",
       "4      636538           634709       17.67"
      ]
     },
     "execution_count": 3,
     "metadata": {},
     "output_type": "execute_result"
    }
   ],
   "source": [
    "dist = pd.read_csv('../data/times v4.csv')\n",
    "dist.head()"
   ]
  },
  {
   "cell_type": "code",
   "execution_count": 4,
   "id": "67036fa6-30b6-4955-9b1a-537222f6946a",
   "metadata": {},
   "outputs": [
    {
     "data": {
      "text/html": [
       "<div>\n",
       "<style scoped>\n",
       "    .dataframe tbody tr th:only-of-type {\n",
       "        vertical-align: middle;\n",
       "    }\n",
       "\n",
       "    .dataframe tbody tr th {\n",
       "        vertical-align: top;\n",
       "    }\n",
       "\n",
       "    .dataframe thead th {\n",
       "        text-align: right;\n",
       "    }\n",
       "</style>\n",
       "<table border=\"1\" class=\"dataframe\">\n",
       "  <thead>\n",
       "    <tr style=\"text-align: right;\">\n",
       "      <th></th>\n",
       "      <th>Origin_tid</th>\n",
       "      <th>Destination_tid</th>\n",
       "      <th>Total_Time</th>\n",
       "    </tr>\n",
       "  </thead>\n",
       "  <tbody>\n",
       "    <tr>\n",
       "      <th>194048</th>\n",
       "      <td>683103</td>\n",
       "      <td>636538</td>\n",
       "      <td>14.92</td>\n",
       "    </tr>\n",
       "  </tbody>\n",
       "</table>\n",
       "</div>"
      ],
      "text/plain": [
       "        Origin_tid  Destination_tid  Total_Time\n",
       "194048      683103           636538       14.92"
      ]
     },
     "execution_count": 4,
     "metadata": {},
     "output_type": "execute_result"
    }
   ],
   "source": [
    "dist[(dist['Origin_tid'] == 683103) & (dist['Destination_tid'] == 636538)]"
   ]
  },
  {
   "cell_type": "code",
   "execution_count": 5,
   "id": "ec2bba5c-7299-4231-88ac-370991b80a02",
   "metadata": {},
   "outputs": [
    {
     "data": {
      "text/plain": [
       "2655270"
      ]
     },
     "execution_count": 5,
     "metadata": {},
     "output_type": "execute_result"
    }
   ],
   "source": [
    "len(dist)"
   ]
  },
  {
   "cell_type": "code",
   "execution_count": 6,
   "id": "b5710b53-ba3f-4a72-809b-9736cb52733a",
   "metadata": {},
   "outputs": [
    {
     "data": {
      "text/plain": [
       "10"
      ]
     },
     "execution_count": 6,
     "metadata": {},
     "output_type": "execute_result"
    }
   ],
   "source": [
    "(dist['Total_Time'] == 0).sum()"
   ]
  },
  {
   "cell_type": "code",
   "execution_count": 7,
   "id": "865dd998-3296-47bf-8094-c59ff5190667",
   "metadata": {},
   "outputs": [
    {
     "data": {
      "text/plain": [
       "1630"
      ]
     },
     "execution_count": 7,
     "metadata": {},
     "output_type": "execute_result"
    }
   ],
   "source": [
    "dist['Origin_tid'].nunique()"
   ]
  },
  {
   "cell_type": "code",
   "execution_count": 8,
   "id": "20466448-621b-47c4-a17e-b54729a4f88e",
   "metadata": {},
   "outputs": [],
   "source": [
    "le = sklearn.preprocessing.LabelEncoder()\n",
    "le.fit(dist['Origin_tid'])\n",
    "dist['from_int'] = le.transform(dist['Origin_tid'])\n",
    "dist['to_int'] = le.transform(dist['Destination_tid'])"
   ]
  },
  {
   "cell_type": "code",
   "execution_count": 9,
   "id": "3bb74e92-330a-4775-9054-95b3b2637c95",
   "metadata": {},
   "outputs": [
    {
     "data": {
      "text/plain": [
       "(0, 1629)"
      ]
     },
     "execution_count": 9,
     "metadata": {},
     "output_type": "execute_result"
    }
   ],
   "source": [
    "dist['from_int'].min(), dist['from_int'].max()"
   ]
  },
  {
   "cell_type": "markdown",
   "id": "be60b1a1-598f-45bd-8a5b-0b7ef3c467a6",
   "metadata": {},
   "source": [
    "## Setup configs"
   ]
  },
  {
   "cell_type": "code",
   "execution_count": 10,
   "id": "aadc749d-09d3-4d70-88c6-e2eaf3b4f16e",
   "metadata": {},
   "outputs": [],
   "source": [
    "config = {'cnt_terminals': dist['from_int'].max() + 1,\n",
    "          'persent_day_income': 0.02 / 365,\n",
    "          'terminal_service_cost': {'min': 100, 'persent': 0.01},\n",
    "          'max_terminal_money': 1000000,\n",
    "          'max_not_service_days': 14,\n",
    "          'armored_car_day_cost': 20000,\n",
    "          'work_time': 10 * 60,\n",
    "          'service_time': 10}"
   ]
  },
  {
   "cell_type": "markdown",
   "id": "cf20e6f2-1849-4738-9bd0-44a13bf6bc3d",
   "metadata": {},
   "source": [
    "## Searching optimal path"
   ]
  },
  {
   "cell_type": "code",
   "execution_count": 11,
   "id": "1672a1f8-9aa1-469e-a76d-a44de54fb292",
   "metadata": {},
   "outputs": [],
   "source": [
    "# !pip install ortools # works for sergak\n",
    "# !python3 -m pip install --upgrade --user ortools # works for nikita"
   ]
  },
  {
   "cell_type": "code",
   "execution_count": 12,
   "id": "b229963c-3a7f-4367-bcf7-8a7d9c8ba4a8",
   "metadata": {},
   "outputs": [],
   "source": [
    "\"\"\"Simple Vehicles Routing Problem (VRP).\n",
    "\n",
    "   This is a sample using the routing library python wrapper to solve a VRP\n",
    "   problem.\n",
    "   A description of the problem can be found here:\n",
    "   http://en.wikipedia.org/wiki/Vehicle_routing_problem.\n",
    "\n",
    "   Distances are in meters.\n",
    "\"\"\"\n",
    "\n",
    "from ortools.constraint_solver import routing_enums_pb2\n",
    "from ortools.constraint_solver import pywrapcp"
   ]
  },
  {
   "cell_type": "code",
   "execution_count": 13,
   "id": "ee5b02b5-8110-4dae-af80-109bf3250c12",
   "metadata": {},
   "outputs": [],
   "source": [
    "inf = int(1e4)\n",
    "cnt_terminals = config['cnt_terminals']\n",
    "distance_matrix = np.ones((cnt_terminals + 2, cnt_terminals + 2)) * inf\n",
    "for i, j, w in zip(dist['from_int'], dist['to_int'], dist['Total_Time']):\n",
    "    distance_matrix[i + 1, j + 1] = w + config['service_time']\n",
    "    \n",
    "for i in range(1, cnt_terminals + 1):\n",
    "    distance_matrix[i, 0] = inf\n",
    "    distance_matrix[0, i] = config['service_time']\n",
    "    distance_matrix[i, i] = 0\n",
    "    distance_matrix[i, cnt_terminals + 1] = 0\n",
    "    distance_matrix[cnt_terminals + 1, i] = inf\n",
    "    \n",
    "distance_matrix[0, cnt_terminals + 1] = 0\n",
    "distance_matrix[cnt_terminals + 1, 0] = inf\n",
    "distance_matrix = distance_matrix.astype(int)\n"
   ]
  },
  {
   "cell_type": "code",
   "execution_count": 14,
   "id": "9d286507-9c41-4f7f-9ed7-34ac8c1117d2",
   "metadata": {},
   "outputs": [],
   "source": [
    "# distance_matrix = (distance_matrix * 100).astype(int)\n",
    "# inf *= 100\n",
    "# config['work_time'] *= 100"
   ]
  },
  {
   "cell_type": "code",
   "execution_count": 33,
   "id": "2e1a38a5-b785-4841-85aa-ba677b9949cd",
   "metadata": {},
   "outputs": [],
   "source": [
    "vrp_data = {'distance_matrix': distance_matrix,\n",
    "            'num_vehicles': 43,\n",
    "            'num_locations': cnt_terminals + 2,\n",
    "            'depot': 0}\n",
    "\n",
    "vrp_data['starts'] = [0] * vrp_data['num_vehicles']\n",
    "vrp_data['ends'] = [int(cnt_terminals + 1)] * vrp_data['num_vehicles']\n"
   ]
  },
  {
   "cell_type": "code",
   "execution_count": 34,
   "id": "6fa1427d-bdfd-440b-87c8-419b2a5ba0ac",
   "metadata": {},
   "outputs": [
    {
     "data": {
      "text/plain": [
       "int"
      ]
     },
     "execution_count": 34,
     "metadata": {},
     "output_type": "execute_result"
    }
   ],
   "source": [
    "type(vrp_data['starts'][0])"
   ]
  },
  {
   "cell_type": "code",
   "execution_count": 35,
   "id": "2491104f-f58f-4280-832f-a071816ec544",
   "metadata": {},
   "outputs": [],
   "source": [
    "def print_solution(data, manager, routing, solution):\n",
    "    \"\"\"Prints solution on console.\"\"\"\n",
    "    print(f'Objective: {solution.ObjectiveValue()}')\n",
    "    max_route_distance = 0\n",
    "    for vehicle_id in range(data['num_vehicles']):\n",
    "        index = routing.Start(vehicle_id)\n",
    "        plan_output = 'Route for vehicle {}:\\n'.format(vehicle_id)\n",
    "        route_distance = 0\n",
    "        while not routing.IsEnd(index):\n",
    "            plan_output += ' {} -> '.format(manager.IndexToNode(index))\n",
    "            previous_index = index\n",
    "            index = solution.Value(routing.NextVar(index))\n",
    "            route_distance += routing.GetArcCostForVehicle(\n",
    "                previous_index, index, vehicle_id)\n",
    "        plan_output += '{}\\n'.format(manager.IndexToNode(index))\n",
    "        plan_output += 'Distance of the route: {}m\\n'.format(route_distance)\n",
    "        print(plan_output)\n",
    "        max_route_distance = max(route_distance, max_route_distance)\n",
    "    print('Maximum of the route distances: {}m'.format(max_route_distance))"
   ]
  },
  {
   "cell_type": "code",
   "execution_count": 36,
   "id": "5b0d5020-8b7a-4f8d-b1a2-a0e4e60217f4",
   "metadata": {},
   "outputs": [
    {
     "data": {
      "text/plain": [
       "(43, 43)"
      ]
     },
     "execution_count": 36,
     "metadata": {},
     "output_type": "execute_result"
    }
   ],
   "source": [
    "len(vrp_data['starts']), vrp_data['num_vehicles']"
   ]
  },
  {
   "cell_type": "code",
   "execution_count": 37,
   "id": "326f1cef-a207-4095-a769-2b160291b816",
   "metadata": {},
   "outputs": [],
   "source": [
    "manager = pywrapcp.RoutingIndexManager(len(vrp_data['distance_matrix']),\n",
    "                                       vrp_data['num_vehicles'],\n",
    "                                       # vrp_data['depot']\n",
    "                                       vrp_data['starts'],\n",
    "                                       vrp_data['ends'])\n",
    "\n",
    "# Create Routing Model.\n",
    "routing = pywrapcp.RoutingModel(manager)\n",
    "\n",
    "\n",
    "# Create and register a transit callback.\n",
    "def distance_callback(from_index, to_index):\n",
    "    \"\"\"Returns the distance between the two nodes.\"\"\"\n",
    "    # Convert from routing variable Index to distance matrix NodeIndex.\n",
    "    from_node = manager.IndexToNode(from_index)\n",
    "    to_node = manager.IndexToNode(to_index)\n",
    "    return vrp_data['distance_matrix'][from_node][to_node]\n",
    "\n",
    "transit_callback_index = routing.RegisterTransitCallback(distance_callback)\n",
    "\n",
    "# Define cost of each arc.\n",
    "routing.SetArcCostEvaluatorOfAllVehicles(transit_callback_index)\n",
    "\n",
    "# Add Distance constraint.\n",
    "dimension_name = 'Distance'\n",
    "routing.AddDimension(\n",
    "    transit_callback_index,\n",
    "    0,  # no slack\n",
    "    config['work_time'],  # vehicle maximum travel distance\n",
    "    True,  # start cumul to zero\n",
    "    dimension_name)\n",
    "distance_dimension = routing.GetDimensionOrDie(dimension_name)\n",
    "distance_dimension.SetGlobalSpanCostCoefficient(100)\n",
    "\n",
    "# Setting first solution heuristic.\n",
    "search_parameters = pywrapcp.DefaultRoutingSearchParameters()\n",
    "search_parameters.first_solution_strategy = (routing_enums_pb2.FirstSolutionStrategy.AUTOMATIC)\n",
    "search_parameters.solution_limit = 100\n",
    "search_parameters.time_limit.seconds = 30"
   ]
  },
  {
   "cell_type": "code",
   "execution_count": 38,
   "id": "784210c5-a27c-4363-aa7a-d0ad3ae4b05d",
   "metadata": {},
   "outputs": [
    {
     "name": "stdout",
     "output_type": "stream",
     "text": [
      "Objective: 8492221\n",
      "Route for vehicle 0:\n",
      " 0 ->  973 ->  965 ->  945 ->  774 -> 1631\n",
      "Distance of the route: 31232m\n",
      "\n",
      "Route for vehicle 1:\n",
      " 0 ->  1048 ->  1111 ->  813 ->  214 ->  1215 ->  215 ->  382 ->  1422 ->  1439 ->  390 ->  1207 ->  661 ->  929 ->  1136 -> 1631\n",
      "Distance of the route: 55957m\n",
      "\n",
      "Route for vehicle 2:\n",
      " 0 ->  1454 ->  87 ->  89 ->  472 ->  969 ->  6 ->  704 ->  732 ->  438 ->  1192 ->  395 ->  874 ->  1393 ->  553 ->  1425 ->  678 ->  927 ->  250 ->  1415 ->  219 ->  722 ->  950 ->  1342 ->  1416 ->  207 ->  978 ->  518 -> 1631\n",
      "Distance of the route: 59349m\n",
      "\n",
      "Route for vehicle 3:\n",
      " 0 ->  432 ->  919 ->  1469 ->  776 ->  1188 ->  750 ->  1158 ->  556 ->  230 ->  765 ->  366 ->  1242 ->  555 ->  1099 ->  987 ->  422 ->  90 ->  846 ->  1292 ->  357 ->  398 ->  104 ->  907 ->  152 ->  721 ->  549 ->  150 ->  758 ->  1093 ->  1174 ->  105 ->  100 ->  525 ->  963 -> 1631\n",
      "Distance of the route: 58729m\n",
      "\n",
      "Route for vehicle 4:\n",
      " 0 ->  1491 ->  956 ->  1224 ->  977 ->  1079 ->  901 ->  665 ->  424 ->  1270 ->  1483 ->  512 ->  852 ->  29 ->  1369 ->  41 ->  1295 ->  28 ->  1267 ->  737 ->  667 ->  134 ->  143 ->  1167 ->  1238 ->  771 ->  142 ->  144 ->  146 ->  145 ->  1373 ->  824 ->  107 -> 1631\n",
      "Distance of the route: 59600m\n",
      "\n",
      "Route for vehicle 5:\n",
      " 0 ->  110 ->  1514 ->  1302 ->  1426 ->  154 ->  158 ->  372 ->  1112 ->  173 ->  131 ->  129 ->  124 ->  410 ->  128 ->  1287 ->  443 ->  1232 ->  1168 ->  1116 ->  1193 ->  91 ->  377 ->  536 ->  280 -> 1631\n",
      "Distance of the route: 56494m\n",
      "\n",
      "Route for vehicle 6:\n",
      " 0 ->  742 ->  1521 ->  671 ->  798 ->  1006 ->  501 ->  322 ->  1147 ->  1333 ->  330 ->  767 ->  569 ->  493 ->  1104 ->  1002 ->  1365 ->  233 ->  1144 ->  348 ->  1405 ->  1 ->  103 ->  875 ->  341 ->  133 ->  752 ->  1214 ->  62 ->  817 ->  1130 ->  1149 ->  99 ->  777 ->  690 ->  441 ->  95 ->  96 ->  656 -> 1631\n",
      "Distance of the route: 57887m\n",
      "\n",
      "Route for vehicle 7:\n",
      " 0 ->  699 ->  1541 ->  1225 ->  305 ->  1428 ->  983 ->  1043 ->  1075 ->  957 ->  1452 ->  622 ->  980 ->  513 ->  1310 ->  717 ->  953 ->  1262 ->  1034 ->  825 ->  655 ->  1436 ->  1071 ->  994 ->  1258 ->  1101 ->  1413 ->  1066 ->  1476 ->  14 ->  21 ->  577 ->  24 ->  1059 ->  967 ->  1271 ->  19 -> 1631\n",
      "Distance of the route: 57326m\n",
      "\n",
      "Route for vehicle 8:\n",
      " 0 ->  1052 ->  433 ->  1542 ->  1219 ->  554 ->  1423 ->  1261 ->  986 ->  446 ->  863 ->  1026 ->  409 ->  474 ->  1115 ->  1371 ->  1163 ->  299 ->  806 ->  974 ->  1347 ->  757 ->  1311 ->  1118 ->  1084 ->  708 ->  564 ->  960 ->  1152 ->  1031 ->  728 ->  308 ->  1197 ->  1032 ->  562 ->  487 ->  1161 -> 1631\n",
      "Distance of the route: 55568m\n",
      "\n",
      "Route for vehicle 9:\n",
      " 0 ->  1549 ->  1487 ->  848 ->  1120 ->  1349 ->  1053 ->  1050 ->  1068 ->  1029 ->  1272 ->  1036 ->  613 ->  650 ->  552 ->  1296 ->  558 ->  1055 ->  571 ->  1056 ->  1392 ->  625 ->  1359 ->  954 ->  1375 ->  1467 ->  1482 ->  870 ->  854 ->  1546 ->  1489 ->  1097 ->  646 ->  908 ->  1297 ->  1211 ->  604 ->  1037 ->  1024 ->  1039 ->  1067 ->  633 ->  587 -> 1631\n",
      "Distance of the route: 55538m\n",
      "\n",
      "Route for vehicle 10:\n",
      " 0 ->  1557 ->  1170 ->  795 ->  262 ->  1552 ->  1366 ->  531 ->  151 ->  861 ->  1473 ->  1094 ->  115 ->  415 ->  1430 ->  991 ->  1256 ->  1400 ->  811 ->  504 ->  821 ->  1085 ->  1460 ->  822 ->  1486 ->  1424 ->  992 ->  61 ->  60 ->  109 ->  59 ->  116 ->  447 ->  1420 ->  663 ->  1169 ->  860 ->  524 ->  117 ->  1522 ->  111 ->  114 -> 1631\n",
      "Distance of the route: 56546m\n",
      "\n",
      "Route for vehicle 11:\n",
      " 0 ->  1562 ->  1134 ->  1387 ->  1493 ->  210 ->  452 ->  70 ->  213 ->  82 ->  617 ->  543 ->  1547 ->  1530 ->  272 ->  1299 ->  295 ->  318 ->  1495 ->  597 ->  294 ->  1145 ->  35 ->  892 ->  1304 ->  40 ->  539 ->  602 ->  231 ->  22 ->  1471 ->  626 ->  18 ->  32 ->  818 ->  53 ->  407 ->  39 ->  591 ->  48 ->  1526 ->  263 ->  933 -> 1631\n",
      "Distance of the route: 59793m\n",
      "\n",
      "Route for vehicle 12:\n",
      " 0 ->  1383 ->  1568 ->  1275 ->  229 ->  1500 ->  42 ->  542 ->  1319 ->  632 ->  584 ->  1255 ->  583 ->  1023 ->  838 ->  941 ->  282 ->  23 ->  828 ->  1119 ->  1301 ->  92 ->  492 ->  1356 ->  1103 ->  598 ->  627 ->  490 ->  329 ->  940 ->  1380 ->  751 ->  659 ->  498 ->  67 ->  936 ->  747 ->  702 ->  851 ->  311 ->  11 ->  1308 -> 1631\n",
      "Distance of the route: 54683m\n",
      "\n",
      "Route for vehicle 13:\n",
      " 0 ->  573 ->  1572 ->  1235 ->  75 ->  1253 ->  1236 ->  54 ->  211 ->  405 ->  1389 ->  266 ->  209 ->  68 ->  34 ->  1294 ->  541 ->  1543 ->  1528 ->  74 ->  17 ->  1251 ->  714 ->  249 ->  1329 ->  255 ->  252 ->  566 ->  866 ->  1312 ->  1556 ->  1249 ->  4 ->  220 ->  642 ->  530 ->  1303 ->  958 ->  640 ->  1318 ->  1153 ->  599 ->  915 ->  1076 -> 1631\n",
      "Distance of the route: 57693m\n",
      "\n",
      "Route for vehicle 14:\n",
      " 0 ->  1574 ->  1276 ->  644 ->  1401 ->  1293 ->  387 ->  1222 ->  1049 ->  630 ->  1074 ->  9 ->  1041 ->  1035 ->  993 ->  612 ->  1077 ->  951 ->  419 ->  880 ->  1216 ->  27 ->  1190 ->  600 ->  615 ->  386 ->  605 ->  46 ->  616 ->  1553 ->  1290 ->  888 ->  1341 ->  480 ->  834 ->  592 ->  37 ->  65 ->  835 ->  33 ->  1360 ->  30 ->  1247 ->  1511 ->  418 ->  1384 ->  3 -> 1631\n",
      "Distance of the route: 59487m\n",
      "\n",
      "Route for vehicle 15:\n",
      " 0 ->  1579 ->  1372 ->  356 ->  1160 ->  1497 ->  1407 ->  239 ->  1346 ->  1578 ->  968 ->  706 ->  1472 ->  1132 ->  485 ->  411 ->  240 ->  1396 ->  1195 ->  1315 ->  784 ->  1496 ->  234 ->  359 ->  235 ->  400 ->  1481 ->  242 ->  1194 ->  785 ->  1432 ->  181 -> 1631\n",
      "Distance of the route: 59897m\n",
      "\n",
      "Route for vehicle 16:\n",
      " 0 ->  1580 ->  486 ->  1004 ->  1007 ->  362 ->  1532 ->  670 ->  461 ->  309 ->  1575 ->  297 ->  681 ->  832 ->  800 ->  561 ->  1435 ->  997 ->  995 ->  560 ->  453 ->  998 ->  271 ->  673 ->  773 ->  324 ->  291 ->  996 ->  475 ->  365 ->  643 ->  378 ->  1083 ->  1010 ->  307 ->  1328 ->  420 ->  1069 ->  470 ->  1377 -> 1631\n",
      "Distance of the route: 58714m\n",
      "\n",
      "Route for vehicle 17:\n",
      " 0 ->  1587 ->  1433 ->  391 ->  1288 ->  457 ->  1278 ->  1220 ->  1244 ->  979 ->  416 ->  1202 ->  1045 ->  1107 ->  769 ->  972 ->  1017 ->  658 ->  966 ->  772 ->  1210 ->  194 ->  985 ->  924 ->  425 ->  1354 ->  440 ->  244 ->  200 ->  355 ->  186 ->  258 ->  1395 ->  789 ->  236 ->  692 ->  256 ->  254 ->  246 -> 1631\n",
      "Distance of the route: 59238m\n",
      "\n",
      "Route for vehicle 18:\n",
      " 0 ->  1590 ->  1441 ->  1162 ->  370 ->  185 ->  379 ->  1264 ->  729 ->  1398 ->  1449 ->  1309 ->  814 ->  1133 ->  739 ->  952 ->  1307 ->  78 ->  350 ->  829 ->  1478 ->  1146 ->  1338 ->  413 ->  1064 ->  961 ->  464 ->  1051 ->  1129 ->  1348 ->  1106 -> 1631\n",
      "Distance of the route: 59312m\n",
      "\n",
      "Route for vehicle 19:\n",
      " 0 ->  1592 ->  482 ->  1484 ->  657 ->  71 ->  495 ->  1386 ->  349 ->  336 ->  298 ->  247 ->  361 ->  575 ->  394 ->  801 ->  198 ->  368 ->  698 ->  669 ->  251 ->  517 ->  1223 ->  257 ->  473 ->  1409 ->  712 ->  691 ->  237 ->  456 ->  241 ->  243 ->  830 ->  1323 ->  460 ->  760 ->  269 ->  937 ->  1576 ->  738 ->  942 ->  1015 ->  730 ->  1520 -> 1631\n",
      "Distance of the route: 59907m\n",
      "\n",
      "Route for vehicle 20:\n",
      " 0 ->  1593 ->  202 ->  201 ->  199 ->  1208 ->  196 ->  392 ->  375 ->  1523 ->  192 ->  1204 ->  191 ->  469 ->  1585 ->  1047 ->  1065 ->  1404 ->  193 ->  1009 ->  1209 ->  509 ->  1527 ->  187 ->  264 ->  1117 ->  63 ->  188 ->  1277 ->  1488 ->  189 ->  759 ->  403 ->  253 ->  1492 ->  212 ->  756 -> 1631\n",
      "Distance of the route: 59320m\n",
      "\n",
      "Route for vehicle 21:\n",
      " 0 ->  1597 ->  1114 ->  1021 ->  1087 ->  478 ->  1011 ->  225 ->  672 ->  1020 ->  277 ->  1596 ->  682 ->  458 ->  1519 ->  1281 ->  283 ->  1013 ->  376 ->  1001 ->  319 ->  505 ->  275 ->  127 ->  325 ->  1212 ->  367 ->  1533 ->  273 ->  925 ->  1012 ->  288 ->  1243 ->  274 ->  905 ->  1316 -> 1631\n",
      "Distance of the route: 58541m\n",
      "\n",
      "Route for vehicle 22:\n",
      " 0 ->  1601 ->  358 ->  183 ->  179 ->  1336 ->  1126 ->  1151 ->  1397 ->  182 ->  918 ->  746 ->  180 ->  232 ->  437 ->  1042 ->  694 ->  184 ->  802 ->  1201 ->  921 ->  55 ->  529 ->  1558 ->  1352 ->  176 ->  177 ->  352 ->  174 ->  175 ->  1250 ->  401 ->  1508 ->  1027 ->  238 ->  363 ->  69 ->  56 ->  859 ->  815 ->  871 ->  609 ->  629 ->  1306 -> 1631\n",
      "Distance of the route: 59387m\n",
      "\n",
      "Route for vehicle 23:\n",
      " 0 ->  1602 ->  1121 ->  1014 ->  66 ->  649 ->  47 ->  590 ->  1504 ->  1513 ->  922 ->  1539 ->  619 ->  887 ->  153 ->  528 ->  1185 ->  1230 ->  911 ->  339 ->  315 ->  684 ->  445 ->  705 ->  1480 ->  149 ->  1179 ->  147 ->  703 ->  1268 ->  148 ->  781 ->  406 ->  939 ->  397 ->  449 ->  94 ->  165 ->  1399 ->  755 ->  680 ->  1022 ->  2 ->  106 ->  444 -> 1631\n",
      "Distance of the route: 59206m\n",
      "\n",
      "Route for vehicle 24:\n",
      " 0 ->  1603 ->  1173 ->  335 ->  1000 ->  1564 ->  1337 ->  15 ->  639 ->  1374 ->  1455 ->  296 ->  1512 ->  596 ->  312 ->  898 ->  544 ->  1494 ->  287 ->  636 ->  563 ->  1008 ->  328 ->  631 ->  1274 ->  709 ->  455 ->  947 ->  733 ->  1003 ->  327 ->  944 ->  869 ->  679 ->  1122 ->  1438 ->  687 ->  506 ->  853 ->  321 ->  1353 ->  519 ->  840 ->  310 ->  1357 ->  1063 -> 1631\n",
      "Distance of the route: 59185m\n",
      "\n",
      "Route for vehicle 25:\n",
      " 0 ->  1604 ->  223 ->  666 ->  1370 ->  710 ->  435 ->  1412 ->  1445 ->  775 ->  763 ->  743 ->  1199 ->  906 ->  856 ->  381 ->  494 ->  1237 ->  270 ->  1577 ->  1326 ->  281 ->  1229 ->  304 ->  1189 ->  343 ->  764 ->  1148 ->  999 ->  276 ->  1475 ->  1453 ->  1016 ->  344 ->  334 ->  467 ->  727 -> 1631\n",
      "Distance of the route: 59430m\n",
      "\n",
      "Route for vehicle 26:\n",
      " 0 ->  1605 ->  1205 ->  949 ->  886 ->  404 ->  1206 ->  931 ->  516 ->  1033 ->  903 ->  812 ->  1516 ->  1314 ->  1086 ->  1080 ->  195 ->  654 ->  1203 ->  1427 ->  1273 ->  1150 ->  1361 ->  677 ->  675 ->  962 ->  1583 ->  989 ->  1200 ->  521 -> 1631\n",
      "Distance of the route: 58773m\n",
      "\n",
      "Route for vehicle 27:\n",
      " 0 ->  1606 ->  38 ->  203 ->  454 ->  926 ->  1531 ->  779 ->  823 ->  320 ->  1561 ->  302 ->  332 ->  535 ->  1257 ->  768 ->  1524 ->  674 ->  1529 ->  465 ->  1324 ->  1335 ->  353 ->  448 ->  864 ->  421 ->  695 ->  1108 ->  1447 ->  1183 ->  850 ->  306 ->  286 ->  1457 ->  1351 ->  576 ->  647 ->  1464 ->  1502 ->  847 ->  1535 ->  290 ->  1062 ->  900 ->  910 ->  289 ->  601 ->  1325 -> 1631\n",
      "Distance of the route: 59578m\n",
      "\n",
      "Route for vehicle 28:\n",
      " 0 ->  1607 ->  383 ->  1180 ->  1410 ->  904 ->  384 ->  1030 ->  1443 ->  1589 ->  385 ->  1419 ->  867 ->  450 ->  1588 ->  1263 ->  975 ->  476 ->  701 ->  1465 ->  1581 ->  1282 ->  786 ->  804 ->  711 ->  1582 ->  479 ->  1545 ->  1060 ->  796 ->  1434 ->  1350 ->  1463 ->  507 ->  514 ->  803 -> 1631\n",
      "Distance of the route: 59431m\n",
      "\n",
      "Route for vehicle 29:\n",
      " 0 ->  1608 ->  157 ->  570 ->  976 ->  1165 ->  159 ->  748 ->  155 ->  160 ->  1498 ->  156 ->  267 ->  1176 ->  118 ->  293 ->  120 ->  1591 ->  119 ->  161 ->  138 ->  1598 ->  268 ->  373 ->  1394 ->  483 ->  1599 ->  123 ->  1600 ->  389 ->  1317 ->  393 ->  122 ->  125 ->  121 ->  668 ->  426 ->  126 ->  130 -> 1631\n",
      "Distance of the route: 58913m\n",
      "\n",
      "Route for vehicle 30:\n",
      " 0 ->  1610 ->  1362 ->  720 ->  489 ->  1450 ->  1609 ->  1367 ->  1444 ->  1091 ->  762 ->  990 ->  354 ->  660 ->  434 ->  462 ->  408 ->  1072 ->  1054 ->  1595 ->  736 ->  463 ->  265 ->  1594 ->  948 ->  744 ->  697 ->  1283 ->  981 ->  653 ->  1070 ->  782 ->  503 ->  1280 ->  664 ->  1057 -> 1631\n",
      "Distance of the route: 55993m\n",
      "\n",
      "Route for vehicle 31:\n",
      " 0 ->  1611 ->  683 ->  360 ->  164 ->  137 ->  371 ->  136 ->  797 ->  1175 ->  430 ->  1218 ->  374 ->  923 ->  1089 ->  139 ->  724 ->  141 ->  749 ->  140 ->  102 ->  428 ->  163 ->  1586 ->  731 ->  1284 ->  723 ->  1584 ->  135 ->  1300 ->  807 ->  766 ->  132 ->  1131 ->  162 ->  427 ->  719 -> 1631\n",
      "Distance of the route: 59507m\n",
      "\n",
      "Route for vehicle 32:\n",
      " 0 ->  1612 ->  1536 ->  1110 ->  316 ->  1334 ->  245 ->  780 ->  248 ->  1408 ->  914 ->  526 ->  227 ->  1506 ->  442 ->  725 ->  226 ->  1196 ->  1279 ->  685 ->  1518 ->  1485 ->  224 ->  1421 ->  423 ->  488 ->  431 ->  565 ->  1096 ->  1534 ->  170 ->  471 ->  1565 ->  260 ->  172 ->  468 ->  259 ->  364 ->  676 ->  169 ->  178 ->  1184 ->  502 ->  171 ->  510 ->  831 -> 1631\n",
      "Distance of the route: 59976m\n",
      "\n",
      "Route for vehicle 33:\n",
      " 0 ->  1613 ->  1569 ->  827 ->  1363 ->  533 ->  1507 ->  1140 ->  641 ->  1379 ->  868 ->  1503 ->  1155 ->  589 ->  1226 ->  586 ->  826 ->  964 ->  1538 ->  1241 ->  1402 ->  1156 ->  1231 ->  1331 ->  1550 ->  1191 ->  20 ->  946 ->  1459 ->  862 ->  64 ->  44 ->  49 ->  1340 ->  167 ->  608 ->  882 ->  1098 ->  1442 ->  1490 ->  1381 ->  1567 ->  1382 ->  877 -> 1631\n",
      "Distance of the route: 59675m\n",
      "\n",
      "Route for vehicle 34:\n",
      " 0 ->  1615 ->  508 ->  511 ->  652 ->  50 ->  557 ->  707 ->  805 ->  1040 ->  1073 ->  1088 ->  783 ->  799 ->  1339 ->  459 ->  1090 ->  662 ->  1269 ->  1081 ->  902 ->  1038 ->  700 ->  735 ->  734 ->  523 ->  792 ->  1025 ->  1078 ->  955 ->  112 ->  417 ->  451 ->  1411 ->  1544 ->  1166 ->  1061 ->  1364 ->  928 ->  715 ->  221 ->  477 -> 1631\n",
      "Distance of the route: 59682m\n",
      "\n",
      "Route for vehicle 35:\n",
      " 0 ->  1616 ->  491 ->  25 ->  1213 ->  1182 ->  313 ->  567 ->  292 ->  988 ->  326 ->  279 ->  845 ->  13 ->  611 ->  842 ->  1142 ->  540 ->  545 ->  833 ->  1181 ->  844 ->  323 ->  930 ->  648 ->  1239 ->  113 ->  1540 ->  873 ->  621 ->  1260 ->  301 ->  624 ->  333 ->  1171 ->  538 ->  1571 ->  1358 ->  1177 ->  634 ->  894 ->  816 ->  285 ->  688 ->  696 ->  913 ->  1028 ->  638 ->  197 -> 1631\n",
      "Distance of the route: 59822m\n",
      "\n",
      "Route for vehicle 36:\n",
      " 0 ->  1618 ->  1554 ->  546 ->  72 ->  881 ->  83 ->  166 ->  338 ->  388 ->  581 ->  1305 ->  843 ->  1227 ->  580 ->  885 ->  57 ->  1458 ->  1479 ->  1617 ->  1082 ->  1559 ->  899 ->  84 ->  36 ->  550 ->  618 ->  893 ->  12 ->  537 ->  1289 ->  206 ->  51 ->  1474 ->  347 ->  579 ->  582 ->  1327 ->  1451 ->  635 ->  85 ->  1477 ->  984 ->  76 ->  1248 ->  80 -> 1631\n",
      "Distance of the route: 59402m\n",
      "\n",
      "Route for vehicle 37:\n",
      " 0 ->  1620 ->  1446 ->  1245 ->  959 ->  1313 ->  932 ->  693 ->  1285 ->  1044 ->  439 ->  1509 ->  1286 ->  578 ->  637 ->  1563 ->  436 ->  614 ->  820 ->  1046 ->  1240 ->  1164 ->  228 ->  351 ->  1259 ->  1198 ->  1125 ->  1406 ->  770 ->  810 ->  522 ->  1456 ->  1100 ->  726 ->  1127 ->  808 ->  497 ->  1417 ->  1537 ->  1551 ->  1391 ->  909 ->  819 -> 1631\n",
      "Distance of the route: 59403m\n",
      "\n",
      "Route for vehicle 38:\n",
      " 0 ->  1621 ->  88 ->  77 ->  369 ->  86 ->  1266 ->  380 ->  790 ->  1221 ->  97 ->  1105 ->  1172 ->  559 ->  342 ->  1252 ->  499 ->  1019 ->  396 ->  1517 ->  303 ->  793 ->  794 ->  500 ->  1233 ->  496 ->  93 ->  761 ->  1343 ->  340 ->  741 ->  1154 ->  574 ->  753 ->  716 ->  101 ->  98 ->  1505 ->  1619 ->  1466 ->  108 ->  1113 ->  623 -> 1631\n",
      "Distance of the route: 58829m\n",
      "\n",
      "Route for vehicle 39:\n",
      " 0 ->  1623 ->  1573 ->  1102 ->  205 ->  399 ->  917 ->  222 ->  1330 ->  1418 ->  216 ->  1510 ->  218 ->  740 ->  1385 ->  1332 ->  16 ->  1217 ->  1143 ->  858 ->  718 ->  787 ->  217 ->  855 ->  1228 ->  520 ->  1322 ->  865 ->  1135 ->  73 ->  837 ->  43 ->  1570 ->  841 ->  45 ->  79 ->  1320 ->  58 ->  607 ->  836 ->  484 ->  839 ->  81 ->  1234 ->  1448 ->  1344 ->  1376 -> 1631\n",
      "Distance of the route: 58550m\n",
      "\n",
      "Route for vehicle 40:\n",
      " 0 ->  1628 ->  402 ->  1614 ->  788 ->  547 ->  689 ->  1058 ->  686 ->  1462 ->  414 ->  1005 ->  1018 ->  168 ->  754 ->  982 ->  1555 ->  971 ->  593 ->  872 ->  317 ->  1470 ->  466 ->  8 ->  52 ->  891 ->  645 ->  31 ->  896 ->  1187 ->  337 ->  778 ->  1246 ->  1178 ->  713 ->  1624 ->  481 ->  857 ->  190 ->  1092 ->  791 ->  745 ->  809 -> 1631\n",
      "Distance of the route: 59774m\n",
      "\n",
      "Route for vehicle 41:\n",
      " 0 ->  1629 ->  208 ->  1159 ->  1355 ->  1128 ->  1525 ->  1291 ->  572 ->  10 ->  651 ->  1626 ->  346 ->  345 ->  548 ->  878 ->  895 ->  1627 ->  1138 ->  912 ->  1265 ->  1378 ->  610 ->  1461 ->  883 ->  515 ->  261 ->  1431 ->  897 ->  1254 ->  1095 ->  1390 ->  1437 ->  1403 ->  595 ->  916 ->  1625 ->  532 ->  876 ->  890 ->  1515 ->  1548 ->  1388 ->  314 ->  5 ->  1157 ->  1123 ->  920 -> 1631\n",
      "Distance of the route: 59328m\n",
      "\n",
      "Route for vehicle 42:\n",
      " 0 ->  1630 ->  935 ->  300 ->  1139 ->  628 ->  934 ->  278 ->  1141 ->  1501 ->  1368 ->  603 ->  1186 ->  938 ->  1440 ->  594 ->  412 ->  606 ->  331 ->  1109 ->  879 ->  551 ->  1560 ->  284 ->  1499 ->  1298 ->  568 ->  1345 ->  534 ->  1414 ->  849 ->  1429 ->  1566 ->  1124 ->  884 ->  1468 ->  943 ->  585 ->  588 ->  7 ->  527 ->  26 ->  889 ->  1622 ->  429 ->  970 ->  1321 ->  1137 ->  204 ->  620 -> 1631\n",
      "Distance of the route: 59966m\n",
      "\n",
      "Maximum of the route distances: 59976m\n"
     ]
    }
   ],
   "source": [
    "# Solve the problem.\n",
    "solution = routing.SolveWithParameters(search_parameters)\n",
    "\n",
    "# Print solution on console.\n",
    "if solution:\n",
    "    print_solution(vrp_data, manager, routing, solution)\n",
    "else:\n",
    "    print('No solution found !')"
   ]
  },
  {
   "cell_type": "code",
   "execution_count": null,
   "id": "77b4a6aa-b68d-4e42-aeb4-209dcd722ac2",
   "metadata": {},
   "outputs": [],
   "source": []
  },
  {
   "cell_type": "code",
   "execution_count": null,
   "id": "07eaf321-28f4-4e0f-bb3e-b9910f6c7be9",
   "metadata": {},
   "outputs": [],
   "source": []
  }
 ],
 "metadata": {
  "kernelspec": {
   "display_name": "Python 3 (ipykernel)",
   "language": "python",
   "name": "python3"
  },
  "language_info": {
   "codemirror_mode": {
    "name": "ipython",
    "version": 3
   },
   "file_extension": ".py",
   "mimetype": "text/x-python",
   "name": "python",
   "nbconvert_exporter": "python",
   "pygments_lexer": "ipython3",
   "version": "3.10.8"
  }
 },
 "nbformat": 4,
 "nbformat_minor": 5
}
