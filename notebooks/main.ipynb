{
 "cells": [
  {
   "cell_type": "code",
   "execution_count": 1,
   "id": "3820964d-d6fa-48bf-b130-3a528b9bdab9",
   "metadata": {},
   "outputs": [],
   "source": [
    "import pandas as pd\n",
    "import numpy as np\n",
    "import sklearn"
   ]
  },
  {
   "cell_type": "code",
   "execution_count": 2,
   "id": "a2835029-2a5a-4a8b-a202-65183b207a76",
   "metadata": {},
   "outputs": [],
   "source": [
    "from sklearn import preprocessing"
   ]
  },
  {
   "cell_type": "markdown",
   "id": "08296203-9861-4b0f-ba0b-93ea6239b6ee",
   "metadata": {
    "tags": []
   },
   "source": [
    "## Read data"
   ]
  },
  {
   "cell_type": "code",
   "execution_count": 3,
   "id": "4151bcc6-f93f-4677-9c03-078fe4164fa5",
   "metadata": {},
   "outputs": [
    {
     "data": {
      "text/html": [
       "<div>\n",
       "<style scoped>\n",
       "    .dataframe tbody tr th:only-of-type {\n",
       "        vertical-align: middle;\n",
       "    }\n",
       "\n",
       "    .dataframe tbody tr th {\n",
       "        vertical-align: top;\n",
       "    }\n",
       "\n",
       "    .dataframe thead th {\n",
       "        text-align: right;\n",
       "    }\n",
       "</style>\n",
       "<table border=\"1\" class=\"dataframe\">\n",
       "  <thead>\n",
       "    <tr style=\"text-align: right;\">\n",
       "      <th></th>\n",
       "      <th>Origin_tid</th>\n",
       "      <th>Destination_tid</th>\n",
       "      <th>Total_Time</th>\n",
       "    </tr>\n",
       "  </thead>\n",
       "  <tbody>\n",
       "    <tr>\n",
       "      <th>0</th>\n",
       "      <td>636538</td>\n",
       "      <td>683103</td>\n",
       "      <td>15.32</td>\n",
       "    </tr>\n",
       "    <tr>\n",
       "      <th>1</th>\n",
       "      <td>636538</td>\n",
       "      <td>634763</td>\n",
       "      <td>16.20</td>\n",
       "    </tr>\n",
       "    <tr>\n",
       "      <th>2</th>\n",
       "      <td>636538</td>\n",
       "      <td>683128</td>\n",
       "      <td>16.27</td>\n",
       "    </tr>\n",
       "    <tr>\n",
       "      <th>3</th>\n",
       "      <td>636538</td>\n",
       "      <td>683789</td>\n",
       "      <td>16.77</td>\n",
       "    </tr>\n",
       "    <tr>\n",
       "      <th>4</th>\n",
       "      <td>636538</td>\n",
       "      <td>634709</td>\n",
       "      <td>17.67</td>\n",
       "    </tr>\n",
       "  </tbody>\n",
       "</table>\n",
       "</div>"
      ],
      "text/plain": [
       "   Origin_tid  Destination_tid  Total_Time\n",
       "0      636538           683103       15.32\n",
       "1      636538           634763       16.20\n",
       "2      636538           683128       16.27\n",
       "3      636538           683789       16.77\n",
       "4      636538           634709       17.67"
      ]
     },
     "execution_count": 3,
     "metadata": {},
     "output_type": "execute_result"
    }
   ],
   "source": [
    "dist = pd.read_csv('../data/times v4.csv')\n",
    "dist.head()"
   ]
  },
  {
   "cell_type": "code",
   "execution_count": 4,
   "id": "67036fa6-30b6-4955-9b1a-537222f6946a",
   "metadata": {},
   "outputs": [
    {
     "data": {
      "text/html": [
       "<div>\n",
       "<style scoped>\n",
       "    .dataframe tbody tr th:only-of-type {\n",
       "        vertical-align: middle;\n",
       "    }\n",
       "\n",
       "    .dataframe tbody tr th {\n",
       "        vertical-align: top;\n",
       "    }\n",
       "\n",
       "    .dataframe thead th {\n",
       "        text-align: right;\n",
       "    }\n",
       "</style>\n",
       "<table border=\"1\" class=\"dataframe\">\n",
       "  <thead>\n",
       "    <tr style=\"text-align: right;\">\n",
       "      <th></th>\n",
       "      <th>Origin_tid</th>\n",
       "      <th>Destination_tid</th>\n",
       "      <th>Total_Time</th>\n",
       "    </tr>\n",
       "  </thead>\n",
       "  <tbody>\n",
       "    <tr>\n",
       "      <th>194048</th>\n",
       "      <td>683103</td>\n",
       "      <td>636538</td>\n",
       "      <td>14.92</td>\n",
       "    </tr>\n",
       "  </tbody>\n",
       "</table>\n",
       "</div>"
      ],
      "text/plain": [
       "        Origin_tid  Destination_tid  Total_Time\n",
       "194048      683103           636538       14.92"
      ]
     },
     "execution_count": 4,
     "metadata": {},
     "output_type": "execute_result"
    }
   ],
   "source": [
    "dist[(dist['Origin_tid'] == 683103) & (dist['Destination_tid'] == 636538)]"
   ]
  },
  {
   "cell_type": "code",
   "execution_count": 5,
   "id": "ec2bba5c-7299-4231-88ac-370991b80a02",
   "metadata": {},
   "outputs": [
    {
     "data": {
      "text/plain": [
       "2655270"
      ]
     },
     "execution_count": 5,
     "metadata": {},
     "output_type": "execute_result"
    }
   ],
   "source": [
    "len(dist)"
   ]
  },
  {
   "cell_type": "code",
   "execution_count": 6,
   "id": "b5710b53-ba3f-4a72-809b-9736cb52733a",
   "metadata": {},
   "outputs": [
    {
     "data": {
      "text/plain": [
       "10"
      ]
     },
     "execution_count": 6,
     "metadata": {},
     "output_type": "execute_result"
    }
   ],
   "source": [
    "(dist['Total_Time'] == 0).sum()"
   ]
  },
  {
   "cell_type": "code",
   "execution_count": 7,
   "id": "865dd998-3296-47bf-8094-c59ff5190667",
   "metadata": {},
   "outputs": [
    {
     "data": {
      "text/plain": [
       "1630"
      ]
     },
     "execution_count": 7,
     "metadata": {},
     "output_type": "execute_result"
    }
   ],
   "source": [
    "dist['Origin_tid'].nunique()"
   ]
  },
  {
   "cell_type": "code",
   "execution_count": 8,
   "id": "20466448-621b-47c4-a17e-b54729a4f88e",
   "metadata": {},
   "outputs": [],
   "source": [
    "le = sklearn.preprocessing.LabelEncoder()\n",
    "le.fit(dist['Origin_tid'])\n",
    "dist['from_int'] = le.transform(dist['Origin_tid'])\n",
    "dist['to_int'] = le.transform(dist['Destination_tid'])"
   ]
  },
  {
   "cell_type": "code",
   "execution_count": 9,
   "id": "3bb74e92-330a-4775-9054-95b3b2637c95",
   "metadata": {},
   "outputs": [
    {
     "data": {
      "text/plain": [
       "(0, 1629)"
      ]
     },
     "execution_count": 9,
     "metadata": {},
     "output_type": "execute_result"
    }
   ],
   "source": [
    "dist['from_int'].min(), dist['from_int'].max()"
   ]
  },
  {
   "cell_type": "markdown",
   "id": "be60b1a1-598f-45bd-8a5b-0b7ef3c467a6",
   "metadata": {},
   "source": [
    "## Setup configs"
   ]
  },
  {
   "cell_type": "code",
   "execution_count": 10,
   "id": "aadc749d-09d3-4d70-88c6-e2eaf3b4f16e",
   "metadata": {},
   "outputs": [],
   "source": [
    "config = {'cnt_terminals': dist['from_int'].max() + 1,\n",
    "          'persent_day_income': 0.02 / 365,\n",
    "          'terminal_service_cost': {'min': 100, 'persent': 0.01},\n",
    "          'max_terminal_money': 1000000,\n",
    "          'max_not_service_days': 14,\n",
    "          'armored_car_day_cost': 20000,\n",
    "          'work_time': 10 * 60,\n",
    "          'service_time': 10}"
   ]
  },
  {
   "cell_type": "markdown",
   "id": "cf20e6f2-1849-4738-9bd0-44a13bf6bc3d",
   "metadata": {
    "tags": []
   },
   "source": [
    "## Searching optimal path"
   ]
  },
  {
   "cell_type": "code",
   "execution_count": 12,
   "id": "1672a1f8-9aa1-469e-a76d-a44de54fb292",
   "metadata": {},
   "outputs": [],
   "source": [
    "# !pip install ortools # works for sergak\n",
    "# !python3 -m pip install --upgrade --user ortools # works for nikita"
   ]
  },
  {
   "cell_type": "code",
   "execution_count": 13,
   "id": "b229963c-3a7f-4367-bcf7-8a7d9c8ba4a8",
   "metadata": {},
   "outputs": [],
   "source": [
    "\"\"\"Simple Vehicles Routing Problem (VRP).\n",
    "\n",
    "   This is a sample using the routing library python wrapper to solve a VRP\n",
    "   problem.\n",
    "   A description of the problem can be found here:\n",
    "   http://en.wikipedia.org/wiki/Vehicle_routing_problem.\n",
    "\n",
    "   Distances are in meters.\n",
    "\"\"\"\n",
    "\n",
    "from ortools.constraint_solver import routing_enums_pb2\n",
    "from ortools.constraint_solver import pywrapcp"
   ]
  },
  {
   "cell_type": "code",
   "execution_count": 14,
   "id": "ee5b02b5-8110-4dae-af80-109bf3250c12",
   "metadata": {},
   "outputs": [],
   "source": [
    "inf = int(1e4)\n",
    "cnt_terminals = config['cnt_terminals']\n",
    "distance_matrix = np.ones((cnt_terminals + 2, cnt_terminals + 2)) * inf\n",
    "for i, j, w in zip(dist['from_int'], dist['to_int'], dist['Total_Time']):\n",
    "    distance_matrix[i + 1, j + 1] = w + config['service_time']\n",
    "    \n",
    "for i in range(1, cnt_terminals + 1):\n",
    "    distance_matrix[i, 0] = inf\n",
    "    distance_matrix[0, i] = config['service_time']\n",
    "    distance_matrix[i, i] = 0\n",
    "    distance_matrix[i, cnt_terminals + 1] = 0\n",
    "    distance_matrix[cnt_terminals + 1, i] = inf\n",
    "    \n",
    "distance_matrix[0, cnt_terminals + 1] = 0\n",
    "distance_matrix[cnt_terminals + 1, 0] = inf\n",
    "distance_matrix = distance_matrix.astype(int)\n"
   ]
  },
  {
   "cell_type": "code",
   "execution_count": 15,
   "id": "9d286507-9c41-4f7f-9ed7-34ac8c1117d2",
   "metadata": {},
   "outputs": [],
   "source": [
    "# distance_matrix = (distance_matrix * 100).astype(int)\n",
    "# inf *= 100\n",
    "# config['work_time'] *= 100"
   ]
  },
  {
   "cell_type": "code",
   "execution_count": 16,
   "id": "2e1a38a5-b785-4841-85aa-ba677b9949cd",
   "metadata": {},
   "outputs": [],
   "source": [
    "vrp_data = {'distance_matrix': distance_matrix,\n",
    "            'num_vehicles': 43,\n",
    "            'num_locations': cnt_terminals + 2,\n",
    "            'depot': 0}\n",
    "\n",
    "vrp_data['starts'] = [0] * vrp_data['num_vehicles']\n",
    "vrp_data['ends'] = [int(cnt_terminals + 1)] * vrp_data['num_vehicles']\n"
   ]
  },
  {
   "cell_type": "code",
   "execution_count": 17,
   "id": "6fa1427d-bdfd-440b-87c8-419b2a5ba0ac",
   "metadata": {},
   "outputs": [
    {
     "data": {
      "text/plain": [
       "int"
      ]
     },
     "execution_count": 17,
     "metadata": {},
     "output_type": "execute_result"
    }
   ],
   "source": [
    "type(vrp_data['starts'][0])"
   ]
  },
  {
   "cell_type": "code",
   "execution_count": 18,
   "id": "2491104f-f58f-4280-832f-a071816ec544",
   "metadata": {},
   "outputs": [],
   "source": [
    "def print_solution(data, manager, routing, solution):\n",
    "    \"\"\"Prints solution on console.\"\"\"\n",
    "    print(f'Objective: {solution.ObjectiveValue()}')\n",
    "    max_route_distance = 0\n",
    "    for vehicle_id in range(data['num_vehicles']):\n",
    "        index = routing.Start(vehicle_id)\n",
    "        plan_output = 'Route for vehicle {}:\\n'.format(vehicle_id)\n",
    "        route_distance = 0\n",
    "        while not routing.IsEnd(index):\n",
    "            plan_output += ' {} -> '.format(manager.IndexToNode(index))\n",
    "            previous_index = index\n",
    "            index = solution.Value(routing.NextVar(index))\n",
    "            route_distance += routing.GetArcCostForVehicle(\n",
    "                previous_index, index, vehicle_id)\n",
    "        plan_output += '{}\\n'.format(manager.IndexToNode(index))\n",
    "        plan_output += 'Distance of the route: {}m\\n'.format(route_distance)\n",
    "        print(plan_output)\n",
    "        max_route_distance = max(route_distance, max_route_distance)\n",
    "    print('Maximum of the route distances: {}m'.format(max_route_distance))"
   ]
  },
  {
   "cell_type": "code",
   "execution_count": 19,
   "id": "5b0d5020-8b7a-4f8d-b1a2-a0e4e60217f4",
   "metadata": {},
   "outputs": [
    {
     "data": {
      "text/plain": [
       "(43, 43)"
      ]
     },
     "execution_count": 19,
     "metadata": {},
     "output_type": "execute_result"
    }
   ],
   "source": [
    "len(vrp_data['starts']), vrp_data['num_vehicles']"
   ]
  },
  {
   "cell_type": "code",
   "execution_count": 20,
   "id": "326f1cef-a207-4095-a769-2b160291b816",
   "metadata": {},
   "outputs": [],
   "source": [
    "manager = pywrapcp.RoutingIndexManager(len(vrp_data['distance_matrix']),\n",
    "                                       vrp_data['num_vehicles'],\n",
    "                                       # vrp_data['depot']\n",
    "                                       vrp_data['starts'],\n",
    "                                       vrp_data['ends'])\n",
    "\n",
    "# Create Routing Model.\n",
    "routing = pywrapcp.RoutingModel(manager)\n",
    "\n",
    "\n",
    "# Create and register a transit callback.\n",
    "def distance_callback(from_index, to_index):\n",
    "    \"\"\"Returns the distance between the two nodes.\"\"\"\n",
    "    # Convert from routing variable Index to distance matrix NodeIndex.\n",
    "    from_node = manager.IndexToNode(from_index)\n",
    "    to_node = manager.IndexToNode(to_index)\n",
    "    return vrp_data['distance_matrix'][from_node][to_node]\n",
    "\n",
    "transit_callback_index = routing.RegisterTransitCallback(distance_callback)\n",
    "\n",
    "# Define cost of each arc.\n",
    "routing.SetArcCostEvaluatorOfAllVehicles(transit_callback_index)\n",
    "\n",
    "# Add Distance constraint.\n",
    "dimension_name = 'Distance'\n",
    "routing.AddDimension(\n",
    "    transit_callback_index,\n",
    "    0,  # no slack\n",
    "    config['work_time'],  # vehicle maximum travel distance\n",
    "    True,  # start cumul to zero\n",
    "    dimension_name)\n",
    "distance_dimension = routing.GetDimensionOrDie(dimension_name)\n",
    "distance_dimension.SetGlobalSpanCostCoefficient(100)\n",
    "\n",
    "# Setting first solution heuristic.\n",
    "search_parameters = pywrapcp.DefaultRoutingSearchParameters()\n",
    "search_parameters.first_solution_strategy = (routing_enums_pb2.FirstSolutionStrategy.AUTOMATIC)\n",
    "search_parameters.solution_limit = 100\n",
    "search_parameters.time_limit.seconds = 30"
   ]
  },
  {
   "cell_type": "code",
   "execution_count": 21,
   "id": "784210c5-a27c-4363-aa7a-d0ad3ae4b05d",
   "metadata": {},
   "outputs": [
    {
     "name": "stdout",
     "output_type": "stream",
     "text": [
      "Objective: 83786\n",
      "Route for vehicle 0:\n",
      " 0 ->  945 -> 1631\n",
      "Distance of the route: 10m\n",
      "\n",
      "Route for vehicle 1:\n",
      " 0 ->  774 -> 1631\n",
      "Distance of the route: 10m\n",
      "\n",
      "Route for vehicle 2:\n",
      " 0 ->  1398 ->  729 ->  1264 ->  1307 ->  1487 ->  1549 ->  390 ->  195 ->  214 ->  1215 ->  215 ->  382 -> 1631\n",
      "Distance of the route: 507m\n",
      "\n",
      "Route for vehicle 3:\n",
      " 0 ->  1422 ->  395 ->  1432 ->  553 ->  1425 ->  352 ->  174 ->  175 ->  1250 ->  401 ->  963 ->  1002 ->  1365 ->  233 ->  1377 ->  280 ->  536 ->  377 ->  91 ->  1193 ->  1116 ->  348 ->  1144 -> 1631\n",
      "Distance of the route: 592m\n",
      "\n",
      "Route for vehicle 4:\n",
      " 0 ->  1439 ->  474 ->  1115 ->  1371 ->  1031 ->  1347 ->  974 ->  757 ->  806 ->  299 ->  728 ->  1163 ->  1152 ->  708 ->  564 ->  960 ->  1118 ->  1084 ->  1311 ->  56 ->  510 ->  831 ->  169 ->  1393 ->  181 ->  1336 ->  183 ->  179 ->  1126 ->  1151 ->  1397 ->  180 ->  232 ->  437 ->  802 ->  1201 ->  529 ->  874 -> 1631\n",
      "Distance of the route: 597m\n",
      "\n",
      "Route for vehicle 5:\n",
      " 0 ->  1449 ->  1309 ->  956 ->  1224 ->  977 ->  1079 ->  1444 ->  1367 ->  1057 ->  664 ->  1136 ->  105 ->  100 ->  330 ->  767 ->  569 ->  493 ->  1104 -> 1631\n",
      "Distance of the route: 593m\n",
      "\n",
      "Route for vehicle 6:\n",
      " 0 ->  1454 ->  87 ->  704 ->  732 ->  6 ->  969 ->  472 ->  89 ->  1343 ->  438 ->  341 ->  133 ->  875 ->  752 ->  1214 ->  62 ->  817 ->  103 ->  777 ->  1 ->  1405 ->  1130 ->  1149 ->  99 ->  95 ->  441 ->  690 ->  96 ->  656 ->  134 ->  667 ->  737 ->  1267 ->  627 ->  601 ->  543 ->  584 ->  583 ->  1192 -> 1631\n",
      "Distance of the route: 597m\n",
      "\n",
      "Route for vehicle 7:\n",
      " 0 ->  1491 ->  814 ->  929 ->  739 ->  1133 ->  952 ->  464 ->  961 ->  825 ->  1436 ->  1071 ->  655 ->  717 ->  1413 ->  1101 ->  1066 ->  1067 ->  633 ->  1039 ->  1024 ->  587 ->  1037 ->  993 ->  612 ->  1077 ->  9 ->  951 ->  862 ->  901 ->  112 ->  1411 ->  451 ->  417 -> 1631\n",
      "Distance of the route: 592m\n",
      "\n",
      "Route for vehicle 8:\n",
      " 0 ->  1511 ->  418 ->  1247 ->  30 ->  1360 ->  65 ->  835 ->  37 ->  592 ->  33 ->  1271 ->  19 ->  29 ->  1369 ->  41 ->  3 ->  1384 ->  1295 ->  28 ->  1483 ->  852 ->  512 ->  1270 ->  1170 ->  32 ->  888 ->  616 ->  46 ->  295 ->  318 ->  1495 ->  1260 ->  621 ->  624 ->  301 ->  873 ->  597 ->  941 ->  282 ->  23 ->  838 ->  1023 -> 1631\n",
      "Distance of the route: 596m\n",
      "\n",
      "Route for vehicle 9:\n",
      " 0 ->  1543 ->  211 ->  1248 ->  76 ->  1236 ->  1253 ->  75 ->  54 ->  83 ->  843 ->  1305 ->  580 ->  1227 ->  581 ->  1477 ->  984 ->  347 ->  1327 ->  1451 ->  635 ->  85 ->  388 ->  338 ->  166 ->  82 ->  546 ->  72 ->  881 ->  80 ->  405 ->  642 ->  722 ->  1332 ->  530 ->  1406 ->  1198 ->  1259 ->  1125 ->  1342 -> 1631\n",
      "Distance of the route: 588m\n",
      "\n",
      "Route for vehicle 10:\n",
      " 0 ->  622 ->  1043 ->  1075 ->  1428 ->  983 ->  810 ->  770 ->  726 ->  1456 ->  1100 ->  1127 ->  808 ->  497 ->  1417 ->  1537 ->  522 ->  980 ->  513 ->  305 ->  1225 ->  1541 ->  699 ->  661 ->  78 ->  1064 ->  413 ->  1051 ->  1129 ->  1106 ->  1348 ->  1258 ->  994 ->  1310 ->  953 ->  1262 ->  1034 -> 1631\n",
      "Distance of the route: 512m\n",
      "\n",
      "Route for vehicle 11:\n",
      " 0 ->  1499 ->  1560 ->  284 ->  1345 ->  603 ->  1109 ->  879 ->  606 ->  331 ->  1186 ->  938 ->  1440 ->  551 ->  1368 ->  1501 ->  1173 ->  15 ->  1337 ->  544 ->  1494 ->  412 ->  594 ->  452 ->  210 ->  70 ->  899 ->  84 ->  36 ->  550 ->  12 ->  629 ->  815 ->  859 ->  69 ->  1027 ->  363 ->  238 ->  1508 ->  55 ->  921 ->  694 ->  1042 ->  918 ->  746 ->  182 ->  184 -> 1631\n",
      "Distance of the route: 581m\n",
      "\n",
      "Route for vehicle 12:\n",
      " 0 ->  631 ->  1564 ->  1000 ->  898 ->  335 ->  1374 ->  639 ->  1512 ->  1455 ->  296 ->  287 ->  1008 ->  636 ->  328 ->  709 ->  455 ->  947 ->  733 ->  1003 ->  327 ->  563 ->  596 ->  312 ->  1274 ->  421 ->  695 ->  1108 ->  944 ->  869 ->  1438 ->  1353 ->  687 ->  506 ->  853 ->  321 ->  1122 ->  679 ->  519 ->  1380 ->  751 ->  659 ->  67 ->  936 ->  498 ->  864 ->  448 -> 1631\n",
      "Distance of the route: 580m\n",
      "\n",
      "Route for vehicle 13:\n",
      " 0 ->  967 ->  1567 ->  1381 ->  1490 ->  1442 ->  1098 ->  882 ->  1276 ->  644 ->  1476 ->  14 ->  21 ->  577 ->  1382 ->  877 ->  24 ->  1059 ->  608 ->  1340 ->  167 ->  1550 ->  1459 ->  946 ->  1191 ->  20 ->  64 ->  44 ->  1331 ->  1402 ->  1156 ->  1231 ->  971 ->  1555 ->  593 ->  872 ->  317 ->  982 ->  49 ->  600 ->  1553 ->  1290 ->  1341 ->  480 ->  834 -> 1631\n",
      "Distance of the route: 575m\n",
      "\n",
      "Route for vehicle 14:\n",
      " 0 ->  784 ->  1579 ->  1372 ->  1496 ->  234 ->  356 ->  1160 ->  1578 ->  968 ->  706 ->  1472 ->  1132 ->  1315 ->  1195 ->  485 ->  411 ->  240 ->  1396 ->  1481 ->  242 ->  1194 ->  785 ->  1497 ->  1407 ->  239 ->  1346 ->  235 ->  359 ->  400 ->  1209 ->  1527 ->  509 ->  187 -> 1631\n",
      "Distance of the route: 580m\n",
      "\n",
      "Route for vehicle 15:\n",
      " 0 ->  461 ->  1580 ->  486 ->  1004 ->  1007 ->  1532 ->  670 ->  362 ->  467 ->  727 ->  309 ->  1575 ->  832 ->  800 ->  561 ->  1435 ->  997 ->  995 ->  998 ->  453 ->  560 ->  673 ->  773 ->  324 ->  271 ->  291 ->  996 ->  475 ->  365 ->  643 ->  681 ->  297 ->  378 ->  1083 ->  730 ->  1520 ->  1010 ->  307 ->  1328 ->  1069 ->  420 ->  470 -> 1631\n",
      "Distance of the route: 554m\n",
      "\n",
      "Route for vehicle 16:\n",
      " 0 ->  1584 ->  723 ->  135 ->  1300 ->  807 ->  766 ->  1287 ->  1131 ->  162 ->  719 ->  132 ->  427 ->  443 ->  1284 ->  1232 ->  1168 ->  86 ->  1292 ->  357 ->  846 ->  1469 ->  776 ->  1188 ->  750 ->  1158 ->  556 ->  230 ->  765 ->  366 ->  1242 ->  432 ->  555 ->  987 ->  1099 ->  90 ->  919 ->  422 -> 1631\n",
      "Distance of the route: 555m\n",
      "\n",
      "Route for vehicle 17:\n",
      " 0 ->  1586 ->  163 ->  731 ->  749 ->  141 ->  140 ->  102 ->  428 ->  158 ->  398 ->  104 ->  1169 ->  860 ->  663 ->  524 ->  1420 ->  117 ->  1256 ->  1174 ->  1093 ->  758 ->  150 ->  549 ->  721 ->  152 ->  907 ->  1373 ->  145 ->  824 ->  107 ->  144 ->  146 ->  143 ->  1238 ->  771 ->  142 ->  1167 -> 1631\n",
      "Distance of the route: 588m\n",
      "\n",
      "Route for vehicle 18:\n",
      " 0 ->  1587 ->  1433 ->  391 ->  1288 ->  1220 ->  1244 ->  979 ->  1202 ->  416 ->  1107 ->  1045 ->  972 ->  769 ->  457 ->  1278 ->  1017 ->  658 ->  966 ->  1286 ->  578 ->  1563 ->  436 ->  820 ->  1046 ->  1240 ->  1164 ->  614 ->  637 ->  1044 ->  439 ->  1285 ->  693 ->  932 ->  1313 ->  959 ->  772 ->  1509 ->  228 ->  351 -> 1631\n",
      "Distance of the route: 590m\n",
      "\n",
      "Route for vehicle 19:\n",
      " 0 ->  1590 ->  1441 ->  1162 ->  370 ->  185 ->  379 ->  1443 ->  1030 ->  384 ->  385 ->  1589 ->  904 ->  562 ->  1032 ->  1197 ->  1207 ->  1161 ->  487 ->  308 ->  1052 ->  433 ->  1542 ->  1219 ->  819 ->  1551 ->  1391 ->  909 ->  554 ->  1423 ->  1261 ->  986 ->  446 ->  863 ->  1026 ->  409 -> 1631\n",
      "Distance of the route: 528m\n",
      "\n",
      "Route for vehicle 20:\n",
      " 0 ->  1592 ->  482 ->  1484 ->  657 ->  71 ->  495 ->  1386 ->  349 ->  361 ->  247 ->  575 ->  394 ->  298 ->  336 ->  801 ->  368 ->  698 ->  198 ->  669 ->  517 ->  251 ->  1223 ->  678 ->  927 ->  257 ->  473 ->  1409 ->  712 ->  691 ->  237 ->  456 ->  241 ->  243 ->  830 ->  1323 ->  460 ->  760 ->  269 ->  937 ->  1576 ->  738 ->  1015 ->  942 -> 1631\n",
      "Distance of the route: 578m\n",
      "\n",
      "Route for vehicle 21:\n",
      " 0 ->  1593 ->  202 ->  201 ->  199 ->  1208 ->  196 ->  392 ->  1523 ->  375 ->  192 ->  1204 ->  1404 ->  1065 ->  469 ->  1585 ->  1047 ->  191 ->  1009 ->  193 ->  63 ->  1117 ->  264 ->  188 ->  1277 ->  1488 ->  189 ->  759 ->  403 ->  1492 ->  212 ->  253 ->  692 ->  236 ->  1395 ->  789 ->  985 ->  924 ->  425 ->  194 ->  1210 -> 1631\n",
      "Distance of the route: 582m\n",
      "\n",
      "Route for vehicle 22:\n",
      " 0 ->  1597 ->  1114 ->  1519 ->  1021 ->  1087 ->  478 ->  1011 ->  277 ->  1596 ->  1020 ->  672 ->  682 ->  225 ->  458 ->  1281 ->  283 ->  1013 ->  376 ->  1001 ->  319 ->  505 ->  275 ->  127 ->  325 ->  1212 ->  367 ->  1533 ->  1243 ->  274 ->  1012 ->  925 ->  273 ->  288 ->  905 ->  1316 -> 1631\n",
      "Distance of the route: 560m\n",
      "\n",
      "Route for vehicle 23:\n",
      " 0 ->  1602 ->  1121 ->  1014 ->  649 ->  66 ->  47 ->  1504 ->  590 ->  1513 ->  922 ->  1539 ->  619 ->  887 ->  528 ->  153 ->  1185 ->  1526 ->  294 ->  1145 ->  35 ->  892 ->  1304 ->  40 ->  53 ->  539 ->  602 ->  231 ->  22 ->  1471 ->  626 ->  18 ->  818 ->  407 ->  39 ->  591 ->  48 ->  263 ->  1473 ->  861 ->  151 ->  531 ->  1366 ->  1552 ->  262 ->  795 ->  1557 -> 1631\n",
      "Distance of the route: 594m\n",
      "\n",
      "Route for vehicle 24:\n",
      " 0 ->  1603 ->  1141 ->  278 ->  300 ->  1139 ->  934 ->  628 ->  290 ->  1062 ->  900 ->  1457 ->  1351 ->  576 ->  1464 ->  1502 ->  847 ->  647 ->  1535 ->  910 ->  289 ->  306 ->  286 ->  1183 ->  1447 ->  850 ->  1325 ->  1103 ->  598 ->  1356 ->  92 ->  492 ->  1301 ->  828 ->  1119 ->  1171 ->  538 ->  333 ->  1571 ->  1358 ->  1177 ->  894 ->  634 ->  816 ->  285 ->  840 ->  310 ->  1357 ->  1063 ->  490 ->  329 ->  940 -> 1631\n",
      "Distance of the route: 599m\n",
      "\n",
      "Route for vehicle 25:\n",
      " 0 ->  1604 ->  358 ->  1601 ->  223 ->  666 ->  1370 ->  710 ->  435 ->  1412 ->  1445 ->  775 ->  763 ->  743 ->  1199 ->  906 ->  856 ->  381 ->  1237 ->  494 ->  270 ->  1577 ->  1326 ->  281 ->  1229 ->  1148 ->  999 ->  304 ->  1189 ->  343 ->  764 ->  276 ->  1475 ->  1453 ->  1016 ->  344 ->  334 -> 1631\n",
      "Distance of the route: 592m\n",
      "\n",
      "Route for vehicle 26:\n",
      " 0 ->  1605 ->  1205 ->  949 ->  886 ->  404 ->  1206 ->  931 ->  516 ->  1033 ->  903 ->  1516 ->  1314 ->  812 ->  1086 ->  1080 ->  654 ->  1203 ->  1427 ->  1273 ->  1150 ->  1361 ->  677 ->  675 ->  962 ->  1583 ->  989 ->  1200 ->  1048 ->  521 ->  813 ->  1111 -> 1631\n",
      "Distance of the route: 572m\n",
      "\n",
      "Route for vehicle 27:\n",
      " 0 ->  1606 ->  38 ->  203 ->  926 ->  454 ->  1531 ->  779 ->  823 ->  320 ->  1561 ->  332 ->  535 ->  302 ->  1524 ->  1257 ->  768 ->  674 ->  1529 ->  1335 ->  1324 ->  465 ->  353 ->  702 ->  747 ->  851 ->  311 ->  11 ->  1308 ->  1006 ->  798 ->  501 ->  322 ->  1333 ->  1147 ->  671 ->  1521 ->  742 ->  444 ->  525 ->  106 ->  1022 ->  680 ->  2 ->  1028 ->  638 ->  197 ->  755 -> 1631\n",
      "Distance of the route: 593m\n",
      "\n",
      "Route for vehicle 28:\n",
      " 0 ->  1607 ->  383 ->  1410 ->  1180 ->  1419 ->  867 ->  450 ->  1588 ->  1263 ->  975 ->  701 ->  476 ->  1465 ->  1581 ->  1582 ->  1282 ->  786 ->  804 ->  711 ->  479 ->  1545 ->  1060 ->  796 ->  1434 ->  1350 ->  1463 ->  507 ->  1478 ->  1338 ->  1146 ->  350 ->  829 ->  514 ->  803 ->  1416 ->  207 ->  978 ->  518 -> 1631\n",
      "Distance of the route: 585m\n",
      "\n",
      "Route for vehicle 29:\n",
      " 0 ->  1608 ->  1165 ->  570 ->  1498 ->  157 ->  159 ->  748 ->  155 ->  160 ->  976 ->  156 ->  267 ->  1176 ->  118 ->  293 ->  120 ->  1591 ->  119 ->  161 ->  1598 ->  138 ->  268 ->  1394 ->  483 ->  373 ->  1426 ->  154 ->  1302 ->  111 ->  114 ->  1514 ->  110 ->  1522 ->  447 -> 1631\n",
      "Distance of the route: 599m\n",
      "\n",
      "Route for vehicle 30:\n",
      " 0 ->  1610 ->  1362 ->  1061 ->  1364 ->  928 ->  715 ->  477 ->  221 ->  1544 ->  1166 ->  1091 ->  762 ->  1450 ->  1609 ->  720 ->  489 ->  990 ->  354 ->  1595 ->  1054 ->  1072 ->  736 ->  463 ->  1594 ->  265 ->  948 ->  744 ->  697 ->  462 ->  981 ->  653 ->  1070 ->  782 ->  503 ->  408 ->  434 ->  660 ->  1280 ->  1283 ->  965 ->  973 -> 1631\n",
      "Distance of the route: 582m\n",
      "\n",
      "Route for vehicle 31:\n",
      " 0 ->  1611 ->  683 ->  360 ->  164 ->  371 ->  137 ->  136 ->  797 ->  1175 ->  430 ->  1218 ->  1112 ->  372 ->  173 ->  131 ->  129 ->  130 ->  126 ->  121 ->  668 ->  426 ->  393 ->  125 ->  1317 ->  122 ->  128 ->  124 ->  410 ->  389 ->  123 ->  1600 ->  1599 ->  374 ->  1089 ->  923 ->  139 ->  724 -> 1631\n",
      "Distance of the route: 595m\n",
      "\n",
      "Route for vehicle 32:\n",
      " 0 ->  1612 ->  1536 ->  1110 ->  1334 ->  245 ->  316 ->  780 ->  248 ->  1408 ->  914 ->  526 ->  227 ->  1506 ->  442 ->  1279 ->  685 ->  1196 ->  725 ->  226 ->  1518 ->  1485 ->  224 ->  1421 ->  423 ->  488 ->  431 ->  565 ->  1096 ->  1534 ->  170 ->  1565 ->  260 ->  471 ->  1558 ->  1352 ->  176 ->  177 ->  172 ->  468 ->  259 ->  676 ->  178 ->  1184 ->  502 ->  171 ->  364 -> 1631\n",
      "Distance of the route: 591m\n",
      "\n",
      "Route for vehicle 33:\n",
      " 0 ->  1613 ->  1569 ->  827 ->  1363 ->  533 ->  1507 ->  1140 ->  641 ->  1379 ->  868 ->  1503 ->  1241 ->  1155 ->  589 ->  1226 ->  586 ->  826 ->  1538 ->  964 ->  1074 ->  1222 ->  1049 ->  630 ->  387 ->  1041 ->  1035 ->  1050 ->  1053 ->  1349 ->  848 ->  1120 ->  1211 ->  604 ->  1297 ->  908 ->  1375 ->  954 ->  870 ->  854 ->  1097 ->  573 ->  610 ->  916 ->  1298 ->  568 -> 1631\n",
      "Distance of the route: 598m\n",
      "\n",
      "Route for vehicle 34:\n",
      " 0 ->  1615 ->  707 ->  805 ->  652 ->  511 ->  508 ->  50 ->  557 ->  1073 ->  1040 ->  783 ->  1090 ->  700 ->  735 ->  1038 ->  523 ->  902 ->  792 ->  1025 ->  1078 ->  955 ->  734 ->  424 ->  1424 ->  1486 ->  1085 ->  1460 ->  822 ->  1400 ->  992 ->  821 ->  504 ->  811 ->  116 ->  59 ->  109 ->  60 ->  61 ->  1094 ->  415 ->  115 ->  1430 ->  991 -> 1631\n",
      "Distance of the route: 592m\n",
      "\n",
      "Route for vehicle 35:\n",
      " 0 ->  1619 ->  1466 ->  781 ->  623 ->  108 ->  1113 ->  1268 ->  148 ->  339 ->  315 ->  684 ->  445 ->  705 ->  1480 ->  149 ->  1179 ->  703 ->  147 ->  1616 ->  491 ->  1213 ->  1182 ->  567 ->  313 ->  292 ->  988 ->  326 ->  279 ->  1142 ->  842 ->  930 ->  540 ->  545 ->  833 ->  1181 ->  844 ->  323 ->  1239 ->  648 ->  845 ->  611 ->  13 ->  25 ->  1540 ->  113 ->  933 ->  1230 ->  911 -> 1631\n",
      "Distance of the route: 590m\n",
      "\n",
      "Route for vehicle 36:\n",
      " 0 ->  1620 ->  1446 ->  1245 ->  16 ->  1217 ->  222 ->  1143 ->  1322 ->  1294 ->  541 ->  1389 ->  209 ->  266 ->  68 ->  34 ->  1249 ->  4 ->  220 ->  1556 ->  1312 ->  1528 ->  74 ->  17 ->  256 ->  254 ->  246 ->  255 ->  252 ->  1329 ->  714 ->  566 ->  249 ->  866 ->  1251 ->  756 ->  250 ->  1415 ->  219 ->  1354 ->  440 ->  244 ->  200 ->  355 ->  186 ->  258 -> 1631\n",
      "Distance of the route: 593m\n",
      "\n",
      "Route for vehicle 37:\n",
      " 0 ->  1621 ->  88 ->  369 ->  77 ->  1266 ->  380 ->  790 ->  1221 ->  97 ->  1105 ->  1172 ->  559 ->  342 ->  1252 ->  499 ->  1019 ->  396 ->  1517 ->  303 ->  793 ->  794 ->  500 ->  1233 ->  496 ->  761 ->  93 ->  753 ->  574 ->  1154 ->  741 ->  340 ->  1505 ->  98 ->  101 ->  716 ->  406 ->  939 ->  397 ->  449 ->  94 ->  165 ->  1399 ->  913 ->  696 ->  688 -> 1631\n",
      "Distance of the route: 592m\n",
      "\n",
      "Route for vehicle 38:\n",
      " 0 ->  1623 ->  1573 ->  1102 ->  205 ->  917 ->  399 ->  950 ->  1303 ->  958 ->  640 ->  1318 ->  1153 ->  599 ->  915 ->  1076 ->  1452 ->  957 ->  1234 ->  81 ->  1572 ->  1235 ->  836 ->  484 ->  1320 ->  58 ->  607 ->  839 ->  79 ->  841 ->  45 ->  1570 ->  43 ->  837 ->  1135 ->  73 ->  865 ->  858 ->  1228 ->  855 ->  718 ->  787 ->  217 ->  520 ->  1330 ->  1418 ->  216 ->  1510 ->  218 ->  740 ->  1385 -> 1631\n",
      "Distance of the route: 599m\n",
      "\n",
      "Route for vehicle 39:\n",
      " 0 ->  1625 ->  532 ->  876 ->  890 ->  1515 ->  1547 ->  912 ->  1265 ->  1138 ->  595 ->  1403 ->  1437 ->  1554 ->  1461 ->  883 ->  515 ->  261 ->  1431 ->  897 ->  1254 ->  1390 ->  1095 ->  1618 ->  617 ->  1387 ->  1562 ->  1134 ->  1493 ->  1306 ->  213 ->  871 ->  609 ->  1617 ->  1082 ->  1559 ->  1458 ->  1479 ->  885 ->  57 ->  537 ->  1289 ->  206 ->  51 ->  1474 ->  582 ->  579 ->  618 ->  893 -> 1631\n",
      "Distance of the route: 590m\n",
      "\n",
      "Route for vehicle 40:\n",
      " 0 ->  1628 ->  402 ->  1614 ->  788 ->  547 ->  1058 ->  686 ->  1462 ->  689 ->  414 ->  1005 ->  1018 ->  168 ->  754 ->  1470 ->  466 ->  8 ->  891 ->  52 ->  645 ->  31 ->  896 ->  1187 ->  337 ->  778 ->  1246 ->  1178 ->  713 ->  1624 ->  481 ->  857 ->  190 ->  1092 ->  791 ->  745 ->  809 ->  665 ->  459 ->  1339 ->  799 ->  1088 ->  1269 ->  662 ->  1081 -> 1631\n",
      "Distance of the route: 596m\n",
      "\n",
      "Route for vehicle 41:\n",
      " 0 ->  1629 ->  1355 ->  1159 ->  208 ->  1359 ->  646 ->  1482 ->  1467 ->  625 ->  1489 ->  1546 ->  1448 ->  1344 ->  1376 ->  1378 ->  1525 ->  1128 ->  1291 ->  572 ->  10 ->  651 ->  1627 ->  1626 ->  346 ->  345 ->  878 ->  895 ->  548 ->  650 ->  552 ->  1296 ->  571 ->  1056 ->  1392 ->  1272 ->  1055 ->  613 ->  1068 ->  1029 ->  558 ->  1036 ->  1216 ->  880 ->  419 ->  1293 ->  1401 ->  1574 -> 1631\n",
      "Distance of the route: 591m\n",
      "\n",
      "Route for vehicle 42:\n",
      " 0 ->  1630 ->  935 ->  534 ->  1414 ->  849 ->  1429 ->  1566 ->  1124 ->  1468 ->  943 ->  585 ->  884 ->  1548 ->  1388 ->  588 ->  7 ->  527 ->  26 ->  889 ->  1622 ->  429 ->  1321 ->  970 ->  1137 ->  204 ->  620 ->  27 ->  1190 ->  615 ->  605 ->  386 ->  1530 ->  1157 ->  1123 ->  920 ->  1299 ->  632 ->  314 ->  5 ->  272 ->  1500 ->  42 ->  542 ->  229 ->  1275 ->  1568 ->  1383 ->  1319 ->  1255 -> 1631\n",
      "Distance of the route: 598m\n",
      "\n",
      "Maximum of the route distances: 599m\n"
     ]
    }
   ],
   "source": [
    "# Solve the problem.\n",
    "solution = routing.SolveWithParameters(search_parameters)\n",
    "\n",
    "# Print solution on console.\n",
    "if solution:\n",
    "    print_solution(vrp_data, manager, routing, solution)\n",
    "else:\n",
    "    print('No solution found !')"
   ]
  },
  {
   "cell_type": "markdown",
   "id": "185f80cf-33d2-4b2b-8a3e-ac65abcb3f90",
   "metadata": {
    "jp-MarkdownHeadingCollapsed": true,
    "tags": []
   },
   "source": [
    "# Weighted VRP"
   ]
  },
  {
   "cell_type": "code",
   "execution_count": 11,
   "id": "7452c581-d3e5-450b-a97e-da8a154ecb01",
   "metadata": {},
   "outputs": [],
   "source": [
    "inf = int(1e4)\n",
    "cnt_terminals = config['cnt_terminals']\n",
    "distance_matrix = np.ones((cnt_terminals + 2, cnt_terminals + 2)) * inf\n",
    "for i, j, w in zip(dist['from_int'], dist['to_int'], dist['Total_Time']):\n",
    "    distance_matrix[i + 1, j + 1] = w + config['service_time']\n",
    "    \n",
    "for i in range(1, cnt_terminals + 1):\n",
    "    distance_matrix[i, 0] = inf\n",
    "    distance_matrix[0, i] = config['service_time']\n",
    "    distance_matrix[i, i] = 0\n",
    "    distance_matrix[i, cnt_terminals + 1] = 0\n",
    "    distance_matrix[cnt_terminals + 1, i] = inf\n",
    "    \n",
    "distance_matrix[0, cnt_terminals + 1] = 0\n",
    "distance_matrix[cnt_terminals + 1, 0] = inf\n",
    "distance_matrix = distance_matrix.astype(int)\n",
    "\n",
    "penalties = [1 for i in range(cnt_terminals + 2)]\n",
    "penalties[0] = 0\n",
    "penalties[-1] = 0"
   ]
  },
  {
   "cell_type": "code",
   "execution_count": 23,
   "id": "5b4d2c8d-0b50-4b25-812f-09333e76c09f",
   "metadata": {},
   "outputs": [],
   "source": [
    "config = {'cnt_terminals': dist['from_int'].max() + 1,\n",
    "          'persent_day_income': 0.02 / 365,\n",
    "          'terminal_service_cost': {'min': 100, 'persent': 0.01},\n",
    "          'max_terminal_money': 1000000,\n",
    "          'max_not_service_days': 14,\n",
    "          'armored_car_day_cost': 20000,\n",
    "          'work_time': 10 * 60,\n",
    "          'service_time': 10}\n",
    "\n",
    "distance_matrix = (distance_matrix * 100).astype(int)\n",
    "inf *= 100\n",
    "config['work_time'] *= 100\n",
    "\n",
    "loss = [inf for i in range(cnt_terminals + 2)]"
   ]
  },
  {
   "cell_type": "code",
   "execution_count": 24,
   "id": "eb07592b-e037-4861-a382-df2b7ca1280f",
   "metadata": {},
   "outputs": [],
   "source": [
    "vrp_data = {'distance_matrix': distance_matrix,\n",
    "            'num_vehicles': 40,\n",
    "            'num_locations': cnt_terminals + 2,\n",
    "            'depot': 0}\n",
    "\n",
    "vrp_data['starts'] = [0] * vrp_data['num_vehicles']\n",
    "vrp_data['ends'] = [int(cnt_terminals + 1)] * vrp_data['num_vehicles']\n",
    "# vrp_data['demands'] = penalties"
   ]
  },
  {
   "cell_type": "code",
   "execution_count": 25,
   "id": "81f3bef5-9b29-4874-884b-86ecfa80ab6f",
   "metadata": {},
   "outputs": [],
   "source": [
    "def print_solution(data, manager, routing, solution):\n",
    "    \"\"\"Prints solution on console.\"\"\"\n",
    "    print(f'Objective: {solution.ObjectiveValue()}')\n",
    "    max_route_distance = 0\n",
    "    for vehicle_id in range(data['num_vehicles']):\n",
    "        index = routing.Start(vehicle_id)\n",
    "        plan_output = 'Route for vehicle {}:\\n'.format(vehicle_id)\n",
    "        route_distance = 0\n",
    "        while not routing.IsEnd(index):\n",
    "            plan_output += ' {} -> '.format(manager.IndexToNode(index))\n",
    "            previous_index = index\n",
    "            index = solution.Value(routing.NextVar(index))\n",
    "            route_distance += routing.GetArcCostForVehicle(\n",
    "                previous_index, index, vehicle_id)\n",
    "        plan_output += '{}\\n'.format(manager.IndexToNode(index))\n",
    "        plan_output += 'Distance of the route: {}m\\n'.format(route_distance)\n",
    "        print(plan_output)\n",
    "        max_route_distance = max(route_distance, max_route_distance)\n",
    "    print('Maximum of the route distances: {}m'.format(max_route_distance))"
   ]
  },
  {
   "cell_type": "code",
   "execution_count": 26,
   "id": "198cc963-5332-4d1c-a9fe-7a202b5df217",
   "metadata": {},
   "outputs": [
    {
     "ename": "NameError",
     "evalue": "name 'data' is not defined",
     "output_type": "error",
     "traceback": [
      "\u001b[0;31m---------------------------------------------------------------------------\u001b[0m",
      "\u001b[0;31mNameError\u001b[0m                                 Traceback (most recent call last)",
      "Input \u001b[0;32mIn [26]\u001b[0m, in \u001b[0;36m<cell line: 35>\u001b[0;34m()\u001b[0m\n\u001b[1;32m     33\u001b[0m \u001b[38;5;66;03m# Allow to drop nodes.\u001b[39;00m\n\u001b[1;32m     34\u001b[0m penalty \u001b[38;5;241m=\u001b[39m inf\n\u001b[0;32m---> 35\u001b[0m \u001b[38;5;28;01mfor\u001b[39;00m node \u001b[38;5;129;01min\u001b[39;00m \u001b[38;5;28mrange\u001b[39m(\u001b[38;5;241m1\u001b[39m, \u001b[38;5;28mlen\u001b[39m(\u001b[43mdata\u001b[49m[\u001b[38;5;124m'\u001b[39m\u001b[38;5;124mdistance_matrix\u001b[39m\u001b[38;5;124m'\u001b[39m])):\n\u001b[1;32m     36\u001b[0m     routing\u001b[38;5;241m.\u001b[39mAddDisjunction([manager\u001b[38;5;241m.\u001b[39mNodeToIndex(node)], penalty)\n\u001b[1;32m     38\u001b[0m \u001b[38;5;66;03m# Setting first solution heuristic.\u001b[39;00m\n",
      "\u001b[0;31mNameError\u001b[0m: name 'data' is not defined"
     ]
    }
   ],
   "source": [
    "manager = pywrapcp.RoutingIndexManager(len(vrp_data['distance_matrix']),\n",
    "                                       vrp_data['num_vehicles'],\n",
    "                                       # vrp_data['depot']\n",
    "                                       vrp_data['starts'],\n",
    "                                       vrp_data['ends'])\n",
    "\n",
    "# Create Routing Model.\n",
    "routing = pywrapcp.RoutingModel(manager)\n",
    "\n",
    "\n",
    "# Create and register a transit callback.\n",
    "def distance_callback(from_index, to_index):\n",
    "    \"\"\"Returns the manhattan distance between the two nodes.\"\"\"\n",
    "    # Convert from routing variable Index to distance matrix NodeIndex.\n",
    "    from_node = manager.IndexToNode(from_index)\n",
    "    to_node = manager.IndexToNode(to_index)\n",
    "    return data['distance_matrix'][from_node][to_node]\n",
    "\n",
    "transit_callback_index = routing.RegisterTransitCallback(distance_callback)\n",
    "routing.SetArcCostEvaluatorOfAllVehicles(transit_callback_index)\n",
    "\n",
    "# Add Distance constraint.\n",
    "dimension_name = 'Distance'\n",
    "routing.AddDimension(\n",
    "    transit_callback_index,\n",
    "    0,  # no slack\n",
    "    config['work_time'],  # vehicle maximum travel distance\n",
    "    True,  # start cumul to zero\n",
    "    dimension_name)\n",
    "distance_dimension = routing.GetDimensionOrDie(dimension_name)\n",
    "distance_dimension.SetGlobalSpanCostCoefficient(100)\n",
    "\n",
    "# Allow to drop nodes.\n",
    "penalty = inf\n",
    "for node in range(1, len(data['distance_matrix'])):\n",
    "    routing.AddDisjunction([manager.NodeToIndex(node)], penalty)\n",
    "\n",
    "# Setting first solution heuristic.\n",
    "search_parameters = pywrapcp.DefaultRoutingSearchParameters()\n",
    "search_parameters.first_solution_strategy = (routing_enums_pb2.FirstSolutionStrategy.AUTOMATIC)\n",
    "search_parameters.solution_limit = 100\n",
    "search_parameters.time_limit.seconds = 5"
   ]
  },
  {
   "cell_type": "code",
   "execution_count": null,
   "id": "405f8505-7526-4e42-8b76-dd7d48b0fc5f",
   "metadata": {},
   "outputs": [],
   "source": [
    "# Solve the problem.\n",
    "solution = routing.SolveWithParameters(search_parameters)\n",
    "\n",
    "print(solution)\n",
    "\n",
    "# Print solution on console.\n",
    "if solution:\n",
    "    print_solution(vrp_data, manager, routing, solution)\n",
    "else:\n",
    "    print('No solution found !')"
   ]
  },
  {
   "cell_type": "code",
   "execution_count": null,
   "id": "663c5027-c44f-447b-82d9-865b23f15655",
   "metadata": {},
   "outputs": [],
   "source": []
  },
  {
   "cell_type": "markdown",
   "id": "d46f9ba3-5ac8-4ca3-a3c3-65615c87e861",
   "metadata": {},
   "source": [
    "# Tests"
   ]
  },
  {
   "cell_type": "code",
   "execution_count": null,
   "id": "8384cae2-ede2-4d76-8780-ae0c4e6b4c82",
   "metadata": {},
   "outputs": [],
   "source": []
  },
  {
   "cell_type": "code",
   "execution_count": 30,
   "id": "19a7f2a5-497b-4615-b60d-a7b2226b4c28",
   "metadata": {},
   "outputs": [],
   "source": [
    "from __future__ import print_function\n",
    "from ortools.constraint_solver import routing_enums_pb2\n",
    "from ortools.constraint_solver import pywrapcp\n",
    "\n",
    "\n",
    "\n",
    "def print_solution(data, manager, routing, solution):\n",
    "    \"\"\"Prints solution on console.\"\"\"\n",
    "    total_distance = 0\n",
    "    for vehicle_id in range(data['num_vehicles']):\n",
    "        index = routing.Start(vehicle_id)\n",
    "        plan_output = 'Route for vehicle {}:\\n'.format(vehicle_id)\n",
    "        route_distance = 0\n",
    "        while not routing.IsEnd(index):\n",
    "            plan_output += ' {} -> '.format(manager.IndexToNode(index))\n",
    "            previous_index = index\n",
    "            index = solution.Value(routing.NextVar(index))\n",
    "            route_distance += routing.GetArcCostForVehicle(\n",
    "                previous_index, index, vehicle_id)\n",
    "        plan_output += '{}\\n'.format(manager.IndexToNode(index))\n",
    "        plan_output += 'Distance of the route: {}m\\n'.format(route_distance)\n",
    "        print(plan_output)\n",
    "        total_distance += route_distance\n",
    "    print('Total Distance of all routes: {}m'.format(total_distance))\n"
   ]
  },
  {
   "cell_type": "code",
   "execution_count": 31,
   "id": "309f80e6-ccf9-44d1-8687-c5b96488cbd6",
   "metadata": {},
   "outputs": [],
   "source": [
    "config = {'cnt_terminals': dist['from_int'].max() + 1,\n",
    "          'persent_day_income': 0.02 / 365,\n",
    "          'terminal_service_cost': {'min': 100, 'persent': 0.01},\n",
    "          'max_terminal_money': 1000000,\n",
    "          'max_not_service_days': 14,\n",
    "          'armored_car_day_cost': 20000,\n",
    "          'work_time': 10 * 60,\n",
    "          'service_time': 10}\n",
    "\n",
    "\n",
    "inf = int(1e4)\n",
    "cnt_terminals = 10 # config['cnt_terminals']\n",
    "distance_matrix = np.ones((cnt_terminals + 2, cnt_terminals + 2)) * inf\n",
    "for i, j, w in zip(dist['from_int'], dist['to_int'], dist['Total_Time']):\n",
    "    if i > cnt_terminals or j > cnt_terminals: continue\n",
    "    distance_matrix[i + 1, j + 1] = w + config['service_time']\n",
    "    \n",
    "for i in range(1, cnt_terminals + 1):\n",
    "    distance_matrix[i, 0] = inf\n",
    "    distance_matrix[0, i] = config['service_time']\n",
    "    distance_matrix[i, i] = 0\n",
    "    distance_matrix[i, cnt_terminals + 1] = 0\n",
    "    distance_matrix[cnt_terminals + 1, i] = inf\n",
    "    \n",
    "distance_matrix[0, cnt_terminals + 1] = 0\n",
    "distance_matrix[cnt_terminals + 1, 0] = inf\n",
    "distance_matrix = distance_matrix.astype(int)\n",
    "\n",
    "penalties = [1 for i in range(cnt_terminals + 2)]\n",
    "penalties[0] = 0\n",
    "penalties[-1] = 0"
   ]
  },
  {
   "cell_type": "code",
   "execution_count": 32,
   "id": "ffc68921-c0d9-4d67-bf09-39922170834a",
   "metadata": {},
   "outputs": [],
   "source": [
    "config = {'cnt_terminals': dist['from_int'].max() + 1,\n",
    "          'persent_day_income': 0.02 / 365,\n",
    "          'terminal_service_cost': {'min': 100, 'persent': 0.01},\n",
    "          'max_terminal_money': 1000000,\n",
    "          'max_not_service_days': 14,\n",
    "          'armored_car_day_cost': 20000,\n",
    "          'work_time': 10 * 60,\n",
    "          'service_time': 10}\n",
    "\n",
    "distance_matrix = distance_matrix.astype(int)\n",
    "# distance_matrix = (distance_matrix * 100).astype(int)\n",
    "# inf *= 100\n",
    "# config['work_time'] *= 100\n",
    "\n",
    "loss = [inf for i in range(cnt_terminals + 2)]"
   ]
  },
  {
   "cell_type": "code",
   "execution_count": 33,
   "id": "f06d547a-669c-4de5-9523-878578a71717",
   "metadata": {},
   "outputs": [],
   "source": [
    "vrp_data = {'distance_matrix': distance_matrix,\n",
    "            'num_vehicles': 40,\n",
    "            'num_locations': cnt_terminals + 2,\n",
    "            'depot': 0}\n",
    "\n",
    "vrp_data['starts'] = [0] * vrp_data['num_vehicles']\n",
    "vrp_data['ends'] = [int(cnt_terminals + 1)] * vrp_data['num_vehicles']\n",
    "# vrp_data['demands'] = penalties"
   ]
  },
  {
   "cell_type": "code",
   "execution_count": 37,
   "id": "84577c50-5fc8-45d9-b3e6-bf3d89e4bc46",
   "metadata": {},
   "outputs": [
    {
     "data": {
      "text/plain": [
       "600"
      ]
     },
     "execution_count": 37,
     "metadata": {},
     "output_type": "execute_result"
    }
   ],
   "source": [
    "vrp_data['distance_matrix']\n",
    "config['work_time']"
   ]
  },
  {
   "cell_type": "code",
   "execution_count": 39,
   "id": "cb444854-d540-4d50-918a-084f685314df",
   "metadata": {},
   "outputs": [
    {
     "name": "stdout",
     "output_type": "stream",
     "text": [
      "bad\n"
     ]
    }
   ],
   "source": [
    "def main():\n",
    "    manager = pywrapcp.RoutingIndexManager(len(vrp_data['distance_matrix']),\n",
    "                                       vrp_data['num_vehicles'], 0)\n",
    "\n",
    "    # Create Routing Model.\n",
    "    routing = pywrapcp.RoutingModel(manager)\n",
    "\n",
    "    # Define cost of each arc.\n",
    "\n",
    "    def distance_callback(from_index, to_index):\n",
    "        \"\"\"Returns the manhattan distance between the two nodes.\"\"\"\n",
    "        # Convert from routing variable Index to distance matrix NodeIndex.\n",
    "        from_node = manager.IndexToNode(from_index)\n",
    "        to_node = manager.IndexToNode(to_index)\n",
    "        return vrp_data['distance_matrix'][from_node][to_node]\n",
    "\n",
    "    transit_callback_index = routing.RegisterTransitCallback(distance_callback)\n",
    "    routing.SetArcCostEvaluatorOfAllVehicles(transit_callback_index)\n",
    "\n",
    "    # Add Distance constraint.\n",
    "    dimension_name = 'Distance'\n",
    "    routing.AddDimension(\n",
    "        transit_callback_index,\n",
    "        0,  # no slack\n",
    "        config['work_time'],  # vehicle maximum travel distance\n",
    "        True,  # start cumul to zero\n",
    "        dimension_name)\n",
    "    distance_dimension = routing.GetDimensionOrDie(dimension_name)\n",
    "    distance_dimension.SetGlobalSpanCostCoefficient(100)\n",
    "\n",
    "     # Allow to drop nodes.\n",
    "    penalty = 1\n",
    "    for node in range(1, len(vrp_data['distance_matrix'])):\n",
    "        routing.AddDisjunction([manager.NodeToIndex(node)], penalty)\n",
    "\n",
    "    # Setting first solution heuristic.\n",
    "    search_parameters = pywrapcp.DefaultRoutingSearchParameters()\n",
    "    search_parameters.first_solution_strategy = (\n",
    "        routing_enums_pb2.FirstSolutionStrategy.PARALLEL_CHEAPEST_INSERTION)\n",
    "\n",
    "    search_parameters = pywrapcp.DefaultRoutingSearchParameters()\n",
    "    search_parameters.first_solution_strategy = (routing_enums_pb2.FirstSolutionStrategy.AUTOMATIC)\n",
    "    search_parameters.time_limit.seconds = 5\n",
    "    \n",
    "    # Solve the problem.\n",
    "    solution = routing.SolveWithParameters(search_parameters)\n",
    "\n",
    "    # Print solution on console.\n",
    "    if solution:\n",
    "        print_solution(vrp_data, manager, routing, solution)\n",
    "    else:\n",
    "        print('bad')\n",
    "\n",
    "\n",
    "if __name__ == '__main__':\n",
    "    main()"
   ]
  },
  {
   "cell_type": "code",
   "execution_count": null,
   "id": "12cc5bcf-9d28-4607-94a6-ac22b71aa171",
   "metadata": {},
   "outputs": [],
   "source": []
  },
  {
   "cell_type": "code",
   "execution_count": null,
   "id": "81eb1086-3fe0-468f-baba-d92a7653bcbf",
   "metadata": {},
   "outputs": [],
   "source": []
  },
  {
   "cell_type": "code",
   "execution_count": null,
   "id": "08ab3d08-f38e-4c83-a0f6-0180d3a4d5bc",
   "metadata": {},
   "outputs": [],
   "source": []
  },
  {
   "cell_type": "code",
   "execution_count": null,
   "id": "8568af63-7ffa-4c0a-aa34-7ae226cfbf6a",
   "metadata": {},
   "outputs": [],
   "source": []
  },
  {
   "cell_type": "code",
   "execution_count": null,
   "id": "9966ce7f-a39e-4805-8871-9f60e9c6dcd5",
   "metadata": {},
   "outputs": [],
   "source": []
  },
  {
   "cell_type": "code",
   "execution_count": null,
   "id": "fa49ce0e-4291-4e64-bb4e-d4f78fe686fc",
   "metadata": {},
   "outputs": [],
   "source": []
  },
  {
   "cell_type": "code",
   "execution_count": null,
   "id": "cee1bac6-7c2a-418a-aa3d-4e54f8dda531",
   "metadata": {},
   "outputs": [],
   "source": []
  },
  {
   "cell_type": "code",
   "execution_count": null,
   "id": "ad96b413-3baa-42d7-828b-b6c5e2a32115",
   "metadata": {},
   "outputs": [],
   "source": []
  },
  {
   "cell_type": "code",
   "execution_count": null,
   "id": "8912445e-440a-49a8-9bdb-9fff6f12299e",
   "metadata": {},
   "outputs": [],
   "source": []
  },
  {
   "cell_type": "code",
   "execution_count": null,
   "id": "07eaf321-28f4-4e0f-bb3e-b9910f6c7be9",
   "metadata": {},
   "outputs": [],
   "source": []
  },
  {
   "cell_type": "code",
   "execution_count": null,
   "id": "9de094da-5322-42ca-bda9-81d46b6a2d00",
   "metadata": {},
   "outputs": [],
   "source": []
  },
  {
   "cell_type": "code",
   "execution_count": 117,
   "id": "848d5a77-1d02-4ae6-baf9-2fbae417220a",
   "metadata": {},
   "outputs": [
    {
     "name": "stdout",
     "output_type": "stream",
     "text": [
      "Route for vehicle 0:\n",
      " 0 ->  9 ->  5 ->  6 ->  8 ->  7 ->  1 ->  4 ->  11 ->  12 ->  13 -> 0\n",
      "Distance of the route: 2808m\n",
      "\n",
      "Total Distance of all routes: 2808m\n"
     ]
    }
   ],
   "source": [
    "\"\"\"Simple Pickup Delivery Problem (PDP).\"\"\"\n",
    "\n",
    "from __future__ import print_function\n",
    "from ortools.constraint_solver import routing_enums_pb2\n",
    "from ortools.constraint_solver import pywrapcp\n",
    "\n",
    "def main():\n",
    "    \"\"\"Entry point of the program.\"\"\"\n",
    "    # Instantiate the data problem.\n",
    "    data = create_data_model()\n",
    "\n",
    "    # Create the routing index manager.\n",
    "    manager = pywrapcp.RoutingIndexManager(len(data['distance_matrix']),\n",
    "                                           data['num_vehicles'], data['depot'])\n",
    "\n",
    "    # Create Routing Model.\n",
    "    routing = pywrapcp.RoutingModel(manager)\n",
    "\n",
    "    # Define cost of each arc.\n",
    "\n",
    "    def distance_callback(from_index, to_index):\n",
    "        \"\"\"Returns the manhattan distance between the two nodes.\"\"\"\n",
    "        # Convert from routing variable Index to distance matrix NodeIndex.\n",
    "        from_node = manager.IndexToNode(from_index)\n",
    "        to_node = manager.IndexToNode(to_index)\n",
    "        return data['distance_matrix'][from_node][to_node]\n",
    "\n",
    "    transit_callback_index = routing.RegisterTransitCallback(distance_callback)\n",
    "    routing.SetArcCostEvaluatorOfAllVehicles(transit_callback_index)\n",
    "\n",
    "    # Add Distance constraint.\n",
    "    dimension_name = 'Distance'\n",
    "    routing.AddDimension(\n",
    "        transit_callback_index,\n",
    "        0,  # no slack\n",
    "        3000,  # vehicle maximum travel distance\n",
    "        True,  # start cumul to zero\n",
    "        dimension_name)\n",
    "    distance_dimension = routing.GetDimensionOrDie(dimension_name)\n",
    "    distance_dimension.SetGlobalSpanCostCoefficient(100)\n",
    "\n",
    "    penalty = 1000000\n",
    "    for node in range(1, len(data['distance_matrix'])):\n",
    "        routing.AddDisjunction([manager.NodeToIndex(node)], penalty)\n",
    "    \n",
    "#     for node, revenue in data[\"revenue\"].items():\n",
    "#         start, end = node\n",
    "#         routing.AddDisjunction(\n",
    "#             [manager.NodeToIndex(end)], revenue\n",
    "#         )\n",
    "\n",
    "#         routing.AddDisjunction(\n",
    "#             [manager.NodeToIndex(start)], 0\n",
    "#         )\n",
    "\n",
    "    # Setting first solution heuristic.\n",
    "    search_parameters = pywrapcp.DefaultRoutingSearchParameters()\n",
    "    search_parameters.first_solution_strategy = (\n",
    "        routing_enums_pb2.FirstSolutionStrategy.PARALLEL_CHEAPEST_INSERTION)\n",
    "\n",
    "    # Solve the problem.\n",
    "    solution = routing.SolveWithParameters(search_parameters)\n",
    "\n",
    "    # Print solution on console.\n",
    "    if solution:\n",
    "        print_solution(data, manager, routing, solution)\n",
    "\n",
    "\n",
    "if __name__ == '__main__':\n",
    "    main()"
   ]
  },
  {
   "cell_type": "code",
   "execution_count": null,
   "id": "3dd33c7e-090d-4757-b6c1-ec981cdcc5b0",
   "metadata": {},
   "outputs": [],
   "source": []
  },
  {
   "cell_type": "code",
   "execution_count": null,
   "id": "e1681974-52f9-4dfe-a3a0-60d34f1a402e",
   "metadata": {},
   "outputs": [],
   "source": []
  },
  {
   "cell_type": "code",
   "execution_count": null,
   "id": "d94c3690-0525-4354-892f-7b0d1a3906fb",
   "metadata": {},
   "outputs": [],
   "source": []
  },
  {
   "cell_type": "code",
   "execution_count": null,
   "id": "6616e787-b161-43fb-8bec-f2b9a38db102",
   "metadata": {},
   "outputs": [],
   "source": []
  },
  {
   "cell_type": "code",
   "execution_count": null,
   "id": "38e2cc88-429d-4008-a82a-9fb12ca1498c",
   "metadata": {},
   "outputs": [],
   "source": []
  },
  {
   "cell_type": "code",
   "execution_count": null,
   "id": "21221d7b-a6c4-4037-a605-be4147364a4d",
   "metadata": {},
   "outputs": [],
   "source": []
  }
 ],
 "metadata": {
  "kernelspec": {
   "display_name": "Python 3 (ipykernel)",
   "language": "python",
   "name": "python3"
  },
  "language_info": {
   "codemirror_mode": {
    "name": "ipython",
    "version": 3
   },
   "file_extension": ".py",
   "mimetype": "text/x-python",
   "name": "python",
   "nbconvert_exporter": "python",
   "pygments_lexer": "ipython3",
   "version": "3.10.6"
  }
 },
 "nbformat": 4,
 "nbformat_minor": 5
}
