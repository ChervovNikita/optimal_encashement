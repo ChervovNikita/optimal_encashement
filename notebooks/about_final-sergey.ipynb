{
 "cells": [
  {
   "cell_type": "code",
   "execution_count": 1,
   "id": "beafae4e-8537-41d9-8673-ce954b195191",
   "metadata": {},
   "outputs": [],
   "source": [
    "import pandas as pd\n",
    "import numpy as np\n",
    "from sklearn import preprocessing\n",
    "import plotly.express as px\n",
    "from tqdm import tqdm\n",
    "import random\n",
    "\n",
    "import optuna\n",
    "from optuna.samplers import RandomSampler\n",
    "from optuna.samplers import TPESampler\n",
    "\n",
    "optuna.logging.set_verbosity(optuna.logging.ERROR)"
   ]
  },
  {
   "cell_type": "code",
   "execution_count": 2,
   "id": "d6f49282-c0e0-4b9b-8d8b-712a429e76e8",
   "metadata": {},
   "outputs": [
    {
     "data": {
      "text/plain": [
       "<module 'vrpp' from '/Users/sergak/Documents/Neyro_sets/optimal_encashement/notebooks/../src/vrpp.py'>"
      ]
     },
     "execution_count": 2,
     "metadata": {},
     "output_type": "execute_result"
    }
   ],
   "source": [
    "import sys\n",
    "sys.path.append('../src')\n",
    "\n",
    "import vrpp\n",
    "import importlib\n",
    "importlib.reload(vrpp)"
   ]
  },
  {
   "cell_type": "code",
   "execution_count": 3,
   "id": "5620e027-e845-4ea3-a7b7-33cd6cca0528",
   "metadata": {},
   "outputs": [
    {
     "data": {
      "text/html": [
       "<div>\n",
       "<style scoped>\n",
       "    .dataframe tbody tr th:only-of-type {\n",
       "        vertical-align: middle;\n",
       "    }\n",
       "\n",
       "    .dataframe tbody tr th {\n",
       "        vertical-align: top;\n",
       "    }\n",
       "\n",
       "    .dataframe thead th {\n",
       "        text-align: right;\n",
       "    }\n",
       "</style>\n",
       "<table border=\"1\" class=\"dataframe\">\n",
       "  <thead>\n",
       "    <tr style=\"text-align: right;\">\n",
       "      <th></th>\n",
       "      <th>Origin_tid</th>\n",
       "      <th>Destination_tid</th>\n",
       "      <th>Total_Time</th>\n",
       "      <th>from_int</th>\n",
       "      <th>to_int</th>\n",
       "    </tr>\n",
       "  </thead>\n",
       "  <tbody>\n",
       "    <tr>\n",
       "      <th>0</th>\n",
       "      <td>636538</td>\n",
       "      <td>683103</td>\n",
       "      <td>15.32</td>\n",
       "      <td>864</td>\n",
       "      <td>1354</td>\n",
       "    </tr>\n",
       "    <tr>\n",
       "      <th>1</th>\n",
       "      <td>636538</td>\n",
       "      <td>634763</td>\n",
       "      <td>16.20</td>\n",
       "      <td>864</td>\n",
       "      <td>624</td>\n",
       "    </tr>\n",
       "    <tr>\n",
       "      <th>2</th>\n",
       "      <td>636538</td>\n",
       "      <td>683128</td>\n",
       "      <td>16.27</td>\n",
       "      <td>864</td>\n",
       "      <td>1358</td>\n",
       "    </tr>\n",
       "    <tr>\n",
       "      <th>3</th>\n",
       "      <td>636538</td>\n",
       "      <td>683789</td>\n",
       "      <td>16.77</td>\n",
       "      <td>864</td>\n",
       "      <td>1374</td>\n",
       "    </tr>\n",
       "    <tr>\n",
       "      <th>4</th>\n",
       "      <td>636538</td>\n",
       "      <td>634709</td>\n",
       "      <td>17.67</td>\n",
       "      <td>864</td>\n",
       "      <td>603</td>\n",
       "    </tr>\n",
       "  </tbody>\n",
       "</table>\n",
       "</div>"
      ],
      "text/plain": [
       "   Origin_tid  Destination_tid  Total_Time  from_int  to_int\n",
       "0      636538           683103       15.32       864    1354\n",
       "1      636538           634763       16.20       864     624\n",
       "2      636538           683128       16.27       864    1358\n",
       "3      636538           683789       16.77       864    1374\n",
       "4      636538           634709       17.67       864     603"
      ]
     },
     "execution_count": 3,
     "metadata": {},
     "output_type": "execute_result"
    }
   ],
   "source": [
    "dist = pd.read_csv('../data/raw/times v4.csv')\n",
    "le = preprocessing.LabelEncoder()\n",
    "le.fit(dist['Origin_tid'])\n",
    "dist['from_int'] = le.transform(dist['Origin_tid'])\n",
    "dist['to_int'] = le.transform(dist['Destination_tid'])\n",
    "dist.head()"
   ]
  },
  {
   "cell_type": "code",
   "execution_count": 4,
   "id": "2964d380-6993-4978-91d7-23ba4413cad0",
   "metadata": {},
   "outputs": [
    {
     "data": {
      "text/html": [
       "<div>\n",
       "<style scoped>\n",
       "    .dataframe tbody tr th:only-of-type {\n",
       "        vertical-align: middle;\n",
       "    }\n",
       "\n",
       "    .dataframe tbody tr th {\n",
       "        vertical-align: top;\n",
       "    }\n",
       "\n",
       "    .dataframe thead th {\n",
       "        text-align: right;\n",
       "    }\n",
       "</style>\n",
       "<table border=\"1\" class=\"dataframe\">\n",
       "  <thead>\n",
       "    <tr style=\"text-align: right;\">\n",
       "      <th></th>\n",
       "      <th>TID</th>\n",
       "      <th>остаток на 31.08.2022 (входящий)</th>\n",
       "      <th>2022-09-01 00:00:00</th>\n",
       "      <th>2022-09-02 00:00:00</th>\n",
       "      <th>2022-09-03 00:00:00</th>\n",
       "      <th>2022-09-04 00:00:00</th>\n",
       "      <th>2022-09-05 00:00:00</th>\n",
       "      <th>2022-09-06 00:00:00</th>\n",
       "      <th>2022-09-07 00:00:00</th>\n",
       "      <th>2022-09-08 00:00:00</th>\n",
       "      <th>...</th>\n",
       "      <th>2022-11-21 00:00:00</th>\n",
       "      <th>2022-11-22 00:00:00</th>\n",
       "      <th>2022-11-23 00:00:00</th>\n",
       "      <th>2022-11-24 00:00:00</th>\n",
       "      <th>2022-11-25 00:00:00</th>\n",
       "      <th>2022-11-26 00:00:00</th>\n",
       "      <th>2022-11-27 00:00:00</th>\n",
       "      <th>2022-11-28 00:00:00</th>\n",
       "      <th>2022-11-29 00:00:00</th>\n",
       "      <th>2022-11-30 00:00:00</th>\n",
       "    </tr>\n",
       "  </thead>\n",
       "  <tbody>\n",
       "    <tr>\n",
       "      <th>0</th>\n",
       "      <td>406136</td>\n",
       "      <td>160000</td>\n",
       "      <td>90000</td>\n",
       "      <td>105000</td>\n",
       "      <td>99000</td>\n",
       "      <td>107000</td>\n",
       "      <td>110000</td>\n",
       "      <td>60000</td>\n",
       "      <td>75000</td>\n",
       "      <td>89000</td>\n",
       "      <td>...</td>\n",
       "      <td>91000</td>\n",
       "      <td>78000</td>\n",
       "      <td>0</td>\n",
       "      <td>165000</td>\n",
       "      <td>0</td>\n",
       "      <td>189000</td>\n",
       "      <td>106000</td>\n",
       "      <td>94000</td>\n",
       "      <td>75000</td>\n",
       "      <td>74000</td>\n",
       "    </tr>\n",
       "    <tr>\n",
       "      <th>1</th>\n",
       "      <td>406139</td>\n",
       "      <td>387000</td>\n",
       "      <td>103000</td>\n",
       "      <td>206000</td>\n",
       "      <td>168000</td>\n",
       "      <td>124000</td>\n",
       "      <td>78000</td>\n",
       "      <td>165000</td>\n",
       "      <td>164000</td>\n",
       "      <td>174000</td>\n",
       "      <td>...</td>\n",
       "      <td>164000</td>\n",
       "      <td>153000</td>\n",
       "      <td>151000</td>\n",
       "      <td>157000</td>\n",
       "      <td>206000</td>\n",
       "      <td>182000</td>\n",
       "      <td>123000</td>\n",
       "      <td>138000</td>\n",
       "      <td>112000</td>\n",
       "      <td>179000</td>\n",
       "    </tr>\n",
       "    <tr>\n",
       "      <th>2</th>\n",
       "      <td>406145</td>\n",
       "      <td>287000</td>\n",
       "      <td>143000</td>\n",
       "      <td>136000</td>\n",
       "      <td>124000</td>\n",
       "      <td>117000</td>\n",
       "      <td>123000</td>\n",
       "      <td>140000</td>\n",
       "      <td>139000</td>\n",
       "      <td>138000</td>\n",
       "      <td>...</td>\n",
       "      <td>119000</td>\n",
       "      <td>100000</td>\n",
       "      <td>179000</td>\n",
       "      <td>169000</td>\n",
       "      <td>118000</td>\n",
       "      <td>118000</td>\n",
       "      <td>114000</td>\n",
       "      <td>128000</td>\n",
       "      <td>121000</td>\n",
       "      <td>124000</td>\n",
       "    </tr>\n",
       "    <tr>\n",
       "      <th>3</th>\n",
       "      <td>406148</td>\n",
       "      <td>355000</td>\n",
       "      <td>50000</td>\n",
       "      <td>73000</td>\n",
       "      <td>53000</td>\n",
       "      <td>65000</td>\n",
       "      <td>75000</td>\n",
       "      <td>100000</td>\n",
       "      <td>53000</td>\n",
       "      <td>52000</td>\n",
       "      <td>...</td>\n",
       "      <td>48000</td>\n",
       "      <td>55000</td>\n",
       "      <td>65000</td>\n",
       "      <td>85000</td>\n",
       "      <td>95000</td>\n",
       "      <td>68000</td>\n",
       "      <td>62000</td>\n",
       "      <td>0</td>\n",
       "      <td>118000</td>\n",
       "      <td>70000</td>\n",
       "    </tr>\n",
       "    <tr>\n",
       "      <th>4</th>\n",
       "      <td>406180</td>\n",
       "      <td>597000</td>\n",
       "      <td>96000</td>\n",
       "      <td>82000</td>\n",
       "      <td>71000</td>\n",
       "      <td>72000</td>\n",
       "      <td>86000</td>\n",
       "      <td>55000</td>\n",
       "      <td>55000</td>\n",
       "      <td>75000</td>\n",
       "      <td>...</td>\n",
       "      <td>82000</td>\n",
       "      <td>56000</td>\n",
       "      <td>70000</td>\n",
       "      <td>59000</td>\n",
       "      <td>105000</td>\n",
       "      <td>70000</td>\n",
       "      <td>77000</td>\n",
       "      <td>87000</td>\n",
       "      <td>59000</td>\n",
       "      <td>55000</td>\n",
       "    </tr>\n",
       "  </tbody>\n",
       "</table>\n",
       "<p>5 rows × 93 columns</p>\n",
       "</div>"
      ],
      "text/plain": [
       "      TID  остаток на 31.08.2022 (входящий)  2022-09-01 00:00:00  \\\n",
       "0  406136                            160000                90000   \n",
       "1  406139                            387000               103000   \n",
       "2  406145                            287000               143000   \n",
       "3  406148                            355000                50000   \n",
       "4  406180                            597000                96000   \n",
       "\n",
       "   2022-09-02 00:00:00  2022-09-03 00:00:00  2022-09-04 00:00:00  \\\n",
       "0               105000                99000               107000   \n",
       "1               206000               168000               124000   \n",
       "2               136000               124000               117000   \n",
       "3                73000                53000                65000   \n",
       "4                82000                71000                72000   \n",
       "\n",
       "   2022-09-05 00:00:00  2022-09-06 00:00:00  2022-09-07 00:00:00  \\\n",
       "0               110000                60000                75000   \n",
       "1                78000               165000               164000   \n",
       "2               123000               140000               139000   \n",
       "3                75000               100000                53000   \n",
       "4                86000                55000                55000   \n",
       "\n",
       "   2022-09-08 00:00:00  ...  2022-11-21 00:00:00  2022-11-22 00:00:00  \\\n",
       "0                89000  ...                91000                78000   \n",
       "1               174000  ...               164000               153000   \n",
       "2               138000  ...               119000               100000   \n",
       "3                52000  ...                48000                55000   \n",
       "4                75000  ...                82000                56000   \n",
       "\n",
       "   2022-11-23 00:00:00  2022-11-24 00:00:00  2022-11-25 00:00:00  \\\n",
       "0                    0               165000                    0   \n",
       "1               151000               157000               206000   \n",
       "2               179000               169000               118000   \n",
       "3                65000                85000                95000   \n",
       "4                70000                59000               105000   \n",
       "\n",
       "   2022-11-26 00:00:00  2022-11-27 00:00:00  2022-11-28 00:00:00  \\\n",
       "0               189000               106000                94000   \n",
       "1               182000               123000               138000   \n",
       "2               118000               114000               128000   \n",
       "3                68000                62000                    0   \n",
       "4                70000                77000                87000   \n",
       "\n",
       "   2022-11-29 00:00:00  2022-11-30 00:00:00  \n",
       "0                75000                74000  \n",
       "1               112000               179000  \n",
       "2               121000               124000  \n",
       "3               118000                70000  \n",
       "4                59000                55000  \n",
       "\n",
       "[5 rows x 93 columns]"
      ]
     },
     "execution_count": 4,
     "metadata": {},
     "output_type": "execute_result"
    }
   ],
   "source": [
    "data = pd.read_excel('../data/raw/terminal_data_hackathon v4.xlsx', 'Incomes')\n",
    "data.head()"
   ]
  },
  {
   "cell_type": "code",
   "execution_count": 5,
   "id": "b691d9aa-8ffe-4ee6-97c0-72238f10e220",
   "metadata": {},
   "outputs": [],
   "source": [
    "config = {'num_terminals': dist['from_int'].max() + 1,\n",
    "          'persent_day_income': 0.02 / 365,\n",
    "          'terminal_service_cost': 100,\n",
    "          'terminal_service_persent': 0, #0.01\n",
    "          'max_terminal_money': 1000000,\n",
    "          'max_not_service_days': 14,\n",
    "          'armored_car_day_cost': 20000,\n",
    "          'work_time': 10 * 60,\n",
    "          'service_time': 10,\n",
    "          'left_days_coef': 0,\n",
    "          'encashment_coef': 0,}"
   ]
  },
  {
   "cell_type": "code",
   "execution_count": 6,
   "id": "4867672a-c250-4811-923e-d7450aab051c",
   "metadata": {},
   "outputs": [],
   "source": [
    "cash = (data[data.columns[1:]].values * (1 + 0.2 * (random.random() - 0.5))).copy()\n",
    "real_cash = data[data.columns[1:]].values.copy()\n",
    "cash = real_cash.copy()"
   ]
  },
  {
   "cell_type": "code",
   "execution_count": 7,
   "id": "cc84e1b6-9d29-449e-a182-3644b8aa3a20",
   "metadata": {},
   "outputs": [
    {
     "data": {
      "text/plain": [
       "(1630, 92)"
      ]
     },
     "execution_count": 7,
     "metadata": {},
     "output_type": "execute_result"
    }
   ],
   "source": [
    "cash = cash.astype(int)\n",
    "cash.shape"
   ]
  },
  {
   "cell_type": "code",
   "execution_count": 8,
   "id": "0d9cb595-971e-4bdc-ae18-19ed9d9222f9",
   "metadata": {},
   "outputs": [],
   "source": [
    "INF = 1e9"
   ]
  },
  {
   "cell_type": "code",
   "execution_count": 11,
   "id": "c9698d8b-baec-49af-9566-2c5d717826ed",
   "metadata": {},
   "outputs": [],
   "source": [
    "def get_cost(days_left):\n",
    "    if days_left == 0: return INF\n",
    "    # return 2 ** (config['max_not_service_days'] - days_left)\n",
    "    l = 10000 / (2 ** days_left)\n",
    "    # return 1 if days_left > 2 else l\n",
    "    return 100 * l if days_left == big_id and days_left > 5 else l"
   ]
  },
  {
   "cell_type": "code",
   "execution_count": 12,
   "id": "61f55fb3-2e68-4cf1-a344-2d2d429c740c",
   "metadata": {},
   "outputs": [
    {
     "name": "stderr",
     "output_type": "stream",
     "text": [
      "  0%|                                                                                                          | 0/31 [00:00<?, ?it/s]"
     ]
    },
    {
     "name": "stdout",
     "output_type": "stream",
     "text": [
      "[0, 11, 7, 25, 35, 37, 48, 66, 64, 62, 80, 100, 73, 1022]\n"
     ]
    },
    {
     "name": "stderr",
     "output_type": "stream",
     "text": [
      "  3%|███▏                                                                                              | 1/31 [00:05<02:36,  5.23s/it]"
     ]
    },
    {
     "name": "stdout",
     "output_type": "stream",
     "text": [
      "[11, 7, 25, 35, 37, 48, 66, 64, 62, 80, 100, 73, 1022, 0]\n"
     ]
    },
    {
     "name": "stderr",
     "output_type": "stream",
     "text": [
      "  6%|██████▎                                                                                           | 2/31 [00:10<02:25,  5.03s/it]"
     ]
    },
    {
     "name": "stdout",
     "output_type": "stream",
     "text": [
      "[0, 2, 1, 12, 56, 75, 75, 78, 91, 113, 84, 1026, 9, 8]\n"
     ]
    },
    {
     "name": "stderr",
     "output_type": "stream",
     "text": [
      " 10%|█████████▍                                                                                        | 3/31 [00:34<06:25, 13.78s/it]"
     ]
    },
    {
     "name": "stdout",
     "output_type": "stream",
     "text": [
      "[0, 2, 1, 4, 84, 81, 83, 96, 115, 89, 945, 16, 16, 98]\n"
     ]
    },
    {
     "name": "stderr",
     "output_type": "stream",
     "text": [
      " 13%|████████████▋                                                                                     | 4/31 [00:53<07:07, 15.82s/it]"
     ]
    },
    {
     "name": "stdout",
     "output_type": "stream",
     "text": [
      "[1, 1, 2, 84, 79, 83, 98, 115, 88, 745, 18, 16, 102, 198]\n"
     ]
    },
    {
     "name": "stderr",
     "output_type": "stream",
     "text": [
      " 16%|███████████████▊                                                                                  | 5/31 [01:14<07:44, 17.86s/it]"
     ]
    },
    {
     "name": "stdout",
     "output_type": "stream",
     "text": [
      "[0, 2, 81, 80, 83, 98, 115, 89, 548, 19, 18, 104, 200, 193]\n"
     ]
    },
    {
     "name": "stderr",
     "output_type": "stream",
     "text": [
      " 19%|██████████████████▉                                                                               | 6/31 [01:43<08:55, 21.43s/it]"
     ]
    },
    {
     "name": "stdout",
     "output_type": "stream",
     "text": [
      "[0, 80, 81, 81, 98, 114, 90, 364, 19, 18, 105, 202, 193, 185]\n"
     ]
    },
    {
     "name": "stderr",
     "output_type": "stream",
     "text": [
      " 23%|██████████████████████▏                                                                           | 7/31 [02:15<09:59, 24.96s/it]"
     ]
    },
    {
     "name": "stdout",
     "output_type": "stream",
     "text": [
      "[75, 79, 81, 98, 114, 91, 192, 19, 18, 105, 205, 195, 187, 171]\n"
     ]
    },
    {
     "name": "stderr",
     "output_type": "stream",
     "text": [
      " 26%|█████████████████████████▎                                                                        | 8/31 [02:26<07:51, 20.50s/it]"
     ]
    },
    {
     "name": "stdout",
     "output_type": "stream",
     "text": [
      "[76, 80, 97, 115, 100, 147, 24, 23, 108, 210, 197, 194, 179, 80]\n"
     ]
    },
    {
     "name": "stderr",
     "output_type": "stream",
     "text": [
      " 29%|████████████████████████████▍                                                                     | 9/31 [02:59<08:56, 24.40s/it]"
     ]
    },
    {
     "name": "stdout",
     "output_type": "stream",
     "text": [
      "[26, 96, 115, 102, 147, 26, 37, 124, 224, 206, 203, 187, 89, 48]\n"
     ]
    },
    {
     "name": "stderr",
     "output_type": "stream",
     "text": [
      " 32%|███████████████████████████████▎                                                                 | 10/31 [03:05<06:37, 18.94s/it]"
     ]
    },
    {
     "name": "stdout",
     "output_type": "stream",
     "text": [
      "[15, 106, 100, 148, 27, 36, 126, 235, 216, 207, 193, 96, 58, 67]\n"
     ]
    },
    {
     "name": "stderr",
     "output_type": "stream",
     "text": [
      " 35%|██████████████████████████████████▍                                                              | 11/31 [03:18<05:38, 16.90s/it]"
     ]
    },
    {
     "name": "stdout",
     "output_type": "stream",
     "text": [
      "[12, 89, 146, 27, 36, 126, 236, 220, 212, 200, 107, 66, 72, 81]\n"
     ]
    },
    {
     "name": "stderr",
     "output_type": "stream",
     "text": [
      " 39%|█████████████████████████████████████▌                                                           | 12/31 [03:34<05:15, 16.62s/it]"
     ]
    },
    {
     "name": "stdout",
     "output_type": "stream",
     "text": [
      "[0, 136, 26, 38, 128, 244, 222, 212, 200, 112, 78, 80, 85, 69]\n"
     ]
    },
    {
     "name": "stderr",
     "output_type": "stream",
     "text": [
      " 42%|████████████████████████████████████████▋                                                        | 13/31 [03:55<05:24, 18.04s/it]"
     ]
    },
    {
     "name": "stdout",
     "output_type": "stream",
     "text": [
      "[16, 18, 37, 126, 245, 230, 212, 202, 111, 78, 81, 86, 73, 115]\n"
     ]
    },
    {
     "name": "stderr",
     "output_type": "stream",
     "text": [
      " 45%|███████████████████████████████████████████▊                                                     | 14/31 [04:00<04:00, 14.16s/it]"
     ]
    },
    {
     "name": "stdout",
     "output_type": "stream",
     "text": [
      "[0, 1, 99, 245, 232, 214, 217, 117, 84, 82, 89, 78, 128, 44]\n"
     ]
    },
    {
     "name": "stderr",
     "output_type": "stream",
     "text": [
      " 48%|██████████████████████████████████████████████▉                                                  | 15/31 [04:09<03:22, 12.68s/it]"
     ]
    },
    {
     "name": "stdout",
     "output_type": "stream",
     "text": [
      "[1, 0, 164, 231, 217, 219, 122, 91, 83, 92, 80, 130, 47, 153]\n"
     ]
    },
    {
     "name": "stderr",
     "output_type": "stream",
     "text": [
      " 52%|██████████████████████████████████████████████████                                               | 16/31 [04:24<03:17, 13.16s/it]"
     ]
    },
    {
     "name": "stdout",
     "output_type": "stream",
     "text": [
      "[0, 11, 224, 217, 221, 127, 92, 91, 101, 86, 133, 47, 156, 124]\n"
     ]
    },
    {
     "name": "stderr",
     "output_type": "stream",
     "text": [
      " 55%|█████████████████████████████████████████████████████▏                                           | 17/31 [04:48<03:50, 16.45s/it]"
     ]
    },
    {
     "name": "stdout",
     "output_type": "stream",
     "text": [
      "[0, 63, 213, 221, 129, 97, 94, 103, 90, 137, 47, 157, 125, 154]\n"
     ]
    },
    {
     "name": "stderr",
     "output_type": "stream",
     "text": [
      " 58%|████████████████████████████████████████████████████████▎                                        | 18/31 [05:15<04:16, 19.72s/it]"
     ]
    },
    {
     "name": "stdout",
     "output_type": "stream",
     "text": [
      "[0, 127, 217, 131, 99, 98, 103, 94, 144, 54, 163, 128, 155, 117]\n"
     ]
    },
    {
     "name": "stderr",
     "output_type": "stream",
     "text": [
      " 61%|███████████████████████████████████████████████████████████▍                                     | 19/31 [05:25<03:19, 16.66s/it]"
     ]
    },
    {
     "name": "stdout",
     "output_type": "stream",
     "text": [
      "[0, 179, 131, 99, 98, 103, 96, 144, 57, 168, 137, 161, 121, 136]\n"
     ]
    },
    {
     "name": "stderr",
     "output_type": "stream",
     "text": [
      " 65%|██████████████████████████████████████████████████████████████▌                                  | 20/31 [05:34<02:40, 14.59s/it]"
     ]
    },
    {
     "name": "stdout",
     "output_type": "stream",
     "text": [
      "[16, 127, 99, 97, 103, 99, 154, 58, 170, 140, 162, 126, 136, 143]\n"
     ]
    },
    {
     "name": "stderr",
     "output_type": "stream",
     "text": [
      " 68%|█████████████████████████████████████████████████████████████████▋                               | 21/31 [05:43<02:07, 12.76s/it]"
     ]
    },
    {
     "name": "stdout",
     "output_type": "stream",
     "text": [
      "[24, 89, 96, 105, 103, 157, 62, 177, 142, 171, 131, 145, 154, 74]\n"
     ]
    },
    {
     "name": "stderr",
     "output_type": "stream",
     "text": [
      " 71%|████████████████████████████████████████████████████████████████████▊                            | 22/31 [05:51<01:41, 11.31s/it]"
     ]
    },
    {
     "name": "stdout",
     "output_type": "stream",
     "text": [
      "[3, 84, 103, 103, 160, 65, 179, 147, 178, 137, 154, 162, 82, 73]\n"
     ]
    },
    {
     "name": "stderr",
     "output_type": "stream",
     "text": [
      " 74%|███████████████████████████████████████████████████████████████████████▉                         | 23/31 [06:11<01:51, 13.96s/it]"
     ]
    },
    {
     "name": "stdout",
     "output_type": "stream",
     "text": [
      "[0, 77, 104, 160, 65, 186, 147, 183, 146, 157, 167, 92, 78, 68]\n"
     ]
    },
    {
     "name": "stderr",
     "output_type": "stream",
     "text": [
      " 77%|███████████████████████████████████████████████████████████████████████████                      | 24/31 [06:35<01:58, 16.99s/it]"
     ]
    },
    {
     "name": "stdout",
     "output_type": "stream",
     "text": [
      "[0, 55, 156, 68, 188, 150, 183, 149, 169, 172, 94, 83, 72, 91]\n"
     ]
    },
    {
     "name": "stderr",
     "output_type": "stream",
     "text": [
      " 81%|██████████████████████████████████████████████████████████████████████████████▏                  | 25/31 [07:00<01:56, 19.43s/it]"
     ]
    },
    {
     "name": "stdout",
     "output_type": "stream",
     "text": [
      "[0, 70, 65, 188, 152, 186, 157, 171, 179, 100, 89, 79, 96, 98]\n"
     ]
    },
    {
     "name": "stderr",
     "output_type": "stream",
     "text": [
      " 84%|█████████████████████████████████████████████████████████████████████████████████▎               | 26/31 [07:17<01:33, 18.62s/it]"
     ]
    },
    {
     "name": "stdout",
     "output_type": "stream",
     "text": [
      "[0, 30, 184, 154, 186, 160, 176, 181, 103, 91, 81, 100, 105, 79]\n"
     ]
    },
    {
     "name": "stderr",
     "output_type": "stream",
     "text": [
      " 87%|████████████████████████████████████████████████████████████████████████████████████▍            | 27/31 [07:26<01:02, 15.60s/it]"
     ]
    },
    {
     "name": "stdout",
     "output_type": "stream",
     "text": [
      "[1, 73, 154, 186, 161, 178, 183, 109, 95, 85, 102, 105, 80, 118]\n"
     ]
    },
    {
     "name": "stderr",
     "output_type": "stream",
     "text": [
      " 90%|███████████████████████████████████████████████████████████████████████████████████████▌         | 28/31 [07:33<00:39, 13.28s/it]"
     ]
    },
    {
     "name": "stdout",
     "output_type": "stream",
     "text": [
      "[1, 63, 182, 161, 181, 187, 111, 99, 88, 107, 112, 83, 121, 134]\n"
     ]
    },
    {
     "name": "stderr",
     "output_type": "stream",
     "text": [
      " 94%|██████████████████████████████████████████████████████████████████████████████████████████▋      | 29/31 [07:52<00:29, 14.99s/it]"
     ]
    },
    {
     "name": "stdout",
     "output_type": "stream",
     "text": [
      "[0, 70, 162, 182, 187, 113, 100, 94, 108, 115, 88, 124, 137, 150]\n"
     ]
    },
    {
     "name": "stderr",
     "output_type": "stream",
     "text": [
      " 97%|█████████████████████████████████████████████████████████████████████████████████████████████▊   | 30/31 [08:07<00:14, 14.83s/it]"
     ]
    },
    {
     "name": "stdout",
     "output_type": "stream",
     "text": [
      "[0, 62, 182, 187, 115, 105, 100, 117, 122, 94, 133, 144, 154, 115]\n"
     ]
    },
    {
     "name": "stderr",
     "output_type": "stream",
     "text": [
      "100%|█████████████████████████████████████████████████████████████████████████████████████████████████| 31/31 [08:17<00:00, 16.03s/it]"
     ]
    },
    {
     "name": "stdout",
     "output_type": "stream",
     "text": [
      "1230741.2054794522\n"
     ]
    },
    {
     "name": "stderr",
     "output_type": "stream",
     "text": [
      "\n"
     ]
    }
   ],
   "source": [
    "cash = real_cash.copy()\n",
    "num_vehicles = 5\n",
    "num_terminals = cash.shape[0]\n",
    "time_until_force = [config['max_not_service_days'] for i in range(num_terminals)]\n",
    "cur_cash = cash[:, 0]\n",
    "cash = cash[:, 1:]\n",
    "\n",
    "hist = {'visited': [], 'loss': []}\n",
    "bad = False\n",
    "\n",
    "myvrp = vrpp.VRPP(dist, 10, 10 * 60, num_vehicles, solution_limit=100, time_limit=100, dead_loss=False)\n",
    "\n",
    "days = 31\n",
    "big_id = config['max_not_service_days']\n",
    "for day in tqdm(range(days)):\n",
    "    mask = []\n",
    "    cost = []\n",
    "    to_counter = [0 for i in range(config['max_not_service_days'])]\n",
    "    \n",
    "    for i in range(num_terminals):\n",
    "        current_money = cur_cash[i]\n",
    "        force = time_until_force[i]\n",
    "        for forecast in range(force):\n",
    "            if current_money > config['max_terminal_money']:\n",
    "                force = forecast\n",
    "                break\n",
    "            if not forecast:\n",
    "                current_money += cash[i][day + forecast]\n",
    "            else:\n",
    "                current_money += cash[i][day + forecast] # check later\n",
    "        mask.append(1)\n",
    "        cost.append(int(get_cost(force)))\n",
    "        to_counter[force] += 1\n",
    "    \n",
    "    print(to_counter)\n",
    "    # # for i in range(100):\n",
    "    # #     print(\" \" * (4 - len(str(cost[i]))) + str(cost[i]), end=' ')\n",
    "    # # print()\n",
    "    # print(\" \"cost[:100])\n",
    "    \n",
    "    visited, paths = myvrp.find_vrp(cost, mask)\n",
    "    hist['visited'].append(visited)\n",
    "    \n",
    "    prev = []\n",
    "    cur_loss = 0\n",
    "    for i in range(num_terminals):\n",
    "        if cur_cash[i] > config['max_terminal_money'] or time_until_force[i] == 0:\n",
    "            if not visited[i]:\n",
    "                print('Dead')\n",
    "                bad = True\n",
    "                break\n",
    "\n",
    "        if visited[i]:\n",
    "            cur_loss += max(config['terminal_service_cost'], cur_cash[i] * config['terminal_service_persent'])\n",
    "            cur_cash[i] = 0\n",
    "            time_until_force[i] = config['max_not_service_days'] + 1\n",
    "\n",
    "\n",
    "        time_until_force[i] -= 1 \n",
    "        cur_loss += cur_cash[i] * config['persent_day_income']\n",
    "        cur_cash[i] += real_cash[i][day]\n",
    "    \n",
    "    if bad:\n",
    "        break\n",
    "    \n",
    "    hist['loss'].append(cur_loss)\n",
    "    big_id -= 1\n",
    "    \n",
    "print(sum(hist['loss']))"
   ]
  },
  {
   "cell_type": "markdown",
   "id": "c85fe4bd-7d33-4f8f-b141-57b4116c6752",
   "metadata": {},
   "source": [
    "## Add optuna"
   ]
  },
  {
   "cell_type": "code",
   "execution_count": 13,
   "id": "dd10fb85-1182-4fbb-98b1-2c77f079ed6b",
   "metadata": {},
   "outputs": [],
   "source": [
    "def predict(trial, num_vehicles=5, verbose=True):\n",
    "    \n",
    "    coefs = [trial.suggest_int('coef_{}'.format(i), 0, 100, step=5, log=False) for i in range(config['max_not_service_days'])]\n",
    "    def get_cost(days_left):\n",
    "        if days_left == 0: return INF\n",
    "        # return 2 ** (config['max_not_service_days'] - days_left)\n",
    "        # return int(10000 / (2 ** days_left))\n",
    "        return coefs[days_left]\n",
    "    \n",
    "    num_terminals = cash.shape[0]\n",
    "    time_until_force = [config['max_not_service_days'] - 1 for i in range(num_terminals)]\n",
    "    cur_cash = np.zeros(num_terminals)\n",
    "    hist = {'visited': [], 'loss': []}\n",
    "    bad = False\n",
    "\n",
    "    myvrp = vrpp.VRPP(dist, 10, 10 * 60, num_vehicles, solution_limit=100, time_limit=100, dead_loss=False)\n",
    "\n",
    "    \n",
    "    \n",
    "    days = 31\n",
    "    if verbose:\n",
    "        iterator = tqdm(range(days))\n",
    "    else:\n",
    "        iterator = range(days)\n",
    "    sum_inf = 0\n",
    "    for day in iterator:\n",
    "        mask = []\n",
    "        cost = []\n",
    "        for i in range(num_terminals):\n",
    "            current_money = cur_cash[i]\n",
    "            force = time_until_force[i]\n",
    "            for forecast in range(force):\n",
    "                if current_money > config['max_terminal_money']:\n",
    "                    force = forecast\n",
    "                    break\n",
    "                if not forecast:\n",
    "                    current_money += cash[i][day + forecast]\n",
    "                else:\n",
    "                    current_money += cash[i][day + forecast] # check later\n",
    "            mask.append(1)\n",
    "            cost.append(int(get_cost(force)))\n",
    "        \n",
    "        visited, paths = myvrp.find_vrp(cost, mask)\n",
    "        hist['visited'].append(visited)\n",
    "\n",
    "        prev = []\n",
    "        cur_loss = 0\n",
    "        for i in range(num_terminals):\n",
    "            if cur_cash[i] > config['max_terminal_money'] or time_until_force[i] == 0:\n",
    "                if not visited[i]:\n",
    "                    print('Dead')\n",
    "                    return sum_inf\n",
    "\n",
    "            if visited[i]:\n",
    "                cur_loss += config['terminal_service_cost']\n",
    "                cur_cash[i] = 0\n",
    "                time_until_force[i] = 14\n",
    "\n",
    "\n",
    "            time_until_force[i] -= 1 \n",
    "            cur_loss += cur_cash[i] * config['persent_day_income']\n",
    "            cur_cash[i] += real_cash[i][day]\n",
    "\n",
    "        for i in range(num_terminals):\n",
    "            sum_inf += time_until_force[i] <= 1\n",
    "\n",
    "        hist['loss'].append(cur_loss)\n",
    "        \n",
    "    return 0"
   ]
  },
  {
   "cell_type": "code",
   "execution_count": 14,
   "id": "123fdfab-0347-4e95-b71a-dbb6372c14ae",
   "metadata": {},
   "outputs": [],
   "source": [
    "import optuna\n",
    "from optuna.samplers import RandomSampler\n",
    "from optuna.samplers import TPESampler\n",
    "\n",
    "optuna.logging.set_verbosity(optuna.logging.ERROR)\n"
   ]
  },
  {
   "cell_type": "code",
   "execution_count": null,
   "id": "4ae03afa-ad30-42a9-9a0f-dd9e01deb68a",
   "metadata": {},
   "outputs": [
    {
     "name": "stderr",
     "output_type": "stream",
     "text": [
      "  0%|                                                                                                         | 0/100 [00:00<?, ?it/s]"
     ]
    }
   ],
   "source": [
    "study = optuna.create_study(sampler=TPESampler(seed=42,\n",
    "                                               multivariate=True,\n",
    "                                               warn_independent_sampling=False,), )\n",
    "\n",
    "study.optimize(lambda trial: predict(trial, 5, False),\n",
    "               n_trials=100,\n",
    "               n_jobs=6,\n",
    "               show_progress_bar=True,)"
   ]
  },
  {
   "cell_type": "code",
   "execution_count": null,
   "id": "33e04e6b-0723-48c9-bbf5-be9695664b04",
   "metadata": {},
   "outputs": [],
   "source": []
  },
  {
   "cell_type": "code",
   "execution_count": null,
   "id": "859cc7e9-6a8f-468b-9f87-6f49cbe37aae",
   "metadata": {},
   "outputs": [],
   "source": []
  }
 ],
 "metadata": {
  "kernelspec": {
   "display_name": "Python 3 (ipykernel)",
   "language": "python",
   "name": "python3"
  },
  "language_info": {
   "codemirror_mode": {
    "name": "ipython",
    "version": 3
   },
   "file_extension": ".py",
   "mimetype": "text/x-python",
   "name": "python",
   "nbconvert_exporter": "python",
   "pygments_lexer": "ipython3",
   "version": "3.10.8"
  }
 },
 "nbformat": 4,
 "nbformat_minor": 5
}
